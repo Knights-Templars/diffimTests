{
 "cells": [
  {
   "cell_type": "code",
   "execution_count": 1,
   "metadata": {
    "collapsed": false
   },
   "outputs": [
    {
     "name": "stdout",
     "output_type": "stream",
     "text": [
      "3\n",
      "0.7.0\n"
     ]
    }
   ],
   "source": [
    "import numpy as np\n",
    "%matplotlib inline\n",
    "import matplotlib.pyplot as plt\n",
    "import matplotlib\n",
    "matplotlib.style.use('ggplot')\n",
    "import pandas as pd\n",
    "import multiprocessing\n",
    "from joblib import Parallel, delayed\n",
    "num_cores = multiprocessing.cpu_count()\n",
    "if num_cores == 32:\n",
    "    num_cores = 24  # lsst-dev - don't use all the cores, man.\n",
    "elif num_cores == 8:\n",
    "    num_cores = 3\n",
    "elif num_cores == 4:\n",
    "    num_cores = 2\n",
    "print num_cores\n",
    "\n",
    "import seaborn as sns\n",
    "print sns.__version__\n",
    "sns.set(style=\"whitegrid\", palette=\"pastel\", color_codes=True)\n",
    "\n",
    "class sizeme():\n",
    "    \"\"\" Class to change html fontsize of object's representation\"\"\"\n",
    "    def __init__(self, ob, size=50, height=120):\n",
    "        self.ob = ob\n",
    "        self.size = size\n",
    "        self.height = height\n",
    "    def _repr_html_(self):\n",
    "        repl_tuple = (self.size, self.height, self.ob._repr_html_())\n",
    "        return u'<span style=\"font-size:{0}%; line-height:{1}%\">{2}</span>'.format(*repl_tuple)\n",
    "\n",
    "pd.options.display.max_columns = 9999\n",
    "pd.set_option('display.width', 9999)\n",
    "\n",
    "import warnings\n",
    "warnings.filterwarnings('ignore')\n",
    "\n",
    "import diffimTests as dit"
   ]
  },
  {
   "cell_type": "code",
   "execution_count": 2,
   "metadata": {
    "collapsed": true
   },
   "outputs": [],
   "source": [
    "# Set up console so we can reattach via terminal ipython later. See:\n",
    "# https://stackoverflow.com/questions/19479645/using-ipython-console-along-side-ipython-notebook\n",
    "\n",
    "%qtconsole\n",
    "\n",
    "# Then do `ipython console --existing` in a terminal to connect and have access to same data!\n",
    "# But note, do not do CTRL-D in that terminal or it will kill the kernel!"
   ]
  },
  {
   "cell_type": "code",
   "execution_count": 12,
   "metadata": {
    "collapsed": false
   },
   "outputs": [
    {
     "name": "stdout",
     "output_type": "stream",
     "text": [
      "{'ZOGY': {'FP': 4, 'FN': 24, 'TP': 26}, 'ALstack': {'FP': 2, 'FN': 25, 'TP': 25}, 'SZOGY': {'FP': 4, 'FN': 24, 'TP': 26}, 'ALstack_decorr': {'FP': 5, 'FN': 25, 'TP': 25}}\n"
     ]
    }
   ],
   "source": [
    "reload(dit)\n",
    "testObj = dit.DiffimTest(n_sources=500, sourceFluxRange=(2000, 20000), \n",
    "                         varFlux2=np.linspace(200, 2000, 50),\n",
    "                         #varFlux2=np.repeat(500., 50),\n",
    "                         templateNoNoise=False, skyLimited=True)\n",
    "res = testObj.runTest(returnSources=True)\n",
    "detectedSources = res['sources']\n",
    "del res['sources']\n",
    "print res"
   ]
  },
  {
   "cell_type": "markdown",
   "metadata": {},
   "source": [
    "Do forced phot. now with funcs in diffimTests:"
   ]
  },
  {
   "cell_type": "code",
   "execution_count": 5,
   "metadata": {
    "collapsed": true
   },
   "outputs": [],
   "source": [
    "cats = testObj.doForcedPhot(transientsOnly=True)"
   ]
  },
  {
   "cell_type": "code",
   "execution_count": 6,
   "metadata": {
    "collapsed": false
   },
   "outputs": [
    {
     "data": {
      "text/plain": [
       "<matplotlib.text.Text at 0x11c6f0610>"
      ]
     },
     "execution_count": 6,
     "metadata": {},
     "output_type": "execute_result"
    },
    {
     "data": {
      "image/png": "[encoded data removed]",
      "text/plain": [
       "<matplotlib.figure.Figure at 0x119405ed0>"
      ]
     },
     "metadata": {},
     "output_type": "display_data"
    }
   ],
   "source": [
    "sources, _, _, mc1, mc2, _ = cats\n",
    "plt.scatter(sources['inputFlux_science'], mc1['base_PsfFlux_flux']/mc1['base_PsfFlux_fluxSigma'], label='ZOGY')\n",
    "plt.scatter(sources['inputFlux_science'], mc2['base_PsfFlux_flux']/mc2['base_PsfFlux_fluxSigma'], label='AL', color='r')\n",
    "plt.legend(loc='upper left')\n",
    "plt.xlabel('input flux')\n",
    "plt.ylabel('measured SNR')"
   ]
  },
  {
   "cell_type": "markdown",
   "metadata": {
    "collapsed": true
   },
   "source": [
    "Figure out matching"
   ]
  },
  {
   "cell_type": "code",
   "execution_count": 11,
   "metadata": {
    "collapsed": false
   },
   "outputs": [
    {
     "name": "stdout",
     "output_type": "stream",
     "text": [
      "50\n",
      "389.757115114 389.757115114\n"
     ]
    }
   ],
   "source": [
    "import lsst.afw.table as afwTable\n",
    "\n",
    "matches = afwTable.matchXy(mc1, mc2, 1.0)\n",
    "print len(matches)\n",
    "match = matches[0]\n",
    "print match[0].getX(), match[1].getX()"
   ]
  },
  {
   "cell_type": "code",
   "execution_count": 14,
   "metadata": {
    "collapsed": false
   },
   "outputs": [],
   "source": [
    "ZOGY_detections = dit.doDetection(testObj.D_ZOGY.asAfwExposure(), asDF=False)"
   ]
  },
  {
   "cell_type": "code",
   "execution_count": 17,
   "metadata": {
    "collapsed": false
   },
   "outputs": [
    {
     "data": {
      "text/plain": [
       "26"
      ]
     },
     "execution_count": 17,
     "metadata": {},
     "output_type": "execute_result"
    }
   ],
   "source": [
    "matches = afwTable.matchXy(ZOGY_detections, mc1, 1.0)\n",
    "len(matches)"
   ]
  },
  {
   "cell_type": "code",
   "execution_count": null,
   "metadata": {
    "collapsed": true
   },
   "outputs": [],
   "source": []
  }
 ],
 "metadata": {
  "kernelspec": {
   "display_name": "Python 2",
   "language": "python",
   "name": "python2"
  },
  "language_info": {
   "codemirror_mode": {
    "name": "ipython",
    "version": 2
   },
   "file_extension": ".py",
   "mimetype": "text/x-python",
   "name": "python",
   "nbconvert_exporter": "python",
   "pygments_lexer": "ipython2",
   "version": "2.7.12"
  }
 },
 "nbformat": 4,
 "nbformat_minor": 0
}
