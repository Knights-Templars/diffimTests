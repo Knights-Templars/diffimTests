{
 "cells": [
  {
   "cell_type": "code",
   "execution_count": 1,
   "metadata": {
    "collapsed": false
   },
   "outputs": [],
   "source": [
    "import matplotlib.pyplot as plt\n",
    "%matplotlib inline\n",
    "import numpy as np\n",
    "import diffimTests as dit\n",
    "\n",
    "import warnings\n",
    "warnings.filterwarnings('ignore')"
   ]
  },
  {
   "cell_type": "markdown",
   "metadata": {},
   "source": [
    "Do 40x10 runs, each with 50 var sources with fluxes that ramp up from 200 to 2000.\n",
    "\n",
    "Each run has the same 50 var source fluxes."
   ]
  },
  {
   "cell_type": "code",
   "execution_count": 6,
   "metadata": {
    "collapsed": false
   },
   "outputs": [
    {
     "name": "stdout",
     "output_type": "stream",
     "text": [
      "0 400.0\n",
      "RUNNING: 10\n",
      "CORES: 3\n",
      "HERE: True True\n",
      "ERROR RUNNING SEED: 66\n",
      "HERE: True True\n"
     ]
    },
    {
     "name": "stderr",
     "output_type": "stream",
     "text": [
      "[Parallel(n_jobs=None)]: Done   1 out of   1 | elapsed:    7.0s remaining:    0.0s\n"
     ]
    },
    {
     "name": "stdout",
     "output_type": "stream",
     "text": [
      "ERROR RUNNING SEED: 67\n",
      "HERE: True True\n",
      "ERROR RUNNING SEED: 68\n",
      "HERE: True True\n",
      "ERROR RUNNING SEED: 69\n",
      "HERE: True True\n",
      "ERROR RUNNING SEED: 70\n",
      "HERE: True True\n",
      "ERROR RUNNING SEED: 71\n",
      "HERE: True True\n",
      "ERROR RUNNING SEED: 72\n",
      "HERE: True True\n",
      "ERROR RUNNING SEED: 73\n",
      "HERE: True True\n",
      "ERROR RUNNING SEED: 74\n",
      "HERE: True True\n"
     ]
    },
    {
     "name": "stderr",
     "output_type": "stream",
     "text": [
      "[Parallel(n_jobs=None)]: Done  10 out of  10 | elapsed:  1.4min finished\n"
     ]
    },
    {
     "name": "stdout",
     "output_type": "stream",
     "text": [
      "RUNNING: 10\n",
      "CORES: 3\n",
      "HERE: False True\n",
      "ERROR RUNNING SEED: 66\n",
      "HERE: False True\n"
     ]
    },
    {
     "name": "stderr",
     "output_type": "stream",
     "text": [
      "[Parallel(n_jobs=None)]: Done   1 out of   1 | elapsed:    7.4s remaining:    0.0s\n"
     ]
    },
    {
     "name": "stdout",
     "output_type": "stream",
     "text": [
      "ERROR RUNNING SEED: 67\n",
      "HERE: False True\n",
      "ERROR RUNNING SEED: 68\n",
      "HERE: False True\n",
      "ERROR RUNNING SEED: 69\n",
      "HERE: False True\n",
      "ERROR RUNNING SEED: 70\n",
      "HERE: False True\n",
      "ERROR RUNNING SEED: 71\n",
      "HERE: False True\n",
      "ERROR RUNNING SEED: 72\n",
      "HERE: False True\n",
      "ERROR RUNNING SEED: 73\n",
      "HERE: False True\n",
      "ERROR RUNNING SEED: 74\n",
      "HERE: False True\n"
     ]
    },
    {
     "name": "stderr",
     "output_type": "stream",
     "text": [
      "[Parallel(n_jobs=None)]: Done  10 out of  10 | elapsed:  1.4min finished\n"
     ]
    },
    {
     "name": "stdout",
     "output_type": "stream",
     "text": [
      "RUNNING: 10\n",
      "CORES: 3\n",
      "HERE: False False\n",
      "ERROR RUNNING SEED: 66\n",
      "HERE: False False\n"
     ]
    },
    {
     "name": "stderr",
     "output_type": "stream",
     "text": [
      "[Parallel(n_jobs=None)]: Done   1 out of   1 | elapsed:    7.0s remaining:    0.0s\n"
     ]
    },
    {
     "name": "stdout",
     "output_type": "stream",
     "text": [
      "ERROR RUNNING SEED: 67\n",
      "HERE: False False\n",
      "ERROR RUNNING SEED: 68\n",
      "HERE: False False\n",
      "ERROR RUNNING SEED: 69\n",
      "HERE: False False\n",
      "ERROR RUNNING SEED: 70\n",
      "HERE: False False\n",
      "ERROR RUNNING SEED: 71\n",
      "HERE: False False\n",
      "ERROR RUNNING SEED: 72\n",
      "HERE: False False\n",
      "ERROR RUNNING SEED: 73\n",
      "HERE: False False\n",
      "ERROR RUNNING SEED: 74\n",
      "HERE: False False\n"
     ]
    },
    {
     "name": "stderr",
     "output_type": "stream",
     "text": [
      "[Parallel(n_jobs=None)]: Done  10 out of  10 | elapsed:  1.3min finished\n"
     ]
    },
    {
     "name": "stdout",
     "output_type": "stream",
     "text": [
      "1 441.025641026\n",
      "RUNNING: 10\n",
      "CORES: 3\n",
      "HERE: True True\n",
      "ERROR RUNNING SEED: 66\n",
      "HERE: True True\n"
     ]
    },
    {
     "name": "stderr",
     "output_type": "stream",
     "text": [
      "[Parallel(n_jobs=None)]: Done   1 out of   1 | elapsed:    7.1s remaining:    0.0s\n"
     ]
    },
    {
     "name": "stdout",
     "output_type": "stream",
     "text": [
      "ERROR RUNNING SEED: 67\n",
      "HERE: True True\n",
      "ERROR RUNNING SEED: 68\n",
      "HERE: True True\n",
      "ERROR RUNNING SEED: 69\n",
      "HERE: True True\n",
      "ERROR RUNNING SEED: 70\n",
      "HERE: True True\n",
      "ERROR RUNNING SEED: 71\n",
      "HERE: True True\n",
      "ERROR RUNNING SEED: 72\n",
      "HERE: True True\n",
      "ERROR RUNNING SEED: 73\n",
      "HERE: True True\n",
      "ERROR RUNNING SEED: 74\n",
      "HERE: True True\n"
     ]
    },
    {
     "name": "stderr",
     "output_type": "stream",
     "text": [
      "[Parallel(n_jobs=None)]: Done  10 out of  10 | elapsed:  1.4min finished\n"
     ]
    },
    {
     "name": "stdout",
     "output_type": "stream",
     "text": [
      "RUNNING: 10\n",
      "CORES: 3\n",
      "HERE: False True\n",
      "ERROR RUNNING SEED: 66\n",
      "HERE: False True\n"
     ]
    },
    {
     "name": "stderr",
     "output_type": "stream",
     "text": [
      "[Parallel(n_jobs=None)]: Done   1 out of   1 | elapsed:    7.2s remaining:    0.0s\n"
     ]
    },
    {
     "name": "stdout",
     "output_type": "stream",
     "text": [
      "ERROR RUNNING SEED: 67\n",
      "HERE: False True\n",
      "ERROR RUNNING SEED: 68\n",
      "HERE: False True\n",
      "ERROR RUNNING SEED: 69\n",
      "HERE: False True\n",
      "ERROR RUNNING SEED: 70\n",
      "HERE: False True\n",
      "ERROR RUNNING SEED: 71\n",
      "HERE: False True\n",
      "ERROR RUNNING SEED: 72\n",
      "HERE: False True\n",
      "ERROR RUNNING SEED: 73\n",
      "HERE: False True\n",
      "ERROR RUNNING SEED: 74\n",
      "HERE: False True\n"
     ]
    },
    {
     "name": "stderr",
     "output_type": "stream",
     "text": [
      "[Parallel(n_jobs=None)]: Done  10 out of  10 | elapsed:  1.4min finished\n"
     ]
    },
    {
     "name": "stdout",
     "output_type": "stream",
     "text": [
      "RUNNING: 10\n",
      "CORES: 3\n",
      "HERE: False False\n",
      "ERROR RUNNING SEED: 66\n",
      "HERE: False False\n"
     ]
    },
    {
     "name": "stderr",
     "output_type": "stream",
     "text": [
      "[Parallel(n_jobs=None)]: Done   1 out of   1 | elapsed:    7.3s remaining:    0.0s\n"
     ]
    },
    {
     "name": "stdout",
     "output_type": "stream",
     "text": [
      "ERROR RUNNING SEED: 67\n",
      "HERE: False False\n",
      "ERROR RUNNING SEED: 68\n",
      "HERE: False False\n",
      "ERROR RUNNING SEED: 69\n",
      "HERE: False False\n",
      "ERROR RUNNING SEED: 70\n",
      "HERE: False False\n",
      "ERROR RUNNING SEED: 71\n",
      "HERE: False False\n",
      "ERROR RUNNING SEED: 72\n",
      "HERE: False False\n",
      "ERROR RUNNING SEED: 73\n",
      "HERE: False False\n",
      "ERROR RUNNING SEED: 74\n",
      "HERE: False False\n"
     ]
    },
    {
     "name": "stderr",
     "output_type": "stream",
     "text": [
      "[Parallel(n_jobs=None)]: Done  10 out of  10 | elapsed:  1.4min finished\n"
     ]
    },
    {
     "name": "stdout",
     "output_type": "stream",
     "text": [
      "2 482.051282051\n",
      "RUNNING: 10\n",
      "CORES: 3\n",
      "HERE: True True\n",
      "ERROR RUNNING SEED: 66\n",
      "HERE: True True\n"
     ]
    },
    {
     "name": "stderr",
     "output_type": "stream",
     "text": [
      "[Parallel(n_jobs=None)]: Done   1 out of   1 | elapsed:    7.0s remaining:    0.0s\n"
     ]
    },
    {
     "name": "stdout",
     "output_type": "stream",
     "text": [
      "ERROR RUNNING SEED: 67\n",
      "HERE: True True\n",
      "ERROR RUNNING SEED: 68\n",
      "HERE: True True\n",
      "HERE: True True\n",
      "ERROR RUNNING SEED: 70\n",
      "HERE: True True\n",
      "ERROR RUNNING SEED: 71\n",
      "HERE: True True\n",
      "HERE: True True\n",
      "HERE: True True\n",
      "ERROR RUNNING SEED: 74\n",
      "HERE: True True\n"
     ]
    },
    {
     "name": "stderr",
     "output_type": "stream",
     "text": [
      "[Parallel(n_jobs=None)]: Done  10 out of  10 | elapsed:  1.4min finished\n"
     ]
    },
    {
     "name": "stdout",
     "output_type": "stream",
     "text": [
      "RUNNING: 10\n",
      "CORES: 3\n",
      "HERE: False True\n",
      "ERROR RUNNING SEED: 66\n",
      "HERE: False True\n"
     ]
    },
    {
     "name": "stderr",
     "output_type": "stream",
     "text": [
      "[Parallel(n_jobs=None)]: Done   1 out of   1 | elapsed:    7.8s remaining:    0.0s\n"
     ]
    },
    {
     "name": "stdout",
     "output_type": "stream",
     "text": [
      "ERROR RUNNING SEED: 67\n",
      "HERE: False True\n",
      "ERROR RUNNING SEED: 68\n",
      "HERE: False True\n",
      "HERE: False True\n",
      "ERROR RUNNING SEED: 70\n",
      "HERE: False True\n",
      "ERROR RUNNING SEED: 71\n",
      "HERE: False True\n",
      "HERE: False True\n",
      "HERE: False True\n",
      "ERROR RUNNING SEED: 74\n",
      "HERE: False True\n"
     ]
    },
    {
     "name": "stderr",
     "output_type": "stream",
     "text": [
      "[Parallel(n_jobs=None)]: Done  10 out of  10 | elapsed:  1.4min finished\n"
     ]
    },
    {
     "name": "stdout",
     "output_type": "stream",
     "text": [
      "RUNNING: 10\n",
      "CORES: 3\n",
      "HERE: False False\n",
      "ERROR RUNNING SEED: 66\n",
      "HERE: False False\n"
     ]
    },
    {
     "name": "stderr",
     "output_type": "stream",
     "text": [
      "[Parallel(n_jobs=None)]: Done   1 out of   1 | elapsed:    7.3s remaining:    0.0s\n"
     ]
    },
    {
     "name": "stdout",
     "output_type": "stream",
     "text": [
      "ERROR RUNNING SEED: 67\n",
      "HERE: False False\n",
      "ERROR RUNNING SEED: 68\n",
      "HERE: False False\n",
      "HERE: False False\n",
      "ERROR RUNNING SEED: 70\n",
      "HERE: False False\n",
      "ERROR RUNNING SEED: 71\n",
      "HERE: False False\n",
      "HERE: False False\n",
      "HERE: False False\n",
      "ERROR RUNNING SEED: 74\n",
      "HERE: False False\n"
     ]
    },
    {
     "name": "stderr",
     "output_type": "stream",
     "text": [
      "[Parallel(n_jobs=None)]: Done  10 out of  10 | elapsed:  1.4min finished\n"
     ]
    },
    {
     "name": "stdout",
     "output_type": "stream",
     "text": [
      "3 523.076923077\n",
      "RUNNING: 10\n",
      "CORES: 3\n",
      "HERE: True True\n",
      "ERROR RUNNING SEED: 66\n",
      "HERE: True True\n"
     ]
    },
    {
     "name": "stderr",
     "output_type": "stream",
     "text": [
      "[Parallel(n_jobs=None)]: Done   1 out of   1 | elapsed:    7.2s remaining:    0.0s\n"
     ]
    },
    {
     "name": "stdout",
     "output_type": "stream",
     "text": [
      "ERROR RUNNING SEED: 67\n",
      "HERE: True True\n",
      "HERE: True True\n",
      "HERE: True True\n",
      "ERROR RUNNING SEED: 70\n",
      "HERE: True True\n",
      "HERE: True True\n",
      "HERE: True True\n",
      "HERE: True True\n",
      "ERROR RUNNING SEED: 74\n",
      "HERE: True True\n"
     ]
    },
    {
     "name": "stderr",
     "output_type": "stream",
     "text": [
      "[Parallel(n_jobs=None)]: Done  10 out of  10 | elapsed:  1.4min finished\n"
     ]
    },
    {
     "name": "stdout",
     "output_type": "stream",
     "text": [
      "RUNNING: 10\n",
      "CORES: 3\n",
      "HERE: False True\n",
      "ERROR RUNNING SEED: 66\n",
      "HERE: False True\n"
     ]
    },
    {
     "name": "stderr",
     "output_type": "stream",
     "text": [
      "[Parallel(n_jobs=None)]: Done   1 out of   1 | elapsed:    7.5s remaining:    0.0s\n"
     ]
    },
    {
     "name": "stdout",
     "output_type": "stream",
     "text": [
      "ERROR RUNNING SEED: 67\n",
      "HERE: False True\n",
      "HERE: False True\n",
      "HERE: False True\n",
      "ERROR RUNNING SEED: 70\n",
      "HERE: False True\n",
      "HERE: False True\n",
      "HERE: False True\n",
      "HERE: False True\n",
      "ERROR RUNNING SEED: 74\n",
      "HERE: False True\n"
     ]
    },
    {
     "name": "stderr",
     "output_type": "stream",
     "text": [
      "[Parallel(n_jobs=None)]: Done  10 out of  10 | elapsed:  1.4min finished\n"
     ]
    },
    {
     "name": "stdout",
     "output_type": "stream",
     "text": [
      "RUNNING: 10\n",
      "CORES: 3\n",
      "HERE: False False\n",
      "ERROR RUNNING SEED: 66\n",
      "HERE: False False\n"
     ]
    },
    {
     "name": "stderr",
     "output_type": "stream",
     "text": [
      "[Parallel(n_jobs=None)]: Done   1 out of   1 | elapsed:    7.6s remaining:    0.0s\n"
     ]
    },
    {
     "name": "stdout",
     "output_type": "stream",
     "text": [
      "ERROR RUNNING SEED: 67\n",
      "HERE: False False\n",
      "HERE: False False\n",
      "HERE: False False\n",
      "ERROR RUNNING SEED: 70\n",
      "HERE: False False\n",
      "HERE: False False\n",
      "HERE: False False\n",
      "HERE: False False\n",
      "ERROR RUNNING SEED: 74\n",
      "HERE: False False\n"
     ]
    },
    {
     "name": "stderr",
     "output_type": "stream",
     "text": [
      "[Parallel(n_jobs=None)]: Done  10 out of  10 | elapsed:  1.4min finished\n"
     ]
    },
    {
     "name": "stdout",
     "output_type": "stream",
     "text": [
      "4 564.102564103\n",
      "RUNNING: 10\n",
      "CORES: 3\n",
      "HERE: True True\n"
     ]
    },
    {
     "name": "stderr",
     "output_type": "stream",
     "text": [
      "[Parallel(n_jobs=None)]: Done   1 out of   1 | elapsed:    7.7s remaining:    0.0s\n"
     ]
    },
    {
     "name": "stdout",
     "output_type": "stream",
     "text": [
      "HERE: True True\n",
      "ERROR RUNNING SEED: 67\n",
      "HERE: True True\n",
      "HERE: True True\n",
      "HERE: True True\n",
      "ERROR RUNNING SEED: 70\n",
      "HERE: True True\n",
      "HERE: True True\n",
      "HERE: True True\n",
      "HERE: True True\n",
      "HERE: True True\n"
     ]
    },
    {
     "name": "stderr",
     "output_type": "stream",
     "text": [
      "[Parallel(n_jobs=None)]: Done  10 out of  10 | elapsed:  1.4min finished\n"
     ]
    },
    {
     "name": "stdout",
     "output_type": "stream",
     "text": [
      "RUNNING: 10\n",
      "CORES: 3\n",
      "HERE: False True\n"
     ]
    },
    {
     "name": "stderr",
     "output_type": "stream",
     "text": [
      "[Parallel(n_jobs=None)]: Done   1 out of   1 | elapsed:    7.9s remaining:    0.0s\n"
     ]
    },
    {
     "name": "stdout",
     "output_type": "stream",
     "text": [
      "HERE: False True\n",
      "ERROR RUNNING SEED: 67\n",
      "HERE: False True\n",
      "HERE: False True\n",
      "HERE: False True\n",
      "ERROR RUNNING SEED: 70\n",
      "HERE: False True\n",
      "HERE: False True\n",
      "HERE: False True\n",
      "HERE: False True\n",
      "HERE: False True\n"
     ]
    },
    {
     "name": "stderr",
     "output_type": "stream",
     "text": [
      "[Parallel(n_jobs=None)]: Done  10 out of  10 | elapsed:  1.4min finished\n"
     ]
    },
    {
     "name": "stdout",
     "output_type": "stream",
     "text": [
      "RUNNING: 10\n",
      "CORES: 3\n",
      "HERE: False False\n"
     ]
    },
    {
     "name": "stderr",
     "output_type": "stream",
     "text": [
      "[Parallel(n_jobs=None)]: Done   1 out of   1 | elapsed:    7.6s remaining:    0.0s\n"
     ]
    },
    {
     "name": "stdout",
     "output_type": "stream",
     "text": [
      "HERE: False False\n",
      "ERROR RUNNING SEED: 67\n",
      "HERE: False False\n",
      "HERE: False False\n",
      "HERE: False False\n",
      "ERROR RUNNING SEED: 70\n",
      "HERE: False False\n",
      "HERE: False False\n",
      "HERE: False False\n",
      "HERE: False False\n",
      "HERE: False False\n"
     ]
    },
    {
     "name": "stderr",
     "output_type": "stream",
     "text": [
      "[Parallel(n_jobs=None)]: Done  10 out of  10 | elapsed:  1.4min finished\n"
     ]
    },
    {
     "name": "stdout",
     "output_type": "stream",
     "text": [
      "5 605.128205128\n",
      "RUNNING: 10\n",
      "CORES: 3\n",
      "HERE: True True\n"
     ]
    },
    {
     "name": "stderr",
     "output_type": "stream",
     "text": [
      "[Parallel(n_jobs=None)]: Done   1 out of   1 | elapsed:    7.8s remaining:    0.0s\n"
     ]
    },
    {
     "name": "stdout",
     "output_type": "stream",
     "text": [
      "HERE: True True\n",
      "HERE: True True\n",
      "HERE: True True\n",
      "HERE: True True\n",
      "ERROR RUNNING SEED: 70\n",
      "HERE: True True\n",
      "HERE: True True\n",
      "HERE: True True\n",
      "HERE: True True\n",
      "ERROR RUNNING SEED: 74\n",
      "HERE: True True\n"
     ]
    },
    {
     "name": "stderr",
     "output_type": "stream",
     "text": [
      "[Parallel(n_jobs=None)]: Done  10 out of  10 | elapsed:  1.5min finished\n"
     ]
    },
    {
     "name": "stdout",
     "output_type": "stream",
     "text": [
      "RUNNING: 10\n",
      "CORES: 3\n",
      "HERE: False True\n"
     ]
    },
    {
     "name": "stderr",
     "output_type": "stream",
     "text": [
      "[Parallel(n_jobs=None)]: Done   1 out of   1 | elapsed:    7.6s remaining:    0.0s\n"
     ]
    },
    {
     "name": "stdout",
     "output_type": "stream",
     "text": [
      "HERE: False True\n",
      "HERE: False True\n",
      "HERE: False True\n",
      "HERE: False True\n",
      "ERROR RUNNING SEED: 70\n",
      "HERE: False True\n",
      "HERE: False True\n",
      "HERE: False True\n",
      "HERE: False True\n",
      "ERROR RUNNING SEED: 74\n",
      "HERE: False True\n"
     ]
    },
    {
     "name": "stderr",
     "output_type": "stream",
     "text": [
      "[Parallel(n_jobs=None)]: Done  10 out of  10 | elapsed:  1.4min finished\n"
     ]
    },
    {
     "name": "stdout",
     "output_type": "stream",
     "text": [
      "RUNNING: 10\n",
      "CORES: 3\n",
      "HERE: False False\n"
     ]
    },
    {
     "name": "stderr",
     "output_type": "stream",
     "text": [
      "[Parallel(n_jobs=None)]: Done   1 out of   1 | elapsed:    8.1s remaining:    0.0s\n"
     ]
    },
    {
     "name": "stdout",
     "output_type": "stream",
     "text": [
      "HERE: False False\n",
      "HERE: False False\n",
      "HERE: False False\n",
      "HERE: False False\n",
      "ERROR RUNNING SEED: 70\n",
      "HERE: False False\n",
      "HERE: False False\n",
      "HERE: False False\n",
      "HERE: False False\n",
      "ERROR RUNNING SEED: 74\n",
      "HERE: False False\n"
     ]
    },
    {
     "name": "stderr",
     "output_type": "stream",
     "text": [
      "[Parallel(n_jobs=None)]: Done  10 out of  10 | elapsed:  1.5min finished\n"
     ]
    },
    {
     "name": "stdout",
     "output_type": "stream",
     "text": [
      "6 646.153846154\n",
      "RUNNING: 10\n",
      "CORES: 3\n",
      "HERE: True True\n"
     ]
    },
    {
     "name": "stderr",
     "output_type": "stream",
     "text": [
      "[Parallel(n_jobs=None)]: Done   1 out of   1 | elapsed:    7.6s remaining:    0.0s\n"
     ]
    },
    {
     "name": "stdout",
     "output_type": "stream",
     "text": [
      "HERE: True True\n",
      "HERE: True True\n",
      "HERE: True True\n",
      "HERE: True True\n",
      "HERE: True True\n",
      "HERE: True True\n",
      "HERE: True True\n",
      "HERE: True True\n",
      "HERE: True True\n"
     ]
    },
    {
     "name": "stderr",
     "output_type": "stream",
     "text": [
      "[Parallel(n_jobs=None)]: Done  10 out of  10 | elapsed:  1.4min finished\n"
     ]
    },
    {
     "name": "stdout",
     "output_type": "stream",
     "text": [
      "RUNNING: 10\n",
      "CORES: 3\n",
      "HERE: False True\n"
     ]
    },
    {
     "name": "stderr",
     "output_type": "stream",
     "text": [
      "[Parallel(n_jobs=None)]: Done   1 out of   1 | elapsed:    7.7s remaining:    0.0s\n"
     ]
    },
    {
     "name": "stdout",
     "output_type": "stream",
     "text": [
      "HERE: False True\n",
      "HERE: False True\n",
      "HERE: False True\n",
      "HERE: False True\n",
      "HERE: False True\n",
      "HERE: False True\n",
      "HERE: False True\n",
      "HERE: False True\n",
      "HERE: False True\n"
     ]
    },
    {
     "name": "stderr",
     "output_type": "stream",
     "text": [
      "[Parallel(n_jobs=None)]: Done  10 out of  10 | elapsed:  1.4min finished\n"
     ]
    },
    {
     "name": "stdout",
     "output_type": "stream",
     "text": [
      "RUNNING: 10\n",
      "CORES: 3\n",
      "HERE: False False\n"
     ]
    },
    {
     "name": "stderr",
     "output_type": "stream",
     "text": [
      "[Parallel(n_jobs=None)]: Done   1 out of   1 | elapsed:    7.6s remaining:    0.0s\n"
     ]
    },
    {
     "name": "stdout",
     "output_type": "stream",
     "text": [
      "HERE: False False\n",
      "HERE: False False\n",
      "HERE: False False\n",
      "HERE: False False\n",
      "HERE: False False\n",
      "HERE: False False\n",
      "HERE: False False\n",
      "HERE: False False\n",
      "HERE: False False\n"
     ]
    },
    {
     "name": "stderr",
     "output_type": "stream",
     "text": [
      "[Parallel(n_jobs=None)]: Done  10 out of  10 | elapsed:  1.4min finished\n"
     ]
    },
    {
     "name": "stdout",
     "output_type": "stream",
     "text": [
      "7 687.179487179\n",
      "RUNNING: 10\n",
      "CORES: 3\n",
      "HERE: True True\n"
     ]
    },
    {
     "name": "stderr",
     "output_type": "stream",
     "text": [
      "[Parallel(n_jobs=None)]: Done   1 out of   1 | elapsed:    7.8s remaining:    0.0s\n"
     ]
    },
    {
     "name": "stdout",
     "output_type": "stream",
     "text": [
      "HERE: True True\n",
      "HERE: True True\n",
      "HERE: True True\n",
      "HERE: True True\n",
      "HERE: True True\n",
      "HERE: True True\n",
      "HERE: True True\n",
      "HERE: True True\n",
      "HERE: True True\n"
     ]
    },
    {
     "name": "stderr",
     "output_type": "stream",
     "text": [
      "[Parallel(n_jobs=None)]: Done  10 out of  10 | elapsed:  1.4min finished\n"
     ]
    },
    {
     "name": "stdout",
     "output_type": "stream",
     "text": [
      "RUNNING: 10\n",
      "CORES: 3\n",
      "HERE: False True\n"
     ]
    },
    {
     "name": "stderr",
     "output_type": "stream",
     "text": [
      "[Parallel(n_jobs=None)]: Done   1 out of   1 | elapsed:    7.6s remaining:    0.0s\n"
     ]
    },
    {
     "name": "stdout",
     "output_type": "stream",
     "text": [
      "HERE: False True\n",
      "HERE: False True\n",
      "HERE: False True\n",
      "HERE: False True\n",
      "HERE: False True\n",
      "HERE: False True\n",
      "HERE: False True\n",
      "HERE: False True\n",
      "HERE: False True\n"
     ]
    },
    {
     "name": "stderr",
     "output_type": "stream",
     "text": [
      "[Parallel(n_jobs=None)]: Done  10 out of  10 | elapsed:  1.4min finished\n"
     ]
    },
    {
     "name": "stdout",
     "output_type": "stream",
     "text": [
      "RUNNING: 10\n",
      "CORES: 3\n",
      "HERE: False False\n"
     ]
    },
    {
     "name": "stderr",
     "output_type": "stream",
     "text": [
      "[Parallel(n_jobs=None)]: Done   1 out of   1 | elapsed:    7.6s remaining:    0.0s\n"
     ]
    },
    {
     "name": "stdout",
     "output_type": "stream",
     "text": [
      "HERE: False False\n",
      "HERE: False False\n",
      "HERE: False False\n",
      "HERE: False False\n",
      "HERE: False False\n",
      "HERE: False False\n",
      "HERE: False False\n",
      "HERE: False False\n",
      "HERE: False False\n"
     ]
    },
    {
     "name": "stderr",
     "output_type": "stream",
     "text": [
      "[Parallel(n_jobs=None)]: Done  10 out of  10 | elapsed:  1.4min finished\n"
     ]
    },
    {
     "name": "stdout",
     "output_type": "stream",
     "text": [
      "8 728.205128205\n",
      "RUNNING: 10\n",
      "CORES: 3\n",
      "HERE: True True\n"
     ]
    },
    {
     "name": "stderr",
     "output_type": "stream",
     "text": [
      "[Parallel(n_jobs=None)]: Done   1 out of   1 | elapsed:    7.6s remaining:    0.0s\n"
     ]
    },
    {
     "name": "stdout",
     "output_type": "stream",
     "text": [
      "HERE: True True\n",
      "HERE: True True\n",
      "HERE: True True\n",
      "HERE: True True\n",
      "HERE: True True\n",
      "HERE: True True\n",
      "HERE: True True\n",
      "HERE: True True\n",
      "HERE: True True\n"
     ]
    },
    {
     "name": "stderr",
     "output_type": "stream",
     "text": [
      "[Parallel(n_jobs=None)]: Done  10 out of  10 | elapsed:  1.4min finished\n"
     ]
    },
    {
     "name": "stdout",
     "output_type": "stream",
     "text": [
      "RUNNING: 10\n",
      "CORES: 3\n",
      "HERE: False True\n"
     ]
    },
    {
     "name": "stderr",
     "output_type": "stream",
     "text": [
      "[Parallel(n_jobs=None)]: Done   1 out of   1 | elapsed:    8.1s remaining:    0.0s\n"
     ]
    },
    {
     "name": "stdout",
     "output_type": "stream",
     "text": [
      "HERE: False True\n",
      "HERE: False True\n",
      "HERE: False True\n",
      "HERE: False True\n",
      "HERE: False True\n",
      "HERE: False True\n",
      "HERE: False True\n",
      "HERE: False True\n",
      "HERE: False True\n"
     ]
    },
    {
     "name": "stderr",
     "output_type": "stream",
     "text": [
      "[Parallel(n_jobs=None)]: Done  10 out of  10 | elapsed:  1.5min finished\n"
     ]
    },
    {
     "name": "stdout",
     "output_type": "stream",
     "text": [
      "RUNNING: 10\n",
      "CORES: 3\n",
      "HERE: False False\n"
     ]
    },
    {
     "name": "stderr",
     "output_type": "stream",
     "text": [
      "[Parallel(n_jobs=None)]: Done   1 out of   1 | elapsed:    8.2s remaining:    0.0s\n"
     ]
    },
    {
     "name": "stdout",
     "output_type": "stream",
     "text": [
      "HERE: False False\n",
      "HERE: False False\n",
      "HERE: False False\n",
      "HERE: False False\n",
      "HERE: False False\n",
      "HERE: False False\n",
      "HERE: False False\n",
      "HERE: False False\n",
      "HERE: False False\n"
     ]
    },
    {
     "name": "stderr",
     "output_type": "stream",
     "text": [
      "[Parallel(n_jobs=None)]: Done  10 out of  10 | elapsed:  1.5min finished\n"
     ]
    },
    {
     "name": "stdout",
     "output_type": "stream",
     "text": [
      "9 769.230769231\n",
      "RUNNING: 10\n",
      "CORES: 3\n",
      "HERE: True True\n"
     ]
    },
    {
     "name": "stderr",
     "output_type": "stream",
     "text": [
      "[Parallel(n_jobs=None)]: Done   1 out of   1 | elapsed:    8.2s remaining:    0.0s\n"
     ]
    },
    {
     "name": "stdout",
     "output_type": "stream",
     "text": [
      "HERE: True True\n",
      "HERE: True True\n",
      "HERE: True True\n",
      "HERE: True True\n",
      "HERE: True True\n",
      "HERE: True True\n",
      "HERE: True True\n",
      "HERE: True True\n",
      "HERE: True True\n"
     ]
    },
    {
     "name": "stderr",
     "output_type": "stream",
     "text": [
      "[Parallel(n_jobs=None)]: Done  10 out of  10 | elapsed:  1.5min finished\n"
     ]
    },
    {
     "name": "stdout",
     "output_type": "stream",
     "text": [
      "RUNNING: 10\n",
      "CORES: 3\n",
      "HERE: False True\n"
     ]
    },
    {
     "name": "stderr",
     "output_type": "stream",
     "text": [
      "[Parallel(n_jobs=None)]: Done   1 out of   1 | elapsed:    7.9s remaining:    0.0s\n"
     ]
    },
    {
     "name": "stdout",
     "output_type": "stream",
     "text": [
      "HERE: False True\n",
      "HERE: False True\n",
      "HERE: False True\n",
      "HERE: False True\n",
      "HERE: False True\n",
      "HERE: False True\n",
      "HERE: False True\n",
      "HERE: False True\n",
      "HERE: False True\n"
     ]
    },
    {
     "name": "stderr",
     "output_type": "stream",
     "text": [
      "[Parallel(n_jobs=None)]: Done  10 out of  10 | elapsed:  1.5min finished\n"
     ]
    },
    {
     "name": "stdout",
     "output_type": "stream",
     "text": [
      "RUNNING: 10\n",
      "CORES: 3\n",
      "HERE: False False\n"
     ]
    },
    {
     "name": "stderr",
     "output_type": "stream",
     "text": [
      "[Parallel(n_jobs=None)]: Done   1 out of   1 | elapsed:    7.4s remaining:    0.0s\n"
     ]
    },
    {
     "name": "stdout",
     "output_type": "stream",
     "text": [
      "HERE: False False\n",
      "HERE: False False\n",
      "HERE: False False\n",
      "HERE: False False\n",
      "HERE: False False\n",
      "HERE: False False\n",
      "HERE: False False\n",
      "HERE: False False\n",
      "HERE: False False\n"
     ]
    },
    {
     "name": "stderr",
     "output_type": "stream",
     "text": [
      "[Parallel(n_jobs=None)]: Done  10 out of  10 | elapsed:  1.4min finished\n"
     ]
    },
    {
     "name": "stdout",
     "output_type": "stream",
     "text": [
      "10 810.256410256\n",
      "RUNNING: 10\n",
      "CORES: 3\n",
      "HERE: True True\n"
     ]
    },
    {
     "name": "stderr",
     "output_type": "stream",
     "text": [
      "[Parallel(n_jobs=None)]: Done   1 out of   1 | elapsed:    7.6s remaining:    0.0s\n"
     ]
    },
    {
     "name": "stdout",
     "output_type": "stream",
     "text": [
      "HERE: True True\n",
      "HERE: True True\n",
      "HERE: True True\n",
      "HERE: True True\n",
      "HERE: True True\n",
      "HERE: True True\n",
      "HERE: True True\n",
      "HERE: True True\n",
      "HERE: True True\n"
     ]
    },
    {
     "name": "stderr",
     "output_type": "stream",
     "text": [
      "[Parallel(n_jobs=None)]: Done  10 out of  10 | elapsed:  1.5min finished\n"
     ]
    },
    {
     "name": "stdout",
     "output_type": "stream",
     "text": [
      "RUNNING: 10\n",
      "CORES: 3\n",
      "HERE: False True\n"
     ]
    },
    {
     "name": "stderr",
     "output_type": "stream",
     "text": [
      "[Parallel(n_jobs=None)]: Done   1 out of   1 | elapsed:    7.7s remaining:    0.0s\n"
     ]
    },
    {
     "name": "stdout",
     "output_type": "stream",
     "text": [
      "HERE: False True\n",
      "HERE: False True\n",
      "HERE: False True\n",
      "HERE: False True\n",
      "HERE: False True\n",
      "HERE: False True\n",
      "HERE: False True\n",
      "HERE: False True\n",
      "HERE: False True\n"
     ]
    },
    {
     "name": "stderr",
     "output_type": "stream",
     "text": [
      "[Parallel(n_jobs=None)]: Done  10 out of  10 | elapsed:  1.4min finished\n"
     ]
    },
    {
     "name": "stdout",
     "output_type": "stream",
     "text": [
      "RUNNING: 10\n",
      "CORES: 3\n",
      "HERE: False False\n"
     ]
    },
    {
     "name": "stderr",
     "output_type": "stream",
     "text": [
      "[Parallel(n_jobs=None)]: Done   1 out of   1 | elapsed:    7.7s remaining:    0.0s\n"
     ]
    },
    {
     "name": "stdout",
     "output_type": "stream",
     "text": [
      "HERE: False False\n",
      "HERE: False False\n",
      "HERE: False False\n",
      "HERE: False False\n",
      "HERE: False False\n",
      "HERE: False False\n",
      "HERE: False False\n",
      "HERE: False False\n",
      "HERE: False False\n"
     ]
    },
    {
     "name": "stderr",
     "output_type": "stream",
     "text": [
      "[Parallel(n_jobs=None)]: Done  10 out of  10 | elapsed:  1.5min finished\n"
     ]
    },
    {
     "name": "stdout",
     "output_type": "stream",
     "text": [
      "11 851.282051282\n",
      "RUNNING: 10\n",
      "CORES: 3\n",
      "HERE: True True\n"
     ]
    },
    {
     "name": "stderr",
     "output_type": "stream",
     "text": [
      "[Parallel(n_jobs=None)]: Done   1 out of   1 | elapsed:    7.7s remaining:    0.0s\n"
     ]
    },
    {
     "name": "stdout",
     "output_type": "stream",
     "text": [
      "HERE: True True\n",
      "HERE: True True\n",
      "HERE: True True\n",
      "HERE: True True\n",
      "HERE: True True\n",
      "HERE: True True\n",
      "HERE: True True\n",
      "HERE: True True\n",
      "HERE: True True\n"
     ]
    },
    {
     "name": "stderr",
     "output_type": "stream",
     "text": [
      "[Parallel(n_jobs=None)]: Done  10 out of  10 | elapsed:  1.5min finished\n"
     ]
    },
    {
     "name": "stdout",
     "output_type": "stream",
     "text": [
      "RUNNING: 10\n",
      "CORES: 3\n",
      "HERE: False True\n"
     ]
    },
    {
     "name": "stderr",
     "output_type": "stream",
     "text": [
      "[Parallel(n_jobs=None)]: Done   1 out of   1 | elapsed:    7.6s remaining:    0.0s\n"
     ]
    },
    {
     "name": "stdout",
     "output_type": "stream",
     "text": [
      "HERE: False True\n",
      "HERE: False True\n",
      "HERE: False True\n",
      "HERE: False True\n",
      "HERE: False True\n",
      "HERE: False True\n",
      "HERE: False True\n",
      "HERE: False True\n",
      "HERE: False True\n"
     ]
    },
    {
     "name": "stderr",
     "output_type": "stream",
     "text": [
      "[Parallel(n_jobs=None)]: Done  10 out of  10 | elapsed:  1.5min finished\n"
     ]
    },
    {
     "name": "stdout",
     "output_type": "stream",
     "text": [
      "RUNNING: 10\n",
      "CORES: 3\n",
      "HERE: False False\n"
     ]
    },
    {
     "name": "stderr",
     "output_type": "stream",
     "text": [
      "[Parallel(n_jobs=None)]: Done   1 out of   1 | elapsed:    7.6s remaining:    0.0s\n"
     ]
    },
    {
     "name": "stdout",
     "output_type": "stream",
     "text": [
      "HERE: False False\n",
      "HERE: False False\n",
      "HERE: False False\n",
      "HERE: False False\n",
      "HERE: False False\n",
      "HERE: False False\n",
      "HERE: False False\n",
      "HERE: False False\n",
      "HERE: False False\n"
     ]
    },
    {
     "name": "stderr",
     "output_type": "stream",
     "text": [
      "[Parallel(n_jobs=None)]: Done  10 out of  10 | elapsed:  1.5min finished\n"
     ]
    },
    {
     "name": "stdout",
     "output_type": "stream",
     "text": [
      "12 892.307692308\n",
      "RUNNING: 10\n",
      "CORES: 3\n",
      "HERE: True True\n"
     ]
    },
    {
     "name": "stderr",
     "output_type": "stream",
     "text": [
      "[Parallel(n_jobs=None)]: Done   1 out of   1 | elapsed:    8.4s remaining:    0.0s\n"
     ]
    },
    {
     "name": "stdout",
     "output_type": "stream",
     "text": [
      "HERE: True True\n",
      "HERE: True True\n",
      "HERE: True True\n",
      "HERE: True True\n",
      "HERE: True True\n",
      "HERE: True True\n",
      "HERE: True True\n",
      "HERE: True True\n",
      "HERE: True True\n"
     ]
    },
    {
     "name": "stderr",
     "output_type": "stream",
     "text": [
      "[Parallel(n_jobs=None)]: Done  10 out of  10 | elapsed:  1.5min finished\n"
     ]
    },
    {
     "name": "stdout",
     "output_type": "stream",
     "text": [
      "RUNNING: 10\n",
      "CORES: 3\n",
      "HERE: False True\n"
     ]
    },
    {
     "name": "stderr",
     "output_type": "stream",
     "text": [
      "[Parallel(n_jobs=None)]: Done   1 out of   1 | elapsed:    7.7s remaining:    0.0s\n"
     ]
    },
    {
     "name": "stdout",
     "output_type": "stream",
     "text": [
      "HERE: False True\n",
      "HERE: False True\n",
      "HERE: False True\n",
      "HERE: False True\n",
      "HERE: False True\n",
      "HERE: False True\n",
      "HERE: False True\n",
      "HERE: False True\n",
      "HERE: False True\n"
     ]
    },
    {
     "name": "stderr",
     "output_type": "stream",
     "text": [
      "[Parallel(n_jobs=None)]: Done  10 out of  10 | elapsed:  1.5min finished\n"
     ]
    },
    {
     "name": "stdout",
     "output_type": "stream",
     "text": [
      "RUNNING: 10\n",
      "CORES: 3\n",
      "HERE: False False\n"
     ]
    },
    {
     "name": "stderr",
     "output_type": "stream",
     "text": [
      "[Parallel(n_jobs=None)]: Done   1 out of   1 | elapsed:    7.9s remaining:    0.0s\n"
     ]
    },
    {
     "name": "stdout",
     "output_type": "stream",
     "text": [
      "HERE: False False\n",
      "HERE: False False\n",
      "HERE: False False\n",
      "HERE: False False\n",
      "HERE: False False\n",
      "HERE: False False\n",
      "HERE: False False\n",
      "HERE: False False\n",
      "HERE: False False\n"
     ]
    },
    {
     "name": "stderr",
     "output_type": "stream",
     "text": [
      "[Parallel(n_jobs=None)]: Done  10 out of  10 | elapsed:  1.5min finished\n"
     ]
    },
    {
     "name": "stdout",
     "output_type": "stream",
     "text": [
      "13 933.333333333\n",
      "RUNNING: 10\n",
      "CORES: 3\n",
      "HERE: True True\n"
     ]
    },
    {
     "name": "stderr",
     "output_type": "stream",
     "text": [
      "[Parallel(n_jobs=None)]: Done   1 out of   1 | elapsed:    8.2s remaining:    0.0s\n"
     ]
    },
    {
     "name": "stdout",
     "output_type": "stream",
     "text": [
      "HERE: True True\n",
      "HERE: True True\n",
      "HERE: True True\n",
      "HERE: True True\n",
      "HERE: True True\n",
      "HERE: True True\n",
      "HERE: True True\n",
      "HERE: True True\n",
      "HERE: True True\n"
     ]
    },
    {
     "name": "stderr",
     "output_type": "stream",
     "text": [
      "[Parallel(n_jobs=None)]: Done  10 out of  10 | elapsed:  1.6min finished\n"
     ]
    },
    {
     "name": "stdout",
     "output_type": "stream",
     "text": [
      "RUNNING: 10\n",
      "CORES: 3\n",
      "HERE: False True\n"
     ]
    },
    {
     "name": "stderr",
     "output_type": "stream",
     "text": [
      "[Parallel(n_jobs=None)]: Done   1 out of   1 | elapsed:    9.1s remaining:    0.0s\n"
     ]
    },
    {
     "name": "stdout",
     "output_type": "stream",
     "text": [
      "HERE: False True\n",
      "HERE: False True\n",
      "HERE: False True\n",
      "HERE: False True\n",
      "HERE: False True\n",
      "HERE: False True\n",
      "HERE: False True\n",
      "HERE: False True\n",
      "HERE: False True\n"
     ]
    },
    {
     "name": "stderr",
     "output_type": "stream",
     "text": [
      "[Parallel(n_jobs=None)]: Done  10 out of  10 | elapsed:  1.6min finished\n"
     ]
    },
    {
     "name": "stdout",
     "output_type": "stream",
     "text": [
      "RUNNING: 10\n",
      "CORES: 3\n",
      "HERE: False False\n"
     ]
    },
    {
     "name": "stderr",
     "output_type": "stream",
     "text": [
      "[Parallel(n_jobs=None)]: Done   1 out of   1 | elapsed:    8.5s remaining:    0.0s\n"
     ]
    },
    {
     "name": "stdout",
     "output_type": "stream",
     "text": [
      "HERE: False False\n",
      "HERE: False False\n",
      "HERE: False False\n",
      "HERE: False False\n",
      "HERE: False False\n",
      "HERE: False False\n",
      "HERE: False False\n",
      "HERE: False False\n",
      "HERE: False False\n"
     ]
    },
    {
     "name": "stderr",
     "output_type": "stream",
     "text": [
      "[Parallel(n_jobs=None)]: Done  10 out of  10 | elapsed:  1.6min finished\n"
     ]
    },
    {
     "name": "stdout",
     "output_type": "stream",
     "text": [
      "14 974.358974359\n",
      "RUNNING: 10\n",
      "CORES: 3\n",
      "HERE: True True\n"
     ]
    },
    {
     "name": "stderr",
     "output_type": "stream",
     "text": [
      "[Parallel(n_jobs=None)]: Done   1 out of   1 | elapsed:    8.0s remaining:    0.0s\n"
     ]
    },
    {
     "name": "stdout",
     "output_type": "stream",
     "text": [
      "HERE: True True\n",
      "HERE: True True\n",
      "HERE: True True\n",
      "HERE: True True\n",
      "HERE: True True\n",
      "HERE: True True\n",
      "HERE: True True\n",
      "HERE: True True\n",
      "HERE: True True\n"
     ]
    },
    {
     "name": "stderr",
     "output_type": "stream",
     "text": [
      "[Parallel(n_jobs=None)]: Done  10 out of  10 | elapsed:  1.5min finished\n"
     ]
    },
    {
     "name": "stdout",
     "output_type": "stream",
     "text": [
      "RUNNING: 10\n",
      "CORES: 3\n",
      "HERE: False True\n"
     ]
    },
    {
     "name": "stderr",
     "output_type": "stream",
     "text": [
      "[Parallel(n_jobs=None)]: Done   1 out of   1 | elapsed:    7.8s remaining:    0.0s\n"
     ]
    },
    {
     "name": "stdout",
     "output_type": "stream",
     "text": [
      "HERE: False True\n",
      "HERE: False True\n",
      "HERE: False True\n",
      "HERE: False True\n",
      "HERE: False True\n",
      "HERE: False True\n",
      "HERE: False True\n",
      "HERE: False True\n",
      "HERE: False True\n"
     ]
    },
    {
     "name": "stderr",
     "output_type": "stream",
     "text": [
      "[Parallel(n_jobs=None)]: Done  10 out of  10 | elapsed:  1.5min finished\n"
     ]
    },
    {
     "name": "stdout",
     "output_type": "stream",
     "text": [
      "RUNNING: 10\n",
      "CORES: 3\n",
      "HERE: False False\n"
     ]
    },
    {
     "name": "stderr",
     "output_type": "stream",
     "text": [
      "[Parallel(n_jobs=None)]: Done   1 out of   1 | elapsed:    8.7s remaining:    0.0s\n"
     ]
    },
    {
     "name": "stdout",
     "output_type": "stream",
     "text": [
      "HERE: False False\n",
      "HERE: False False\n",
      "HERE: False False\n",
      "HERE: False False\n",
      "HERE: False False\n",
      "HERE: False False\n",
      "HERE: False False\n",
      "HERE: False False\n",
      "HERE: False False\n"
     ]
    },
    {
     "name": "stderr",
     "output_type": "stream",
     "text": [
      "[Parallel(n_jobs=None)]: Done  10 out of  10 | elapsed:  1.6min finished\n"
     ]
    },
    {
     "name": "stdout",
     "output_type": "stream",
     "text": [
      "15 1015.38461538\n",
      "RUNNING: 10\n",
      "CORES: 3\n",
      "HERE: True True\n"
     ]
    },
    {
     "name": "stderr",
     "output_type": "stream",
     "text": [
      "[Parallel(n_jobs=None)]: Done   1 out of   1 | elapsed:    8.1s remaining:    0.0s\n"
     ]
    },
    {
     "name": "stdout",
     "output_type": "stream",
     "text": [
      "HERE: True True\n",
      "HERE: True True\n",
      "HERE: True True\n",
      "HERE: True True\n",
      "HERE: True True\n",
      "HERE: True True\n",
      "HERE: True True\n",
      "HERE: True True\n",
      "HERE: True True\n"
     ]
    },
    {
     "name": "stderr",
     "output_type": "stream",
     "text": [
      "[Parallel(n_jobs=None)]: Done  10 out of  10 | elapsed:  1.5min finished\n"
     ]
    },
    {
     "name": "stdout",
     "output_type": "stream",
     "text": [
      "RUNNING: 10\n",
      "CORES: 3\n",
      "HERE: False True\n"
     ]
    },
    {
     "name": "stderr",
     "output_type": "stream",
     "text": [
      "[Parallel(n_jobs=None)]: Done   1 out of   1 | elapsed:    7.9s remaining:    0.0s\n"
     ]
    },
    {
     "name": "stdout",
     "output_type": "stream",
     "text": [
      "HERE: False True\n",
      "HERE: False True\n",
      "HERE: False True\n",
      "HERE: False True\n",
      "HERE: False True\n",
      "HERE: False True\n",
      "HERE: False True\n",
      "HERE: False True\n",
      "HERE: False True\n"
     ]
    },
    {
     "name": "stderr",
     "output_type": "stream",
     "text": [
      "[Parallel(n_jobs=None)]: Done  10 out of  10 | elapsed:  1.5min finished\n"
     ]
    },
    {
     "name": "stdout",
     "output_type": "stream",
     "text": [
      "RUNNING: 10\n",
      "CORES: 3\n",
      "HERE: False False\n"
     ]
    },
    {
     "name": "stderr",
     "output_type": "stream",
     "text": [
      "[Parallel(n_jobs=None)]: Done   1 out of   1 | elapsed:    9.5s remaining:    0.0s\n"
     ]
    },
    {
     "name": "stdout",
     "output_type": "stream",
     "text": [
      "HERE: False False\n",
      "HERE: False False\n",
      "HERE: False False\n",
      "HERE: False False\n",
      "HERE: False False\n",
      "HERE: False False\n",
      "HERE: False False\n",
      "HERE: False False\n",
      "HERE: False False\n"
     ]
    },
    {
     "name": "stderr",
     "output_type": "stream",
     "text": [
      "[Parallel(n_jobs=None)]: Done  10 out of  10 | elapsed:  1.6min finished\n"
     ]
    },
    {
     "name": "stdout",
     "output_type": "stream",
     "text": [
      "16 1056.41025641\n",
      "RUNNING: 10\n",
      "CORES: 3\n",
      "HERE: True True\n"
     ]
    },
    {
     "name": "stderr",
     "output_type": "stream",
     "text": [
      "[Parallel(n_jobs=None)]: Done   1 out of   1 | elapsed:    7.9s remaining:    0.0s\n"
     ]
    },
    {
     "name": "stdout",
     "output_type": "stream",
     "text": [
      "HERE: True True\n",
      "HERE: True True\n",
      "HERE: True True\n",
      "HERE: True True\n",
      "HERE: True True\n",
      "HERE: True True\n",
      "HERE: True True\n",
      "HERE: True True\n",
      "HERE: True True\n"
     ]
    },
    {
     "name": "stderr",
     "output_type": "stream",
     "text": [
      "[Parallel(n_jobs=None)]: Done  10 out of  10 | elapsed:  1.5min finished\n"
     ]
    },
    {
     "name": "stdout",
     "output_type": "stream",
     "text": [
      "RUNNING: 10\n",
      "CORES: 3\n",
      "HERE: False True\n"
     ]
    },
    {
     "name": "stderr",
     "output_type": "stream",
     "text": [
      "[Parallel(n_jobs=None)]: Done   1 out of   1 | elapsed:    7.9s remaining:    0.0s\n"
     ]
    },
    {
     "name": "stdout",
     "output_type": "stream",
     "text": [
      "HERE: False True\n",
      "HERE: False True\n",
      "HERE: False True\n",
      "HERE: False True\n",
      "HERE: False True\n",
      "HERE: False True\n",
      "HERE: False True\n",
      "HERE: False True\n",
      "HERE: False True\n"
     ]
    },
    {
     "name": "stderr",
     "output_type": "stream",
     "text": [
      "[Parallel(n_jobs=None)]: Done  10 out of  10 | elapsed:  1.5min finished\n"
     ]
    },
    {
     "name": "stdout",
     "output_type": "stream",
     "text": [
      "RUNNING: 10\n",
      "CORES: 3\n",
      "HERE: False False\n"
     ]
    },
    {
     "name": "stderr",
     "output_type": "stream",
     "text": [
      "[Parallel(n_jobs=None)]: Done   1 out of   1 | elapsed:    7.9s remaining:    0.0s\n"
     ]
    },
    {
     "name": "stdout",
     "output_type": "stream",
     "text": [
      "HERE: False False\n",
      "HERE: False False\n",
      "HERE: False False\n",
      "HERE: False False\n",
      "HERE: False False\n",
      "HERE: False False\n",
      "HERE: False False\n",
      "HERE: False False\n",
      "HERE: False False\n"
     ]
    },
    {
     "name": "stderr",
     "output_type": "stream",
     "text": [
      "[Parallel(n_jobs=None)]: Done  10 out of  10 | elapsed:  1.5min finished\n"
     ]
    },
    {
     "name": "stdout",
     "output_type": "stream",
     "text": [
      "17 1097.43589744\n",
      "RUNNING: 10\n",
      "CORES: 3\n",
      "HERE: True True\n"
     ]
    },
    {
     "name": "stderr",
     "output_type": "stream",
     "text": [
      "[Parallel(n_jobs=None)]: Done   1 out of   1 | elapsed:    8.1s remaining:    0.0s\n"
     ]
    },
    {
     "name": "stdout",
     "output_type": "stream",
     "text": [
      "HERE: True True\n",
      "HERE: True True\n",
      "HERE: True True\n",
      "HERE: True True\n",
      "HERE: True True\n",
      "HERE: True True\n",
      "HERE: True True\n",
      "HERE: True True\n",
      "HERE: True True\n"
     ]
    },
    {
     "name": "stderr",
     "output_type": "stream",
     "text": [
      "[Parallel(n_jobs=None)]: Done  10 out of  10 | elapsed:  1.5min finished\n"
     ]
    },
    {
     "name": "stdout",
     "output_type": "stream",
     "text": [
      "RUNNING: 10\n",
      "CORES: 3\n",
      "HERE: False True\n"
     ]
    },
    {
     "name": "stderr",
     "output_type": "stream",
     "text": [
      "[Parallel(n_jobs=None)]: Done   1 out of   1 | elapsed:    8.1s remaining:    0.0s\n"
     ]
    },
    {
     "name": "stdout",
     "output_type": "stream",
     "text": [
      "HERE: False True\n",
      "HERE: False True\n",
      "HERE: False True\n",
      "HERE: False True\n",
      "HERE: False True\n",
      "HERE: False True\n",
      "HERE: False True\n",
      "HERE: False True\n",
      "HERE: False True\n"
     ]
    },
    {
     "name": "stderr",
     "output_type": "stream",
     "text": [
      "[Parallel(n_jobs=None)]: Done  10 out of  10 | elapsed:  1.5min finished\n"
     ]
    },
    {
     "name": "stdout",
     "output_type": "stream",
     "text": [
      "RUNNING: 10\n",
      "CORES: 3\n",
      "HERE: False False\n"
     ]
    },
    {
     "name": "stderr",
     "output_type": "stream",
     "text": [
      "[Parallel(n_jobs=None)]: Done   1 out of   1 | elapsed:    8.0s remaining:    0.0s\n"
     ]
    },
    {
     "name": "stdout",
     "output_type": "stream",
     "text": [
      "HERE: False False\n",
      "HERE: False False\n",
      "HERE: False False\n",
      "HERE: False False\n",
      "HERE: False False\n",
      "HERE: False False\n",
      "HERE: False False\n",
      "HERE: False False\n",
      "HERE: False False\n"
     ]
    },
    {
     "name": "stderr",
     "output_type": "stream",
     "text": [
      "[Parallel(n_jobs=None)]: Done  10 out of  10 | elapsed:  1.5min finished\n"
     ]
    },
    {
     "name": "stdout",
     "output_type": "stream",
     "text": [
      "18 1138.46153846\n",
      "RUNNING: 10\n",
      "CORES: 3\n",
      "HERE: True True\n"
     ]
    },
    {
     "name": "stderr",
     "output_type": "stream",
     "text": [
      "[Parallel(n_jobs=None)]: Done   1 out of   1 | elapsed:    8.1s remaining:    0.0s\n"
     ]
    },
    {
     "name": "stdout",
     "output_type": "stream",
     "text": [
      "HERE: True True\n",
      "HERE: True True\n",
      "HERE: True True\n",
      "HERE: True True\n",
      "HERE: True True\n",
      "HERE: True True\n",
      "HERE: True True\n",
      "HERE: True True\n",
      "HERE: True True\n"
     ]
    },
    {
     "name": "stderr",
     "output_type": "stream",
     "text": [
      "[Parallel(n_jobs=None)]: Done  10 out of  10 | elapsed:  1.5min finished\n"
     ]
    },
    {
     "name": "stdout",
     "output_type": "stream",
     "text": [
      "RUNNING: 10\n",
      "CORES: 3\n",
      "HERE: False True\n"
     ]
    },
    {
     "name": "stderr",
     "output_type": "stream",
     "text": [
      "[Parallel(n_jobs=None)]: Done   1 out of   1 | elapsed:    8.0s remaining:    0.0s\n"
     ]
    },
    {
     "name": "stdout",
     "output_type": "stream",
     "text": [
      "HERE: False True\n",
      "HERE: False True\n",
      "HERE: False True\n",
      "HERE: False True\n",
      "HERE: False True\n",
      "HERE: False True\n",
      "HERE: False True\n",
      "HERE: False True\n",
      "HERE: False True\n"
     ]
    },
    {
     "name": "stderr",
     "output_type": "stream",
     "text": [
      "[Parallel(n_jobs=None)]: Done  10 out of  10 | elapsed:  1.5min finished\n"
     ]
    },
    {
     "name": "stdout",
     "output_type": "stream",
     "text": [
      "RUNNING: 10\n",
      "CORES: 3\n",
      "HERE: False False\n"
     ]
    },
    {
     "name": "stderr",
     "output_type": "stream",
     "text": [
      "[Parallel(n_jobs=None)]: Done   1 out of   1 | elapsed:    8.9s remaining:    0.0s\n"
     ]
    },
    {
     "name": "stdout",
     "output_type": "stream",
     "text": [
      "HERE: False False\n",
      "HERE: False False\n",
      "HERE: False False\n",
      "HERE: False False\n",
      "HERE: False False\n",
      "HERE: False False\n",
      "HERE: False False\n",
      "HERE: False False\n",
      "HERE: False False\n"
     ]
    },
    {
     "name": "stderr",
     "output_type": "stream",
     "text": [
      "[Parallel(n_jobs=None)]: Done  10 out of  10 | elapsed:  1.6min finished\n"
     ]
    },
    {
     "name": "stdout",
     "output_type": "stream",
     "text": [
      "19 1179.48717949\n",
      "RUNNING: 10\n",
      "CORES: 3\n",
      "HERE: True True\n"
     ]
    },
    {
     "name": "stderr",
     "output_type": "stream",
     "text": [
      "[Parallel(n_jobs=None)]: Done   1 out of   1 | elapsed:    8.4s remaining:    0.0s\n"
     ]
    },
    {
     "name": "stdout",
     "output_type": "stream",
     "text": [
      "HERE: True True\n",
      "HERE: True True\n",
      "HERE: True True\n",
      "HERE: True True\n",
      "HERE: True True\n",
      "HERE: True True\n",
      "HERE: True True\n",
      "HERE: True True\n",
      "HERE: True True\n"
     ]
    },
    {
     "name": "stderr",
     "output_type": "stream",
     "text": [
      "[Parallel(n_jobs=None)]: Done  10 out of  10 | elapsed:  1.5min finished\n"
     ]
    },
    {
     "name": "stdout",
     "output_type": "stream",
     "text": [
      "RUNNING: 10\n",
      "CORES: 3\n",
      "HERE: False True\n"
     ]
    },
    {
     "name": "stderr",
     "output_type": "stream",
     "text": [
      "[Parallel(n_jobs=None)]: Done   1 out of   1 | elapsed:    8.0s remaining:    0.0s\n"
     ]
    },
    {
     "name": "stdout",
     "output_type": "stream",
     "text": [
      "HERE: False True\n",
      "HERE: False True\n",
      "HERE: False True\n",
      "HERE: False True\n",
      "HERE: False True\n",
      "HERE: False True\n",
      "HERE: False True\n",
      "HERE: False True\n",
      "HERE: False True\n"
     ]
    },
    {
     "name": "stderr",
     "output_type": "stream",
     "text": [
      "[Parallel(n_jobs=None)]: Done  10 out of  10 | elapsed:  1.6min finished\n"
     ]
    },
    {
     "name": "stdout",
     "output_type": "stream",
     "text": [
      "RUNNING: 10\n",
      "CORES: 3\n",
      "HERE: False False\n"
     ]
    },
    {
     "name": "stderr",
     "output_type": "stream",
     "text": [
      "[Parallel(n_jobs=None)]: Done   1 out of   1 | elapsed:    8.3s remaining:    0.0s\n"
     ]
    },
    {
     "name": "stdout",
     "output_type": "stream",
     "text": [
      "HERE: False False\n",
      "HERE: False False\n",
      "HERE: False False\n",
      "HERE: False False\n",
      "HERE: False False\n",
      "HERE: False False\n",
      "HERE: False False\n",
      "HERE: False False\n",
      "HERE: False False\n"
     ]
    },
    {
     "name": "stderr",
     "output_type": "stream",
     "text": [
      "[Parallel(n_jobs=None)]: Done  10 out of  10 | elapsed:  1.6min finished\n"
     ]
    },
    {
     "name": "stdout",
     "output_type": "stream",
     "text": [
      "20 1220.51282051\n",
      "RUNNING: 10\n",
      "CORES: 3\n",
      "HERE: True True\n"
     ]
    },
    {
     "name": "stderr",
     "output_type": "stream",
     "text": [
      "[Parallel(n_jobs=None)]: Done   1 out of   1 | elapsed:    8.1s remaining:    0.0s\n"
     ]
    },
    {
     "name": "stdout",
     "output_type": "stream",
     "text": [
      "HERE: True True\n",
      "HERE: True True\n",
      "HERE: True True\n",
      "HERE: True True\n",
      "HERE: True True\n",
      "HERE: True True\n",
      "HERE: True True\n",
      "HERE: True True\n",
      "HERE: True True\n"
     ]
    },
    {
     "name": "stderr",
     "output_type": "stream",
     "text": [
      "[Parallel(n_jobs=None)]: Done  10 out of  10 | elapsed:  1.5min finished\n"
     ]
    },
    {
     "name": "stdout",
     "output_type": "stream",
     "text": [
      "RUNNING: 10\n",
      "CORES: 3\n",
      "HERE: False True\n"
     ]
    },
    {
     "name": "stderr",
     "output_type": "stream",
     "text": [
      "[Parallel(n_jobs=None)]: Done   1 out of   1 | elapsed:    8.2s remaining:    0.0s\n"
     ]
    },
    {
     "name": "stdout",
     "output_type": "stream",
     "text": [
      "HERE: False True\n",
      "HERE: False True\n",
      "HERE: False True\n",
      "HERE: False True\n",
      "HERE: False True\n",
      "HERE: False True\n",
      "HERE: False True\n",
      "HERE: False True\n",
      "HERE: False True\n"
     ]
    },
    {
     "name": "stderr",
     "output_type": "stream",
     "text": [
      "[Parallel(n_jobs=None)]: Done  10 out of  10 | elapsed:  1.5min finished\n"
     ]
    },
    {
     "name": "stdout",
     "output_type": "stream",
     "text": [
      "RUNNING: 10\n",
      "CORES: 3\n",
      "HERE: False False\n"
     ]
    },
    {
     "name": "stderr",
     "output_type": "stream",
     "text": [
      "[Parallel(n_jobs=None)]: Done   1 out of   1 | elapsed:    8.1s remaining:    0.0s\n"
     ]
    },
    {
     "name": "stdout",
     "output_type": "stream",
     "text": [
      "HERE: False False\n",
      "HERE: False False\n",
      "HERE: False False\n",
      "HERE: False False\n",
      "HERE: False False\n",
      "HERE: False False\n",
      "HERE: False False\n",
      "HERE: False False\n",
      "HERE: False False\n"
     ]
    },
    {
     "name": "stderr",
     "output_type": "stream",
     "text": [
      "[Parallel(n_jobs=None)]: Done  10 out of  10 | elapsed:  1.5min finished\n"
     ]
    },
    {
     "name": "stdout",
     "output_type": "stream",
     "text": [
      "21 1261.53846154\n",
      "RUNNING: 10\n",
      "CORES: 3\n",
      "HERE: True True\n"
     ]
    },
    {
     "name": "stderr",
     "output_type": "stream",
     "text": [
      "[Parallel(n_jobs=None)]: Done   1 out of   1 | elapsed:    8.1s remaining:    0.0s\n"
     ]
    },
    {
     "name": "stdout",
     "output_type": "stream",
     "text": [
      "HERE: True True\n",
      "HERE: True True\n",
      "HERE: True True\n",
      "HERE: True True\n",
      "HERE: True True\n",
      "HERE: True True\n",
      "HERE: True True\n",
      "HERE: True True\n",
      "HERE: True True\n"
     ]
    },
    {
     "name": "stderr",
     "output_type": "stream",
     "text": [
      "[Parallel(n_jobs=None)]: Done  10 out of  10 | elapsed:  1.5min finished\n"
     ]
    },
    {
     "name": "stdout",
     "output_type": "stream",
     "text": [
      "RUNNING: 10\n",
      "CORES: 3\n",
      "HERE: False True\n"
     ]
    },
    {
     "name": "stderr",
     "output_type": "stream",
     "text": [
      "[Parallel(n_jobs=None)]: Done   1 out of   1 | elapsed:    8.0s remaining:    0.0s\n"
     ]
    },
    {
     "name": "stdout",
     "output_type": "stream",
     "text": [
      "HERE: False True\n",
      "HERE: False True\n",
      "HERE: False True\n",
      "HERE: False True\n",
      "HERE: False True\n",
      "HERE: False True\n",
      "HERE: False True\n",
      "HERE: False True\n",
      "HERE: False True\n"
     ]
    },
    {
     "name": "stderr",
     "output_type": "stream",
     "text": [
      "[Parallel(n_jobs=None)]: Done  10 out of  10 | elapsed:  1.6min finished\n"
     ]
    },
    {
     "name": "stdout",
     "output_type": "stream",
     "text": [
      "RUNNING: 10\n",
      "CORES: 3\n",
      "HERE: False False\n"
     ]
    },
    {
     "name": "stderr",
     "output_type": "stream",
     "text": [
      "[Parallel(n_jobs=None)]: Done   1 out of   1 | elapsed:    8.6s remaining:    0.0s\n"
     ]
    },
    {
     "name": "stdout",
     "output_type": "stream",
     "text": [
      "HERE: False False\n",
      "HERE: False False\n",
      "HERE: False False\n",
      "HERE: False False\n",
      "HERE: False False\n",
      "HERE: False False\n",
      "HERE: False False\n",
      "HERE: False False\n",
      "HERE: False False\n"
     ]
    },
    {
     "name": "stderr",
     "output_type": "stream",
     "text": [
      "[Parallel(n_jobs=None)]: Done  10 out of  10 | elapsed:  1.6min finished\n"
     ]
    },
    {
     "name": "stdout",
     "output_type": "stream",
     "text": [
      "22 1302.56410256\n",
      "RUNNING: 10\n",
      "CORES: 3\n",
      "HERE: True True\n"
     ]
    },
    {
     "name": "stderr",
     "output_type": "stream",
     "text": [
      "[Parallel(n_jobs=None)]: Done   1 out of   1 | elapsed:    9.2s remaining:    0.0s\n"
     ]
    },
    {
     "name": "stdout",
     "output_type": "stream",
     "text": [
      "HERE: True True\n",
      "HERE: True True\n",
      "HERE: True True\n",
      "HERE: True True\n",
      "HERE: True True\n",
      "HERE: True True\n",
      "HERE: True True\n",
      "HERE: True True\n",
      "HERE: True True\n"
     ]
    },
    {
     "name": "stderr",
     "output_type": "stream",
     "text": [
      "[Parallel(n_jobs=None)]: Done  10 out of  10 | elapsed:  1.5min finished\n"
     ]
    },
    {
     "name": "stdout",
     "output_type": "stream",
     "text": [
      "RUNNING: 10\n",
      "CORES: 3\n",
      "HERE: False True\n"
     ]
    },
    {
     "name": "stderr",
     "output_type": "stream",
     "text": [
      "[Parallel(n_jobs=None)]: Done   1 out of   1 | elapsed:    8.2s remaining:    0.0s\n"
     ]
    },
    {
     "name": "stdout",
     "output_type": "stream",
     "text": [
      "HERE: False True\n",
      "HERE: False True\n",
      "HERE: False True\n",
      "HERE: False True\n",
      "HERE: False True\n",
      "HERE: False True\n",
      "HERE: False True\n",
      "HERE: False True\n",
      "HERE: False True\n"
     ]
    },
    {
     "name": "stderr",
     "output_type": "stream",
     "text": [
      "[Parallel(n_jobs=None)]: Done  10 out of  10 | elapsed:  1.6min finished\n"
     ]
    },
    {
     "name": "stdout",
     "output_type": "stream",
     "text": [
      "RUNNING: 10\n",
      "CORES: 3\n",
      "HERE: False False\n"
     ]
    },
    {
     "name": "stderr",
     "output_type": "stream",
     "text": [
      "[Parallel(n_jobs=None)]: Done   1 out of   1 | elapsed:    8.1s remaining:    0.0s\n"
     ]
    },
    {
     "name": "stdout",
     "output_type": "stream",
     "text": [
      "HERE: False False\n",
      "HERE: False False\n",
      "HERE: False False\n",
      "HERE: False False\n",
      "HERE: False False\n",
      "HERE: False False\n",
      "HERE: False False\n",
      "HERE: False False\n",
      "HERE: False False\n"
     ]
    },
    {
     "name": "stderr",
     "output_type": "stream",
     "text": [
      "[Parallel(n_jobs=None)]: Done  10 out of  10 | elapsed:  1.6min finished\n"
     ]
    },
    {
     "name": "stdout",
     "output_type": "stream",
     "text": [
      "23 1343.58974359\n",
      "RUNNING: 10\n",
      "CORES: 3\n",
      "HERE: True True\n"
     ]
    },
    {
     "name": "stderr",
     "output_type": "stream",
     "text": [
      "[Parallel(n_jobs=None)]: Done   1 out of   1 | elapsed:    8.2s remaining:    0.0s\n"
     ]
    },
    {
     "name": "stdout",
     "output_type": "stream",
     "text": [
      "HERE: True True\n",
      "HERE: True True\n",
      "HERE: True True\n",
      "HERE: True True\n",
      "HERE: True True\n",
      "HERE: True True\n",
      "HERE: True True\n",
      "HERE: True True\n",
      "HERE: True True\n"
     ]
    },
    {
     "name": "stderr",
     "output_type": "stream",
     "text": [
      "[Parallel(n_jobs=None)]: Done  10 out of  10 | elapsed:  1.6min finished\n"
     ]
    },
    {
     "name": "stdout",
     "output_type": "stream",
     "text": [
      "RUNNING: 10\n",
      "CORES: 3\n",
      "HERE: False True\n"
     ]
    },
    {
     "name": "stderr",
     "output_type": "stream",
     "text": [
      "[Parallel(n_jobs=None)]: Done   1 out of   1 | elapsed:    9.0s remaining:    0.0s\n"
     ]
    },
    {
     "name": "stdout",
     "output_type": "stream",
     "text": [
      "HERE: False True\n",
      "HERE: False True\n",
      "HERE: False True\n",
      "HERE: False True\n",
      "HERE: False True\n",
      "HERE: False True\n",
      "HERE: False True\n",
      "HERE: False True\n",
      "HERE: False True\n"
     ]
    },
    {
     "name": "stderr",
     "output_type": "stream",
     "text": [
      "[Parallel(n_jobs=None)]: Done  10 out of  10 | elapsed:  1.6min finished\n"
     ]
    },
    {
     "name": "stdout",
     "output_type": "stream",
     "text": [
      "RUNNING: 10\n",
      "CORES: 3\n",
      "HERE: False False\n"
     ]
    },
    {
     "name": "stderr",
     "output_type": "stream",
     "text": [
      "[Parallel(n_jobs=None)]: Done   1 out of   1 | elapsed:    8.4s remaining:    0.0s\n"
     ]
    },
    {
     "name": "stdout",
     "output_type": "stream",
     "text": [
      "HERE: False False\n",
      "HERE: False False\n",
      "HERE: False False\n",
      "HERE: False False\n",
      "HERE: False False\n",
      "HERE: False False\n",
      "HERE: False False\n",
      "HERE: False False\n",
      "HERE: False False\n"
     ]
    },
    {
     "name": "stderr",
     "output_type": "stream",
     "text": [
      "[Parallel(n_jobs=None)]: Done  10 out of  10 | elapsed:  1.6min finished\n"
     ]
    },
    {
     "name": "stdout",
     "output_type": "stream",
     "text": [
      "24 1384.61538462\n",
      "RUNNING: 10\n",
      "CORES: 3\n",
      "HERE: True True\n"
     ]
    },
    {
     "name": "stderr",
     "output_type": "stream",
     "text": [
      "[Parallel(n_jobs=None)]: Done   1 out of   1 | elapsed:    8.3s remaining:    0.0s\n"
     ]
    },
    {
     "name": "stdout",
     "output_type": "stream",
     "text": [
      "HERE: True True\n",
      "HERE: True True\n",
      "HERE: True True\n",
      "HERE: True True\n",
      "HERE: True True\n",
      "HERE: True True\n",
      "HERE: True True\n",
      "HERE: True True\n",
      "HERE: True True\n"
     ]
    },
    {
     "name": "stderr",
     "output_type": "stream",
     "text": [
      "[Parallel(n_jobs=None)]: Done  10 out of  10 | elapsed:  1.5min finished\n"
     ]
    },
    {
     "name": "stdout",
     "output_type": "stream",
     "text": [
      "RUNNING: 10\n",
      "CORES: 3\n",
      "HERE: False True\n"
     ]
    },
    {
     "name": "stderr",
     "output_type": "stream",
     "text": [
      "[Parallel(n_jobs=None)]: Done   1 out of   1 | elapsed:    8.5s remaining:    0.0s\n"
     ]
    },
    {
     "name": "stdout",
     "output_type": "stream",
     "text": [
      "HERE: False True\n",
      "HERE: False True\n",
      "HERE: False True\n",
      "HERE: False True\n",
      "HERE: False True\n",
      "HERE: False True\n",
      "HERE: False True\n",
      "HERE: False True\n",
      "HERE: False True\n"
     ]
    },
    {
     "name": "stderr",
     "output_type": "stream",
     "text": [
      "[Parallel(n_jobs=None)]: Done  10 out of  10 | elapsed:  1.6min finished\n"
     ]
    },
    {
     "name": "stdout",
     "output_type": "stream",
     "text": [
      "RUNNING: 10\n",
      "CORES: 3\n",
      "HERE: False False\n"
     ]
    },
    {
     "name": "stderr",
     "output_type": "stream",
     "text": [
      "[Parallel(n_jobs=None)]: Done   1 out of   1 | elapsed:    8.5s remaining:    0.0s\n"
     ]
    },
    {
     "name": "stdout",
     "output_type": "stream",
     "text": [
      "HERE: False False\n",
      "HERE: False False\n",
      "HERE: False False\n",
      "HERE: False False\n",
      "HERE: False False\n",
      "HERE: False False\n",
      "HERE: False False\n",
      "HERE: False False\n",
      "HERE: False False\n"
     ]
    },
    {
     "name": "stderr",
     "output_type": "stream",
     "text": [
      "[Parallel(n_jobs=None)]: Done  10 out of  10 | elapsed:  1.6min finished\n"
     ]
    },
    {
     "name": "stdout",
     "output_type": "stream",
     "text": [
      "25 1425.64102564\n",
      "RUNNING: 10\n",
      "CORES: 3\n",
      "HERE: True True\n"
     ]
    },
    {
     "name": "stderr",
     "output_type": "stream",
     "text": [
      "[Parallel(n_jobs=None)]: Done   1 out of   1 | elapsed:    8.4s remaining:    0.0s\n"
     ]
    },
    {
     "name": "stdout",
     "output_type": "stream",
     "text": [
      "HERE: True True\n",
      "HERE: True True\n",
      "HERE: True True\n",
      "HERE: True True\n",
      "HERE: True True\n",
      "HERE: True True\n",
      "HERE: True True\n",
      "HERE: True True\n",
      "HERE: True True\n"
     ]
    },
    {
     "name": "stderr",
     "output_type": "stream",
     "text": [
      "[Parallel(n_jobs=None)]: Done  10 out of  10 | elapsed:  1.6min finished\n"
     ]
    },
    {
     "name": "stdout",
     "output_type": "stream",
     "text": [
      "RUNNING: 10\n",
      "CORES: 3\n",
      "HERE: False True\n"
     ]
    },
    {
     "name": "stderr",
     "output_type": "stream",
     "text": [
      "[Parallel(n_jobs=None)]: Done   1 out of   1 | elapsed:    7.9s remaining:    0.0s\n"
     ]
    },
    {
     "name": "stdout",
     "output_type": "stream",
     "text": [
      "HERE: False True\n",
      "HERE: False True\n",
      "HERE: False True\n",
      "HERE: False True\n",
      "HERE: False True\n",
      "HERE: False True\n",
      "HERE: False True\n",
      "HERE: False True\n",
      "HERE: False True\n"
     ]
    },
    {
     "name": "stderr",
     "output_type": "stream",
     "text": [
      "[Parallel(n_jobs=None)]: Done  10 out of  10 | elapsed:  1.5min finished\n"
     ]
    },
    {
     "name": "stdout",
     "output_type": "stream",
     "text": [
      "RUNNING: 10\n",
      "CORES: 3\n",
      "HERE: False False\n"
     ]
    },
    {
     "name": "stderr",
     "output_type": "stream",
     "text": [
      "[Parallel(n_jobs=None)]: Done   1 out of   1 | elapsed:    8.2s remaining:    0.0s\n"
     ]
    },
    {
     "name": "stdout",
     "output_type": "stream",
     "text": [
      "HERE: False False\n",
      "HERE: False False\n",
      "HERE: False False\n",
      "HERE: False False\n",
      "HERE: False False\n",
      "HERE: False False\n",
      "HERE: False False\n",
      "HERE: False False\n",
      "HERE: False False\n"
     ]
    },
    {
     "name": "stderr",
     "output_type": "stream",
     "text": [
      "[Parallel(n_jobs=None)]: Done  10 out of  10 | elapsed:  1.5min finished\n"
     ]
    },
    {
     "name": "stdout",
     "output_type": "stream",
     "text": [
      "26 1466.66666667\n",
      "RUNNING: 10\n",
      "CORES: 3\n",
      "HERE: True True\n"
     ]
    },
    {
     "name": "stderr",
     "output_type": "stream",
     "text": [
      "[Parallel(n_jobs=None)]: Done   1 out of   1 | elapsed:    7.9s remaining:    0.0s\n"
     ]
    },
    {
     "name": "stdout",
     "output_type": "stream",
     "text": [
      "HERE: True True\n",
      "HERE: True True\n",
      "HERE: True True\n",
      "HERE: True True\n",
      "HERE: True True\n",
      "HERE: True True\n",
      "HERE: True True\n",
      "HERE: True True\n",
      "HERE: True True\n"
     ]
    },
    {
     "name": "stderr",
     "output_type": "stream",
     "text": [
      "[Parallel(n_jobs=None)]: Done  10 out of  10 | elapsed:  1.5min finished\n"
     ]
    },
    {
     "name": "stdout",
     "output_type": "stream",
     "text": [
      "RUNNING: 10\n",
      "CORES: 3\n",
      "HERE: False True\n"
     ]
    },
    {
     "name": "stderr",
     "output_type": "stream",
     "text": [
      "[Parallel(n_jobs=None)]: Done   1 out of   1 | elapsed:    8.0s remaining:    0.0s\n"
     ]
    },
    {
     "name": "stdout",
     "output_type": "stream",
     "text": [
      "HERE: False True\n",
      "HERE: False True\n",
      "HERE: False True\n",
      "HERE: False True\n",
      "HERE: False True\n",
      "HERE: False True\n",
      "HERE: False True\n",
      "HERE: False True\n",
      "HERE: False True\n"
     ]
    },
    {
     "name": "stderr",
     "output_type": "stream",
     "text": [
      "[Parallel(n_jobs=None)]: Done  10 out of  10 | elapsed:  1.5min finished\n"
     ]
    },
    {
     "name": "stdout",
     "output_type": "stream",
     "text": [
      "RUNNING: 10\n",
      "CORES: 3\n",
      "HERE: False False\n"
     ]
    },
    {
     "name": "stderr",
     "output_type": "stream",
     "text": [
      "[Parallel(n_jobs=None)]: Done   1 out of   1 | elapsed:    8.2s remaining:    0.0s\n"
     ]
    },
    {
     "name": "stdout",
     "output_type": "stream",
     "text": [
      "HERE: False False\n",
      "HERE: False False\n",
      "HERE: False False\n",
      "HERE: False False\n",
      "HERE: False False\n",
      "HERE: False False\n",
      "HERE: False False\n",
      "HERE: False False\n",
      "HERE: False False\n"
     ]
    },
    {
     "name": "stderr",
     "output_type": "stream",
     "text": [
      "[Parallel(n_jobs=None)]: Done  10 out of  10 | elapsed:  1.6min finished\n"
     ]
    },
    {
     "name": "stdout",
     "output_type": "stream",
     "text": [
      "27 1507.69230769\n",
      "RUNNING: 10\n",
      "CORES: 3\n",
      "HERE: True True\n"
     ]
    },
    {
     "name": "stderr",
     "output_type": "stream",
     "text": [
      "[Parallel(n_jobs=None)]: Done   1 out of   1 | elapsed:    8.2s remaining:    0.0s\n"
     ]
    },
    {
     "name": "stdout",
     "output_type": "stream",
     "text": [
      "HERE: True True\n",
      "HERE: True True\n",
      "HERE: True True\n",
      "HERE: True True\n",
      "HERE: True True\n",
      "HERE: True True\n",
      "HERE: True True\n",
      "HERE: True True\n",
      "HERE: True True\n"
     ]
    },
    {
     "name": "stderr",
     "output_type": "stream",
     "text": [
      "[Parallel(n_jobs=None)]: Done  10 out of  10 | elapsed:  1.5min finished\n"
     ]
    },
    {
     "name": "stdout",
     "output_type": "stream",
     "text": [
      "RUNNING: 10\n",
      "CORES: 3\n",
      "HERE: False True\n"
     ]
    },
    {
     "name": "stderr",
     "output_type": "stream",
     "text": [
      "[Parallel(n_jobs=None)]: Done   1 out of   1 | elapsed:    8.0s remaining:    0.0s\n"
     ]
    },
    {
     "name": "stdout",
     "output_type": "stream",
     "text": [
      "HERE: False True\n",
      "HERE: False True\n",
      "HERE: False True\n",
      "HERE: False True\n",
      "HERE: False True\n",
      "HERE: False True\n",
      "HERE: False True\n",
      "HERE: False True\n",
      "HERE: False True\n"
     ]
    },
    {
     "name": "stderr",
     "output_type": "stream",
     "text": [
      "[Parallel(n_jobs=None)]: Done  10 out of  10 | elapsed:  1.6min finished\n"
     ]
    },
    {
     "name": "stdout",
     "output_type": "stream",
     "text": [
      "RUNNING: 10\n",
      "CORES: 3\n",
      "HERE: False False\n"
     ]
    },
    {
     "name": "stderr",
     "output_type": "stream",
     "text": [
      "[Parallel(n_jobs=None)]: Done   1 out of   1 | elapsed:    8.0s remaining:    0.0s\n"
     ]
    },
    {
     "name": "stdout",
     "output_type": "stream",
     "text": [
      "HERE: False False\n",
      "HERE: False False\n",
      "HERE: False False\n",
      "HERE: False False\n",
      "HERE: False False\n",
      "HERE: False False\n",
      "HERE: False False\n",
      "HERE: False False\n",
      "HERE: False False\n"
     ]
    },
    {
     "name": "stderr",
     "output_type": "stream",
     "text": [
      "[Parallel(n_jobs=None)]: Done  10 out of  10 | elapsed:  1.5min finished\n"
     ]
    },
    {
     "name": "stdout",
     "output_type": "stream",
     "text": [
      "28 1548.71794872\n",
      "RUNNING: 10\n",
      "CORES: 3\n",
      "HERE: True True\n"
     ]
    },
    {
     "name": "stderr",
     "output_type": "stream",
     "text": [
      "[Parallel(n_jobs=None)]: Done   1 out of   1 | elapsed:    7.9s remaining:    0.0s\n"
     ]
    },
    {
     "name": "stdout",
     "output_type": "stream",
     "text": [
      "HERE: True True\n",
      "HERE: True True\n",
      "HERE: True True\n",
      "HERE: True True\n",
      "HERE: True True\n",
      "HERE: True True\n",
      "HERE: True True\n",
      "HERE: True True\n",
      "HERE: True True\n"
     ]
    },
    {
     "name": "stderr",
     "output_type": "stream",
     "text": [
      "[Parallel(n_jobs=None)]: Done  10 out of  10 | elapsed:  1.5min finished\n"
     ]
    },
    {
     "name": "stdout",
     "output_type": "stream",
     "text": [
      "RUNNING: 10\n",
      "CORES: 3\n",
      "HERE: False True\n"
     ]
    },
    {
     "name": "stderr",
     "output_type": "stream",
     "text": [
      "[Parallel(n_jobs=None)]: Done   1 out of   1 | elapsed:    8.1s remaining:    0.0s\n"
     ]
    },
    {
     "name": "stdout",
     "output_type": "stream",
     "text": [
      "HERE: False True\n",
      "HERE: False True\n",
      "HERE: False True\n",
      "HERE: False True\n",
      "HERE: False True\n",
      "HERE: False True\n",
      "HERE: False True\n",
      "HERE: False True\n",
      "HERE: False True\n"
     ]
    },
    {
     "name": "stderr",
     "output_type": "stream",
     "text": [
      "[Parallel(n_jobs=None)]: Done  10 out of  10 | elapsed:  1.5min finished\n"
     ]
    },
    {
     "name": "stdout",
     "output_type": "stream",
     "text": [
      "RUNNING: 10\n",
      "CORES: 3\n",
      "HERE: False False\n"
     ]
    },
    {
     "name": "stderr",
     "output_type": "stream",
     "text": [
      "[Parallel(n_jobs=None)]: Done   1 out of   1 | elapsed:    8.1s remaining:    0.0s\n"
     ]
    },
    {
     "name": "stdout",
     "output_type": "stream",
     "text": [
      "HERE: False False\n",
      "HERE: False False\n",
      "HERE: False False\n",
      "HERE: False False\n",
      "HERE: False False\n",
      "HERE: False False\n",
      "HERE: False False\n",
      "HERE: False False\n",
      "HERE: False False\n"
     ]
    },
    {
     "name": "stderr",
     "output_type": "stream",
     "text": [
      "[Parallel(n_jobs=None)]: Done  10 out of  10 | elapsed:  1.5min finished\n"
     ]
    },
    {
     "name": "stdout",
     "output_type": "stream",
     "text": [
      "29 1589.74358974\n",
      "RUNNING: 10\n",
      "CORES: 3\n",
      "HERE: True True\n"
     ]
    },
    {
     "name": "stderr",
     "output_type": "stream",
     "text": [
      "[Parallel(n_jobs=None)]: Done   1 out of   1 | elapsed:    8.0s remaining:    0.0s\n"
     ]
    },
    {
     "name": "stdout",
     "output_type": "stream",
     "text": [
      "HERE: True True\n",
      "HERE: True True\n",
      "HERE: True True\n",
      "HERE: True True\n",
      "HERE: True True\n",
      "HERE: True True\n",
      "HERE: True True\n",
      "HERE: True True\n",
      "HERE: True True\n"
     ]
    },
    {
     "name": "stderr",
     "output_type": "stream",
     "text": [
      "[Parallel(n_jobs=None)]: Done  10 out of  10 | elapsed:  1.5min finished\n"
     ]
    },
    {
     "name": "stdout",
     "output_type": "stream",
     "text": [
      "RUNNING: 10\n",
      "CORES: 3\n",
      "HERE: False True\n"
     ]
    },
    {
     "name": "stderr",
     "output_type": "stream",
     "text": [
      "[Parallel(n_jobs=None)]: Done   1 out of   1 | elapsed:    8.0s remaining:    0.0s\n"
     ]
    },
    {
     "name": "stdout",
     "output_type": "stream",
     "text": [
      "HERE: False True\n",
      "HERE: False True\n",
      "HERE: False True\n",
      "HERE: False True\n",
      "HERE: False True\n",
      "HERE: False True\n",
      "HERE: False True\n",
      "HERE: False True\n",
      "HERE: False True\n"
     ]
    },
    {
     "name": "stderr",
     "output_type": "stream",
     "text": [
      "[Parallel(n_jobs=None)]: Done  10 out of  10 | elapsed:  1.5min finished\n"
     ]
    },
    {
     "name": "stdout",
     "output_type": "stream",
     "text": [
      "RUNNING: 10\n",
      "CORES: 3\n",
      "HERE: False False\n"
     ]
    },
    {
     "name": "stderr",
     "output_type": "stream",
     "text": [
      "[Parallel(n_jobs=None)]: Done   1 out of   1 | elapsed:    8.0s remaining:    0.0s\n"
     ]
    },
    {
     "name": "stdout",
     "output_type": "stream",
     "text": [
      "HERE: False False\n",
      "HERE: False False\n",
      "HERE: False False\n",
      "HERE: False False\n",
      "HERE: False False\n",
      "HERE: False False\n",
      "HERE: False False\n",
      "HERE: False False\n",
      "HERE: False False\n"
     ]
    },
    {
     "name": "stderr",
     "output_type": "stream",
     "text": [
      "[Parallel(n_jobs=None)]: Done  10 out of  10 | elapsed:  1.5min finished\n"
     ]
    },
    {
     "name": "stdout",
     "output_type": "stream",
     "text": [
      "30 1630.76923077\n",
      "RUNNING: 10\n",
      "CORES: 3\n",
      "HERE: True True\n"
     ]
    },
    {
     "name": "stderr",
     "output_type": "stream",
     "text": [
      "[Parallel(n_jobs=None)]: Done   1 out of   1 | elapsed:    8.0s remaining:    0.0s\n"
     ]
    },
    {
     "name": "stdout",
     "output_type": "stream",
     "text": [
      "HERE: True True\n",
      "HERE: True True\n",
      "HERE: True True\n",
      "HERE: True True\n",
      "HERE: True True\n",
      "HERE: True True\n",
      "HERE: True True\n",
      "HERE: True True\n",
      "HERE: True True\n"
     ]
    },
    {
     "name": "stderr",
     "output_type": "stream",
     "text": [
      "[Parallel(n_jobs=None)]: Done  10 out of  10 | elapsed:  1.5min finished\n"
     ]
    },
    {
     "name": "stdout",
     "output_type": "stream",
     "text": [
      "RUNNING: 10\n",
      "CORES: 3\n",
      "HERE: False True\n"
     ]
    },
    {
     "name": "stderr",
     "output_type": "stream",
     "text": [
      "[Parallel(n_jobs=None)]: Done   1 out of   1 | elapsed:    8.0s remaining:    0.0s\n"
     ]
    },
    {
     "name": "stdout",
     "output_type": "stream",
     "text": [
      "HERE: False True\n",
      "HERE: False True\n",
      "HERE: False True\n",
      "HERE: False True\n",
      "HERE: False True\n",
      "HERE: False True\n",
      "HERE: False True\n",
      "HERE: False True\n",
      "HERE: False True\n"
     ]
    },
    {
     "name": "stderr",
     "output_type": "stream",
     "text": [
      "[Parallel(n_jobs=None)]: Done  10 out of  10 | elapsed:  1.5min finished\n"
     ]
    },
    {
     "name": "stdout",
     "output_type": "stream",
     "text": [
      "RUNNING: 10\n",
      "CORES: 3\n",
      "HERE: False False\n"
     ]
    },
    {
     "name": "stderr",
     "output_type": "stream",
     "text": [
      "[Parallel(n_jobs=None)]: Done   1 out of   1 | elapsed:    8.0s remaining:    0.0s\n"
     ]
    },
    {
     "name": "stdout",
     "output_type": "stream",
     "text": [
      "HERE: False False\n",
      "HERE: False False\n",
      "HERE: False False\n",
      "HERE: False False\n",
      "HERE: False False\n",
      "HERE: False False\n",
      "HERE: False False\n",
      "HERE: False False\n",
      "HERE: False False\n"
     ]
    },
    {
     "name": "stderr",
     "output_type": "stream",
     "text": [
      "[Parallel(n_jobs=None)]: Done  10 out of  10 | elapsed:  1.5min finished\n"
     ]
    },
    {
     "name": "stdout",
     "output_type": "stream",
     "text": [
      "31 1671.79487179\n",
      "RUNNING: 10\n",
      "CORES: 3\n",
      "HERE: True True\n"
     ]
    },
    {
     "name": "stderr",
     "output_type": "stream",
     "text": [
      "[Parallel(n_jobs=None)]: Done   1 out of   1 | elapsed:    8.0s remaining:    0.0s\n"
     ]
    },
    {
     "name": "stdout",
     "output_type": "stream",
     "text": [
      "HERE: True True\n",
      "HERE: True True\n",
      "HERE: True True\n",
      "HERE: True True\n",
      "HERE: True True\n",
      "HERE: True True\n",
      "HERE: True True\n",
      "HERE: True True\n",
      "HERE: True True\n"
     ]
    },
    {
     "name": "stderr",
     "output_type": "stream",
     "text": [
      "[Parallel(n_jobs=None)]: Done  10 out of  10 | elapsed:  1.5min finished\n"
     ]
    },
    {
     "name": "stdout",
     "output_type": "stream",
     "text": [
      "RUNNING: 10\n",
      "CORES: 3\n",
      "HERE: False True\n"
     ]
    },
    {
     "name": "stderr",
     "output_type": "stream",
     "text": [
      "[Parallel(n_jobs=None)]: Done   1 out of   1 | elapsed:    8.3s remaining:    0.0s\n"
     ]
    },
    {
     "name": "stdout",
     "output_type": "stream",
     "text": [
      "HERE: False True\n",
      "HERE: False True\n",
      "HERE: False True\n",
      "HERE: False True\n",
      "HERE: False True\n",
      "HERE: False True\n",
      "HERE: False True\n",
      "HERE: False True\n",
      "HERE: False True\n"
     ]
    },
    {
     "name": "stderr",
     "output_type": "stream",
     "text": [
      "[Parallel(n_jobs=None)]: Done  10 out of  10 | elapsed:  1.5min finished\n"
     ]
    },
    {
     "name": "stdout",
     "output_type": "stream",
     "text": [
      "RUNNING: 10\n",
      "CORES: 3\n",
      "HERE: False False\n"
     ]
    },
    {
     "name": "stderr",
     "output_type": "stream",
     "text": [
      "[Parallel(n_jobs=None)]: Done   1 out of   1 | elapsed:    8.2s remaining:    0.0s\n"
     ]
    },
    {
     "name": "stdout",
     "output_type": "stream",
     "text": [
      "HERE: False False\n",
      "HERE: False False\n",
      "HERE: False False\n",
      "HERE: False False\n",
      "HERE: False False\n",
      "HERE: False False\n",
      "HERE: False False\n",
      "HERE: False False\n",
      "HERE: False False\n"
     ]
    },
    {
     "name": "stderr",
     "output_type": "stream",
     "text": [
      "[Parallel(n_jobs=None)]: Done  10 out of  10 | elapsed:  1.5min finished\n"
     ]
    },
    {
     "name": "stdout",
     "output_type": "stream",
     "text": [
      "32 1712.82051282\n",
      "RUNNING: 10\n",
      "CORES: 3\n",
      "HERE: True True\n"
     ]
    },
    {
     "name": "stderr",
     "output_type": "stream",
     "text": [
      "[Parallel(n_jobs=None)]: Done   1 out of   1 | elapsed:    8.1s remaining:    0.0s\n"
     ]
    },
    {
     "name": "stdout",
     "output_type": "stream",
     "text": [
      "HERE: True True\n",
      "HERE: True True\n",
      "HERE: True True\n",
      "HERE: True True\n",
      "HERE: True True\n",
      "HERE: True True\n",
      "HERE: True True\n",
      "HERE: True True\n",
      "HERE: True True\n"
     ]
    },
    {
     "name": "stderr",
     "output_type": "stream",
     "text": [
      "[Parallel(n_jobs=None)]: Done  10 out of  10 | elapsed:  1.5min finished\n"
     ]
    },
    {
     "name": "stdout",
     "output_type": "stream",
     "text": [
      "RUNNING: 10\n",
      "CORES: 3\n",
      "HERE: False True\n"
     ]
    },
    {
     "name": "stderr",
     "output_type": "stream",
     "text": [
      "[Parallel(n_jobs=None)]: Done   1 out of   1 | elapsed:    8.0s remaining:    0.0s\n"
     ]
    },
    {
     "name": "stdout",
     "output_type": "stream",
     "text": [
      "HERE: False True\n",
      "HERE: False True\n",
      "HERE: False True\n",
      "HERE: False True\n",
      "HERE: False True\n",
      "HERE: False True\n",
      "HERE: False True\n",
      "HERE: False True\n",
      "HERE: False True\n"
     ]
    },
    {
     "name": "stderr",
     "output_type": "stream",
     "text": [
      "[Parallel(n_jobs=None)]: Done  10 out of  10 | elapsed:  1.5min finished\n"
     ]
    },
    {
     "name": "stdout",
     "output_type": "stream",
     "text": [
      "RUNNING: 10\n",
      "CORES: 3\n",
      "HERE: False False\n"
     ]
    },
    {
     "name": "stderr",
     "output_type": "stream",
     "text": [
      "[Parallel(n_jobs=None)]: Done   1 out of   1 | elapsed:    8.1s remaining:    0.0s\n"
     ]
    },
    {
     "name": "stdout",
     "output_type": "stream",
     "text": [
      "HERE: False False\n",
      "HERE: False False\n",
      "HERE: False False\n",
      "HERE: False False\n",
      "HERE: False False\n",
      "HERE: False False\n",
      "HERE: False False\n",
      "HERE: False False\n",
      "HERE: False False\n"
     ]
    },
    {
     "name": "stderr",
     "output_type": "stream",
     "text": [
      "[Parallel(n_jobs=None)]: Done  10 out of  10 | elapsed:  1.5min finished\n"
     ]
    },
    {
     "name": "stdout",
     "output_type": "stream",
     "text": [
      "33 1753.84615385\n",
      "RUNNING: 10\n",
      "CORES: 3\n",
      "HERE: True True\n"
     ]
    },
    {
     "name": "stderr",
     "output_type": "stream",
     "text": [
      "[Parallel(n_jobs=None)]: Done   1 out of   1 | elapsed:    8.1s remaining:    0.0s\n"
     ]
    },
    {
     "name": "stdout",
     "output_type": "stream",
     "text": [
      "HERE: True True\n",
      "HERE: True True\n",
      "HERE: True True\n",
      "HERE: True True\n",
      "HERE: True True\n",
      "HERE: True True\n",
      "HERE: True True\n",
      "HERE: True True\n",
      "HERE: True True\n"
     ]
    },
    {
     "name": "stderr",
     "output_type": "stream",
     "text": [
      "[Parallel(n_jobs=None)]: Done  10 out of  10 | elapsed:  1.5min finished\n"
     ]
    },
    {
     "name": "stdout",
     "output_type": "stream",
     "text": [
      "RUNNING: 10\n",
      "CORES: 3\n",
      "HERE: False True\n"
     ]
    },
    {
     "name": "stderr",
     "output_type": "stream",
     "text": [
      "[Parallel(n_jobs=None)]: Done   1 out of   1 | elapsed:    8.4s remaining:    0.0s\n"
     ]
    },
    {
     "name": "stdout",
     "output_type": "stream",
     "text": [
      "HERE: False True\n",
      "HERE: False True\n",
      "HERE: False True\n",
      "HERE: False True\n",
      "HERE: False True\n",
      "HERE: False True\n",
      "HERE: False True\n",
      "HERE: False True\n",
      "HERE: False True\n"
     ]
    },
    {
     "name": "stderr",
     "output_type": "stream",
     "text": [
      "[Parallel(n_jobs=None)]: Done  10 out of  10 | elapsed:  1.5min finished\n"
     ]
    },
    {
     "name": "stdout",
     "output_type": "stream",
     "text": [
      "RUNNING: 10\n",
      "CORES: 3\n",
      "HERE: False False\n"
     ]
    },
    {
     "name": "stderr",
     "output_type": "stream",
     "text": [
      "[Parallel(n_jobs=None)]: Done   1 out of   1 | elapsed:    8.3s remaining:    0.0s\n"
     ]
    },
    {
     "name": "stdout",
     "output_type": "stream",
     "text": [
      "HERE: False False\n",
      "HERE: False False\n",
      "HERE: False False\n",
      "HERE: False False\n",
      "HERE: False False\n",
      "HERE: False False\n",
      "HERE: False False\n",
      "HERE: False False\n",
      "HERE: False False\n"
     ]
    },
    {
     "name": "stderr",
     "output_type": "stream",
     "text": [
      "[Parallel(n_jobs=None)]: Done  10 out of  10 | elapsed:  1.5min finished\n"
     ]
    },
    {
     "name": "stdout",
     "output_type": "stream",
     "text": [
      "34 1794.87179487\n",
      "RUNNING: 10\n",
      "CORES: 3\n",
      "HERE: True True\n"
     ]
    },
    {
     "name": "stderr",
     "output_type": "stream",
     "text": [
      "[Parallel(n_jobs=None)]: Done   1 out of   1 | elapsed:    8.1s remaining:    0.0s\n"
     ]
    },
    {
     "name": "stdout",
     "output_type": "stream",
     "text": [
      "HERE: True True\n",
      "HERE: True True\n",
      "HERE: True True\n",
      "HERE: True True\n",
      "HERE: True True\n",
      "HERE: True True\n",
      "HERE: True True\n",
      "HERE: True True\n",
      "HERE: True True\n"
     ]
    },
    {
     "name": "stderr",
     "output_type": "stream",
     "text": [
      "[Parallel(n_jobs=None)]: Done  10 out of  10 | elapsed:  1.5min finished\n"
     ]
    },
    {
     "name": "stdout",
     "output_type": "stream",
     "text": [
      "RUNNING: 10\n",
      "CORES: 3\n",
      "HERE: False True\n"
     ]
    },
    {
     "name": "stderr",
     "output_type": "stream",
     "text": [
      "[Parallel(n_jobs=None)]: Done   1 out of   1 | elapsed:    8.6s remaining:    0.0s\n"
     ]
    },
    {
     "name": "stdout",
     "output_type": "stream",
     "text": [
      "HERE: False True\n",
      "HERE: False True\n",
      "HERE: False True\n",
      "HERE: False True\n",
      "HERE: False True\n",
      "HERE: False True\n",
      "HERE: False True\n",
      "HERE: False True\n",
      "HERE: False True\n"
     ]
    },
    {
     "name": "stderr",
     "output_type": "stream",
     "text": [
      "[Parallel(n_jobs=None)]: Done  10 out of  10 | elapsed:  1.6min finished\n"
     ]
    },
    {
     "name": "stdout",
     "output_type": "stream",
     "text": [
      "RUNNING: 10\n",
      "CORES: 3\n",
      "HERE: False False\n"
     ]
    },
    {
     "name": "stderr",
     "output_type": "stream",
     "text": [
      "[Parallel(n_jobs=None)]: Done   1 out of   1 | elapsed:    8.0s remaining:    0.0s\n"
     ]
    },
    {
     "name": "stdout",
     "output_type": "stream",
     "text": [
      "HERE: False False\n",
      "HERE: False False\n",
      "HERE: False False\n",
      "HERE: False False\n",
      "HERE: False False\n",
      "HERE: False False\n",
      "HERE: False False\n",
      "HERE: False False\n",
      "HERE: False False\n"
     ]
    },
    {
     "name": "stderr",
     "output_type": "stream",
     "text": [
      "[Parallel(n_jobs=None)]: Done  10 out of  10 | elapsed:  1.6min finished\n"
     ]
    },
    {
     "name": "stdout",
     "output_type": "stream",
     "text": [
      "35 1835.8974359\n",
      "RUNNING: 10\n",
      "CORES: 3\n",
      "HERE: True True\n"
     ]
    },
    {
     "name": "stderr",
     "output_type": "stream",
     "text": [
      "[Parallel(n_jobs=None)]: Done   1 out of   1 | elapsed:    8.4s remaining:    0.0s\n"
     ]
    },
    {
     "name": "stdout",
     "output_type": "stream",
     "text": [
      "HERE: True True\n",
      "HERE: True True\n",
      "HERE: True True\n",
      "HERE: True True\n",
      "HERE: True True\n",
      "HERE: True True\n",
      "HERE: True True\n",
      "HERE: True True\n",
      "HERE: True True\n"
     ]
    },
    {
     "name": "stderr",
     "output_type": "stream",
     "text": [
      "[Parallel(n_jobs=None)]: Done  10 out of  10 | elapsed:  1.6min finished\n"
     ]
    },
    {
     "name": "stdout",
     "output_type": "stream",
     "text": [
      "RUNNING: 10\n",
      "CORES: 3\n",
      "HERE: False True\n"
     ]
    },
    {
     "name": "stderr",
     "output_type": "stream",
     "text": [
      "[Parallel(n_jobs=None)]: Done   1 out of   1 | elapsed:    8.6s remaining:    0.0s\n"
     ]
    },
    {
     "name": "stdout",
     "output_type": "stream",
     "text": [
      "HERE: False True\n",
      "HERE: False True\n",
      "HERE: False True\n",
      "HERE: False True\n",
      "HERE: False True\n",
      "HERE: False True\n",
      "HERE: False True\n",
      "HERE: False True\n",
      "HERE: False True\n"
     ]
    },
    {
     "name": "stderr",
     "output_type": "stream",
     "text": [
      "[Parallel(n_jobs=None)]: Done  10 out of  10 | elapsed:  1.6min finished\n"
     ]
    },
    {
     "name": "stdout",
     "output_type": "stream",
     "text": [
      "RUNNING: 10\n",
      "CORES: 3\n",
      "HERE: False False\n"
     ]
    },
    {
     "name": "stderr",
     "output_type": "stream",
     "text": [
      "[Parallel(n_jobs=None)]: Done   1 out of   1 | elapsed:    8.4s remaining:    0.0s\n"
     ]
    },
    {
     "name": "stdout",
     "output_type": "stream",
     "text": [
      "HERE: False False\n",
      "HERE: False False\n",
      "HERE: False False\n",
      "HERE: False False\n",
      "HERE: False False\n",
      "HERE: False False\n",
      "HERE: False False\n",
      "HERE: False False\n",
      "HERE: False False\n"
     ]
    },
    {
     "name": "stderr",
     "output_type": "stream",
     "text": [
      "[Parallel(n_jobs=None)]: Done  10 out of  10 | elapsed:  1.5min finished\n"
     ]
    },
    {
     "name": "stdout",
     "output_type": "stream",
     "text": [
      "36 1876.92307692\n",
      "RUNNING: 10\n",
      "CORES: 3\n",
      "HERE: True True\n"
     ]
    },
    {
     "name": "stderr",
     "output_type": "stream",
     "text": [
      "[Parallel(n_jobs=None)]: Done   1 out of   1 | elapsed:    7.9s remaining:    0.0s\n"
     ]
    },
    {
     "name": "stdout",
     "output_type": "stream",
     "text": [
      "HERE: True True\n",
      "HERE: True True\n",
      "HERE: True True\n",
      "HERE: True True\n",
      "HERE: True True\n",
      "HERE: True True\n",
      "HERE: True True\n",
      "HERE: True True\n",
      "HERE: True True\n"
     ]
    },
    {
     "name": "stderr",
     "output_type": "stream",
     "text": [
      "[Parallel(n_jobs=None)]: Done  10 out of  10 | elapsed:  1.5min finished\n"
     ]
    },
    {
     "name": "stdout",
     "output_type": "stream",
     "text": [
      "RUNNING: 10\n",
      "CORES: 3\n",
      "HERE: False True\n"
     ]
    },
    {
     "name": "stderr",
     "output_type": "stream",
     "text": [
      "[Parallel(n_jobs=None)]: Done   1 out of   1 | elapsed:    8.2s remaining:    0.0s\n"
     ]
    },
    {
     "name": "stdout",
     "output_type": "stream",
     "text": [
      "HERE: False True\n",
      "HERE: False True\n",
      "HERE: False True\n",
      "HERE: False True\n",
      "HERE: False True\n",
      "HERE: False True\n",
      "HERE: False True\n",
      "HERE: False True\n",
      "HERE: False True\n"
     ]
    },
    {
     "name": "stderr",
     "output_type": "stream",
     "text": [
      "[Parallel(n_jobs=None)]: Done  10 out of  10 | elapsed:  1.5min finished\n"
     ]
    },
    {
     "name": "stdout",
     "output_type": "stream",
     "text": [
      "RUNNING: 10\n",
      "CORES: 3\n",
      "HERE: False False\n"
     ]
    },
    {
     "name": "stderr",
     "output_type": "stream",
     "text": [
      "[Parallel(n_jobs=None)]: Done   1 out of   1 | elapsed:    8.4s remaining:    0.0s\n"
     ]
    },
    {
     "name": "stdout",
     "output_type": "stream",
     "text": [
      "HERE: False False\n",
      "HERE: False False\n",
      "HERE: False False\n",
      "HERE: False False\n",
      "HERE: False False\n",
      "HERE: False False\n",
      "HERE: False False\n",
      "HERE: False False\n",
      "HERE: False False\n"
     ]
    },
    {
     "name": "stderr",
     "output_type": "stream",
     "text": [
      "[Parallel(n_jobs=None)]: Done  10 out of  10 | elapsed:  1.5min finished\n"
     ]
    },
    {
     "name": "stdout",
     "output_type": "stream",
     "text": [
      "37 1917.94871795\n",
      "RUNNING: 10\n",
      "CORES: 3\n",
      "HERE: True True\n"
     ]
    },
    {
     "name": "stderr",
     "output_type": "stream",
     "text": [
      "[Parallel(n_jobs=None)]: Done   1 out of   1 | elapsed:    8.7s remaining:    0.0s\n"
     ]
    },
    {
     "name": "stdout",
     "output_type": "stream",
     "text": [
      "HERE: True True\n",
      "HERE: True True\n",
      "HERE: True True\n",
      "HERE: True True\n",
      "HERE: True True\n",
      "HERE: True True\n",
      "HERE: True True\n",
      "HERE: True True\n",
      "HERE: True True\n"
     ]
    },
    {
     "name": "stderr",
     "output_type": "stream",
     "text": [
      "[Parallel(n_jobs=None)]: Done  10 out of  10 | elapsed:  1.5min finished\n"
     ]
    },
    {
     "name": "stdout",
     "output_type": "stream",
     "text": [
      "RUNNING: 10\n",
      "CORES: 3\n",
      "HERE: False True\n"
     ]
    },
    {
     "name": "stderr",
     "output_type": "stream",
     "text": [
      "[Parallel(n_jobs=None)]: Done   1 out of   1 | elapsed:    7.8s remaining:    0.0s\n"
     ]
    },
    {
     "name": "stdout",
     "output_type": "stream",
     "text": [
      "HERE: False True\n",
      "HERE: False True\n",
      "HERE: False True\n",
      "HERE: False True\n",
      "HERE: False True\n",
      "HERE: False True\n",
      "HERE: False True\n",
      "HERE: False True\n",
      "HERE: False True\n"
     ]
    },
    {
     "name": "stderr",
     "output_type": "stream",
     "text": [
      "[Parallel(n_jobs=None)]: Done  10 out of  10 | elapsed:  1.5min finished\n"
     ]
    },
    {
     "name": "stdout",
     "output_type": "stream",
     "text": [
      "RUNNING: 10\n",
      "CORES: 3\n",
      "HERE: False False\n"
     ]
    },
    {
     "name": "stderr",
     "output_type": "stream",
     "text": [
      "[Parallel(n_jobs=None)]: Done   1 out of   1 | elapsed:    7.9s remaining:    0.0s\n"
     ]
    },
    {
     "name": "stdout",
     "output_type": "stream",
     "text": [
      "HERE: False False\n",
      "HERE: False False\n",
      "HERE: False False\n",
      "HERE: False False\n",
      "HERE: False False\n",
      "HERE: False False\n",
      "HERE: False False\n",
      "HERE: False False\n",
      "HERE: False False\n"
     ]
    },
    {
     "name": "stderr",
     "output_type": "stream",
     "text": [
      "[Parallel(n_jobs=None)]: Done  10 out of  10 | elapsed:  1.5min finished\n"
     ]
    },
    {
     "name": "stdout",
     "output_type": "stream",
     "text": [
      "38 1958.97435897\n",
      "RUNNING: 10\n",
      "CORES: 3\n",
      "HERE: True True\n"
     ]
    },
    {
     "name": "stderr",
     "output_type": "stream",
     "text": [
      "[Parallel(n_jobs=None)]: Done   1 out of   1 | elapsed:    7.9s remaining:    0.0s\n"
     ]
    },
    {
     "name": "stdout",
     "output_type": "stream",
     "text": [
      "HERE: True True\n",
      "HERE: True True\n",
      "HERE: True True\n",
      "HERE: True True\n",
      "HERE: True True\n",
      "HERE: True True\n",
      "HERE: True True\n",
      "HERE: True True\n",
      "HERE: True True\n"
     ]
    },
    {
     "name": "stderr",
     "output_type": "stream",
     "text": [
      "[Parallel(n_jobs=None)]: Done  10 out of  10 | elapsed:  1.5min finished\n"
     ]
    },
    {
     "name": "stdout",
     "output_type": "stream",
     "text": [
      "RUNNING: 10\n",
      "CORES: 3\n",
      "HERE: False True\n"
     ]
    },
    {
     "name": "stderr",
     "output_type": "stream",
     "text": [
      "[Parallel(n_jobs=None)]: Done   1 out of   1 | elapsed:    7.9s remaining:    0.0s\n"
     ]
    },
    {
     "name": "stdout",
     "output_type": "stream",
     "text": [
      "HERE: False True\n",
      "HERE: False True\n",
      "HERE: False True\n",
      "HERE: False True\n",
      "HERE: False True\n",
      "HERE: False True\n",
      "HERE: False True\n",
      "HERE: False True\n",
      "HERE: False True\n"
     ]
    },
    {
     "name": "stderr",
     "output_type": "stream",
     "text": [
      "[Parallel(n_jobs=None)]: Done  10 out of  10 | elapsed:  1.5min finished\n"
     ]
    },
    {
     "name": "stdout",
     "output_type": "stream",
     "text": [
      "RUNNING: 10\n",
      "CORES: 3\n",
      "HERE: False False\n"
     ]
    },
    {
     "name": "stderr",
     "output_type": "stream",
     "text": [
      "[Parallel(n_jobs=None)]: Done   1 out of   1 | elapsed:    8.2s remaining:    0.0s\n"
     ]
    },
    {
     "name": "stdout",
     "output_type": "stream",
     "text": [
      "HERE: False False\n",
      "HERE: False False\n",
      "HERE: False False\n",
      "HERE: False False\n",
      "HERE: False False\n",
      "HERE: False False\n",
      "HERE: False False\n",
      "HERE: False False\n",
      "HERE: False False\n"
     ]
    },
    {
     "name": "stderr",
     "output_type": "stream",
     "text": [
      "[Parallel(n_jobs=None)]: Done  10 out of  10 | elapsed:  1.6min finished\n"
     ]
    },
    {
     "name": "stdout",
     "output_type": "stream",
     "text": [
      "39 2000.0\n",
      "RUNNING: 10\n",
      "CORES: 3\n",
      "HERE: True True\n"
     ]
    },
    {
     "name": "stderr",
     "output_type": "stream",
     "text": [
      "[Parallel(n_jobs=None)]: Done   1 out of   1 | elapsed:    7.9s remaining:    0.0s\n"
     ]
    },
    {
     "name": "stdout",
     "output_type": "stream",
     "text": [
      "HERE: True True\n",
      "HERE: True True\n",
      "HERE: True True\n",
      "HERE: True True\n",
      "HERE: True True\n",
      "HERE: True True\n",
      "HERE: True True\n",
      "HERE: True True\n",
      "HERE: True True\n"
     ]
    },
    {
     "name": "stderr",
     "output_type": "stream",
     "text": [
      "[Parallel(n_jobs=None)]: Done  10 out of  10 | elapsed:  1.5min finished\n"
     ]
    },
    {
     "name": "stdout",
     "output_type": "stream",
     "text": [
      "RUNNING: 10\n",
      "CORES: 3\n",
      "HERE: False True\n"
     ]
    },
    {
     "name": "stderr",
     "output_type": "stream",
     "text": [
      "[Parallel(n_jobs=None)]: Done   1 out of   1 | elapsed:    7.9s remaining:    0.0s\n"
     ]
    },
    {
     "name": "stdout",
     "output_type": "stream",
     "text": [
      "HERE: False True\n",
      "HERE: False True\n",
      "HERE: False True\n",
      "HERE: False True\n",
      "HERE: False True\n",
      "HERE: False True\n",
      "HERE: False True\n",
      "HERE: False True\n",
      "HERE: False True\n"
     ]
    },
    {
     "name": "stderr",
     "output_type": "stream",
     "text": [
      "[Parallel(n_jobs=None)]: Done  10 out of  10 | elapsed:  1.5min finished\n"
     ]
    },
    {
     "name": "stdout",
     "output_type": "stream",
     "text": [
      "RUNNING: 10\n",
      "CORES: 3\n",
      "HERE: False False\n"
     ]
    },
    {
     "name": "stderr",
     "output_type": "stream",
     "text": [
      "[Parallel(n_jobs=None)]: Done   1 out of   1 | elapsed:    7.9s remaining:    0.0s\n"
     ]
    },
    {
     "name": "stdout",
     "output_type": "stream",
     "text": [
      "HERE: False False\n",
      "HERE: False False\n",
      "HERE: False False\n",
      "HERE: False False\n",
      "HERE: False False\n",
      "HERE: False False\n",
      "HERE: False False\n",
      "HERE: False False\n",
      "HERE: False False\n"
     ]
    },
    {
     "name": "stderr",
     "output_type": "stream",
     "text": [
      "[Parallel(n_jobs=None)]: Done  10 out of  10 | elapsed:  1.5min finished\n"
     ]
    }
   ],
   "source": [
    "n_runs = 10\n",
    "fluxes = np.linspace(400., 2000., 40)\n",
    "testResults1 = testResults2 = testResults3 = {}\n",
    "for i, flux in enumerate(fluxes):\n",
    "    print i, flux\n",
    "    fl = flux #np.repeat(flux, 40)\n",
    "    testResults1[i] = dit.multi.runMultiDiffimTests(varSourceFlux=fl, n_runs=n_runs, \n",
    "                                                    n_varSources=50)\n",
    "    testResults2[i] = dit.multi.runMultiDiffimTests(varSourceFlux=fl, n_runs=n_runs, \n",
    "                                                    n_varSources=50, templateNoNoise=False)\n",
    "    testResults3[i] = dit.multi.runMultiDiffimTests(varSourceFlux=fl, n_runs=n_runs, \n",
    "                                                    n_varSources=50, \n",
    "                                                    templateNoNoise=False, skyLimited=False)"
   ]
  },
  {
   "cell_type": "code",
   "execution_count": 101,
   "metadata": {
    "collapsed": false
   },
   "outputs": [],
   "source": [
    "dit.dumpObjects((testResults1, testResults2, testResults3), \"tmp4_pkl\")"
   ]
  },
  {
   "cell_type": "code",
   "execution_count": null,
   "metadata": {
    "collapsed": false
   },
   "outputs": [],
   "source": [
    "testResults1, testResults2, testResults3 = dit.loadObjects('tmp4_pkl')"
   ]
  },
  {
   "cell_type": "code",
   "execution_count": 102,
   "metadata": {
    "collapsed": false
   },
   "outputs": [
    {
     "name": "stdout",
     "output_type": "stream",
     "text": [
      "FN: \n",
      "ALstack           2.2\n",
      "ALstack_decorr    5.2\n",
      "SZOGY             4.0\n",
      "ZOGY              3.3\n",
      "dtype: float64\n",
      "FP: \n",
      "ALstack           5.8\n",
      "ALstack_decorr    3.2\n",
      "SZOGY             3.4\n",
      "ZOGY              2.6\n",
      "dtype: float64\n",
      "TP: \n",
      "ALstack           37.8\n",
      "ALstack_decorr    34.8\n",
      "SZOGY             36.0\n",
      "ZOGY              36.7\n",
      "dtype: float64\n"
     ]
    },
    {
     "data": {
      "image/png": "[encoded data removed]",
      "text/plain": [
       "<matplotlib.figure.Figure at 0x12baa6590>"
      ]
     },
     "metadata": {},
     "output_type": "display_data"
    }
   ],
   "source": [
    "dit.multi.plotResults(testResults1[20], title='Noise-free template; sky-limited');"
   ]
  },
  {
   "cell_type": "code",
   "execution_count": 103,
   "metadata": {
    "collapsed": false
   },
   "outputs": [
    {
     "data": {
      "image/png": "[encoded data removed]",
      "text/plain": [
       "<matplotlib.figure.Figure at 0x12cba1090>"
      ]
     },
     "metadata": {},
     "output_type": "display_data"
    }
   ],
   "source": [
    "dit.multi.plotResults(testResults1[20], title='Noise-free template; sky-limited', asHist=True, doPrint=False);"
   ]
  },
  {
   "cell_type": "code",
   "execution_count": 104,
   "metadata": {
    "collapsed": false
   },
   "outputs": [
    {
     "name": "stdout",
     "output_type": "stream",
     "text": [
      "Noise-free template; sky-limited :\n",
      "AL:\t\t12.2480492968 +/- 1.2299598316\n",
      "AL(decorr):\t9.19802287047 +/- 0.939527927418\n",
      "ZOGY:\t\t9.7653014277 +/- 1.03610987556\n"
     ]
    },
    {
     "data": {
      "image/png": "[encoded data removed]",
      "text/plain": [
       "<matplotlib.figure.Figure at 0x12cecf690>"
      ]
     },
     "metadata": {},
     "output_type": "display_data"
    }
   ],
   "source": [
    "dit.multi.plotSnrResults(testResults1[30], title='Noise-free template; sky-limited');"
   ]
  },
  {
   "cell_type": "code",
   "execution_count": 105,
   "metadata": {
    "collapsed": false
   },
   "outputs": [
    {
     "data": {
      "text/plain": [
       "ALstack           1.600000\n",
       "ALstack_decorr    0.100000\n",
       "SZOGY             0.100000\n",
       "ZOGY              0.400000\n",
       "scienceSNR        3.180156\n",
       "dtype: float64"
      ]
     },
     "execution_count": 105,
     "metadata": {},
     "output_type": "execute_result"
    }
   ],
   "source": [
    "tr = testResults1[0]\n",
    "methods = ['ALstack', 'ZOGY', 'SZOGY', 'ALstack_decorr']\n",
    "FN = pd.DataFrame({key: np.array([t['result'][key]['FN'] for t in tr]) for key in methods}).mean()\n",
    "FP = pd.DataFrame({key: np.array([t['result'][key]['FP'] for t in tr]) for key in methods}).mean()\n",
    "TP = pd.DataFrame({key: np.array([t['result'][key]['TP'] for t in tr]) for key in methods}).mean()\n",
    "\n",
    "TP['scienceSNR'] = tr[0]['scienceSNR'][0]\n",
    "TP"
   ]
  },
  {
   "cell_type": "code",
   "execution_count": 106,
   "metadata": {
    "collapsed": false
   },
   "outputs": [
    {
     "name": "stdout",
     "output_type": "stream",
     "text": [
      "40\n",
      "(40, 5)\n"
     ]
    }
   ],
   "source": [
    "import pandas as pd\n",
    "methods = ['ALstack', 'ZOGY', 'SZOGY', 'ALstack_decorr']\n",
    "TP1 = []; FP1 = []; FN1 = []\n",
    "for i, tr in enumerate(testResults1):\n",
    "    tr = testResults1[i]\n",
    "    FN1.append(pd.DataFrame({key: np.array([t['result'][key]['FN'] for t in tr]) for key in methods}).mean())\n",
    "    FN1[i]['scienceSNR'] = tr[0]['scienceSNR'][0]\n",
    "    FP1.append(pd.DataFrame({key: np.array([t['result'][key]['FP'] for t in tr]) for key in methods}).mean())\n",
    "    FP1[i]['scienceSNR'] = tr[0]['scienceSNR'][0]\n",
    "    TP1.append(pd.DataFrame({key: np.array([t['result'][key]['TP'] for t in tr]) for key in methods}).mean())\n",
    "    TP1[i]['scienceSNR'] = tr[0]['scienceSNR'][0]\n",
    "\n",
    "print len(TP1)\n",
    "TP1 = pd.concat(TP1, axis=1).transpose()\n",
    "FP1 = pd.concat(FP1, axis=1).transpose()\n",
    "FN1 = pd.concat(FN1, axis=1).transpose()\n",
    "print TP1.shape\n",
    "#dit.sizeme(TP1.head())"
   ]
  },
  {
   "cell_type": "code",
   "execution_count": 107,
   "metadata": {
    "collapsed": false
   },
   "outputs": [
    {
     "name": "stdout",
     "output_type": "stream",
     "text": [
      "40\n",
      "(40, 5)\n"
     ]
    }
   ],
   "source": [
    "import pandas as pd\n",
    "methods = ['ALstack', 'ZOGY', 'SZOGY', 'ALstack_decorr']\n",
    "TP2 = []; FP2 = []; FN2 = []\n",
    "for i, tr in enumerate(testResults2):\n",
    "    tr = testResults2[i]\n",
    "    FN2.append(pd.DataFrame({key: np.array([t['result'][key]['FN'] for t in tr]) for key in methods}).mean())\n",
    "    FN2[i]['scienceSNR'] = tr[0]['scienceSNR'][0]\n",
    "    FP2.append(pd.DataFrame({key: np.array([t['result'][key]['FP'] for t in tr]) for key in methods}).mean())\n",
    "    FP2[i]['scienceSNR'] = tr[0]['scienceSNR'][0]\n",
    "    TP2.append(pd.DataFrame({key: np.array([t['result'][key]['TP'] for t in tr]) for key in methods}).mean())\n",
    "    TP2[i]['scienceSNR'] = tr[0]['scienceSNR'][0]\n",
    "\n",
    "print len(TP2)\n",
    "TP2 = pd.concat(TP2, axis=1).transpose()\n",
    "FP2 = pd.concat(FP2, axis=1).transpose()\n",
    "FN2 = pd.concat(FN2, axis=1).transpose()\n",
    "print TP2.shape\n",
    "#dit.sizeme(TP1.head())"
   ]
  },
  {
   "cell_type": "code",
   "execution_count": 111,
   "metadata": {
    "collapsed": false
   },
   "outputs": [
    {
     "name": "stdout",
     "output_type": "stream",
     "text": [
      "40\n",
      "(40, 5)\n"
     ]
    }
   ],
   "source": [
    "import pandas as pd\n",
    "methods = ['ALstack', 'ZOGY', 'SZOGY', 'ALstack_decorr']\n",
    "TP3 = []; FP3 = []; FN3 = []\n",
    "for i, tr in enumerate(testResults3):\n",
    "    tr = testResults3[i]\n",
    "    FN3.append(pd.DataFrame({key: np.array([t['result'][key]['FN'] for t in tr]) for key in methods}).mean())\n",
    "    FN3[i]['scienceSNR'] = tr[0]['scienceSNR'][0]\n",
    "    FP3.append(pd.DataFrame({key: np.array([t['result'][key]['FP'] for t in tr]) for key in methods}).mean())\n",
    "    FP3[i]['scienceSNR'] = tr[0]['scienceSNR'][0]\n",
    "    TP3.append(pd.DataFrame({key: np.array([t['result'][key]['TP'] for t in tr]) for key in methods}).mean())\n",
    "    TP3[i]['scienceSNR'] = tr[0]['scienceSNR'][0]\n",
    "\n",
    "print len(TP3)\n",
    "TP3 = pd.concat(TP3, axis=1).transpose()\n",
    "FP3 = pd.concat(FP3, axis=1).transpose()\n",
    "FN3 = pd.concat(FN3, axis=1).transpose()\n",
    "print TP3.shape\n",
    "#dit.sizeme(TP1.head())"
   ]
  },
  {
   "cell_type": "code",
   "execution_count": 119,
   "metadata": {
    "collapsed": false
   },
   "outputs": [
    {
     "data": {
      "text/plain": [
       "<matplotlib.text.Text at 0x134ddcc50>"
      ]
     },
     "execution_count": 119,
     "metadata": {},
     "output_type": "execute_result"
    },
    {
     "data": {
      "image/png": "[encoded data removed]",
      "text/plain": [
       "<matplotlib.figure.Figure at 0x132b75c10>"
      ]
     },
     "metadata": {},
     "output_type": "display_data"
    }
   ],
   "source": [
    "plt.subplots(3, 2, figsize=(20, 16))\n",
    "ax = plt.subplot(321)    \n",
    "TP1.plot(x='scienceSNR', alpha=0.5, lw=5, ax=ax)\n",
    "ax.set_ylabel('True positives (out of 50)')\n",
    "ax = plt.subplot(322)    \n",
    "FP1.plot(x='scienceSNR', alpha=0.5, lw=5, ax=ax)\n",
    "ax.set_ylabel('False positives')\n",
    "ax.set_title('Noise-free template, sky-limited')\n",
    "\n",
    "ax = plt.subplot(323)    \n",
    "TP2.plot(x='scienceSNR', alpha=0.5, lw=5, ax=ax)\n",
    "ax.set_ylabel('True positives (out of 50)')\n",
    "ax = plt.subplot(324)    \n",
    "FP2.plot(x='scienceSNR', alpha=0.5, lw=5, ax=ax)\n",
    "ax.set_ylabel('False positives')\n",
    "ax.set_title('Noisy template, sky-limited')\n",
    "\n",
    "ax = plt.subplot(325)    \n",
    "TP3.plot(x='scienceSNR', alpha=0.5, lw=5, ax=ax)\n",
    "ax.set_ylabel('True positives (out of 50)')\n",
    "ax = plt.subplot(326)    \n",
    "FP3.plot(x='scienceSNR', alpha=0.5, lw=5, ax=ax)\n",
    "ax.set_ylabel('False positives')\n",
    "ax.set_title('Noisy template, not sky-limited')"
   ]
  },
  {
   "cell_type": "code",
   "execution_count": 128,
   "metadata": {
    "collapsed": false
   },
   "outputs": [
    {
     "name": "stdout",
     "output_type": "stream",
     "text": [
      "['n_sources', 'templateNoNoise', 'templateSNR', 'df', 'sky', 'n_varSources', 'flux', 'seed', 'result', 'scienceSNR', 'skyLimited']\n",
      "False\n",
      "False\n",
      "{'ZOGY': {'FP': 3, 'FN': 23, 'TP': 17}, 'ALstack': {'FP': 8, 'FN': 13, 'TP': 27}, 'SZOGY': {'FP': 4, 'FN': 26, 'TP': 14}, 'ALstack_decorr': {'FP': 2, 'FN': 30, 'TP': 10}}\n"
     ]
    }
   ],
   "source": [
    "print testResults1[10][0].keys()\n",
    "print testResults1[10][0]['templateNoNoise']\n",
    "print testResults1[10][0]['skyLimited']\n",
    "print testResults1[10][0]['result']"
   ]
  },
  {
   "cell_type": "code",
   "execution_count": 129,
   "metadata": {
    "collapsed": false
   },
   "outputs": [
    {
     "name": "stdout",
     "output_type": "stream",
     "text": [
      "['n_sources', 'templateNoNoise', 'templateSNR', 'df', 'sky', 'n_varSources', 'flux', 'seed', 'result', 'scienceSNR', 'skyLimited']\n",
      "False\n",
      "False\n",
      "{'ZOGY': {'FP': 3, 'FN': 23, 'TP': 17}, 'ALstack': {'FP': 8, 'FN': 13, 'TP': 27}, 'SZOGY': {'FP': 4, 'FN': 26, 'TP': 14}, 'ALstack_decorr': {'FP': 2, 'FN': 30, 'TP': 10}}\n"
     ]
    }
   ],
   "source": [
    "print testResults2[10][0].keys()\n",
    "print testResults2[10][0]['templateNoNoise']\n",
    "print testResults2[10][0]['skyLimited']\n",
    "print testResults2[10][0]['result']"
   ]
  },
  {
   "cell_type": "code",
   "execution_count": 133,
   "metadata": {
    "collapsed": false
   },
   "outputs": [
    {
     "data": {
      "text/plain": [
       "ALstack           0.0\n",
       "ALstack_decorr    0.0\n",
       "SZOGY             0.0\n",
       "ZOGY              0.0\n",
       "scienceSNR        0.0\n",
       "dtype: float64"
      ]
     },
     "execution_count": 133,
     "metadata": {},
     "output_type": "execute_result"
    }
   ],
   "source": [
    "(TP1-TP3).sum()"
   ]
  },
  {
   "cell_type": "code",
   "execution_count": null,
   "metadata": {
    "collapsed": true
   },
   "outputs": [],
   "source": []
  }
 ],
 "metadata": {
  "anaconda-cloud": {},
  "kernelspec": {
   "display_name": "Python 2",
   "language": "python",
   "name": "python2"
  },
  "language_info": {
   "codemirror_mode": {
    "name": "ipython",
    "version": 2
   },
   "file_extension": ".py",
   "mimetype": "text/x-python",
   "name": "python",
   "nbconvert_exporter": "python",
   "pygments_lexer": "ipython2",
   "version": "2.7.12"
  }
 },
 "nbformat": 4,
 "nbformat_minor": 0
}
