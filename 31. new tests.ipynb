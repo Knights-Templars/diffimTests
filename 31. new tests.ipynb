{
 "cells": [
  {
   "cell_type": "code",
   "execution_count": 1,
   "metadata": {
    "collapsed": false
   },
   "outputs": [],
   "source": [
    "%matplotlib inline\n",
    "import diffimTests as dit"
   ]
  },
  {
   "cell_type": "markdown",
   "metadata": {},
   "source": [
    "Using flux=600 for SNR=5 (see cell #4 of notebook '30. 4a. other psf models-real PSFs')"
   ]
  },
  {
   "cell_type": "code",
   "execution_count": null,
   "metadata": {
    "collapsed": false
   },
   "outputs": [
    {
     "name": "stdout",
     "output_type": "stream",
     "text": [
      "RUNNING: 100\n",
      "CORES: 3\n"
     ]
    },
    {
     "name": "stderr",
     "output_type": "stream",
     "text": [
      "diffimTests/makeFakeImages.py:189: VisibleDeprecationWarning: using a non-integer number instead of an integer will result in an error in the future\n",
      "  (offset2[0]-starSize+1):(offset2[0]+starSize)] += tmp\n",
      "diffimTests/makeFakeImages.py:227: VisibleDeprecationWarning: using a non-integer number instead of an integer will result in an error in the future\n",
      "  (offset2[0]-starSize+1):(offset2[0]+starSize)] += tmp\n"
     ]
    }
   ],
   "source": [
    "testResults1 = dit.multi.runMultiDiffimTests(varSourceFlux=600.)\n",
    "testResults2 = dit.multi.runMultiDiffimTests(varSourceFlux=600., templateNoNoise=False)\n",
    "testResults3 = dit.multi.runMultiDiffimTests(varSourceFlux=600., templateNoNoise=False, skyLimited=False)"
   ]
  },
  {
   "cell_type": "code",
   "execution_count": null,
   "metadata": {
    "collapsed": false
   },
   "outputs": [],
   "source": [
    "import cPickle, gzip\n",
    "cPickle.dump(testResults1, testResults2, testResults3, file=gzip.GzipFile('tmp_pkl.gz', 'wb'))"
   ]
  },
  {
   "cell_type": "code",
   "execution_count": null,
   "metadata": {
    "collapsed": false
   },
   "outputs": [],
   "source": [
    "import cPickle, gzip\n",
    "testResults1, testResults2, testResults3 = cPickle.load(gzip.GzipFile('tmp_pkl.gz', 'rb'))\n",
    "dit.multi.plotResults(testResults1, title='Noise-free template; sky-limited')"
   ]
  },
  {
   "cell_type": "code",
   "execution_count": null,
   "metadata": {
    "collapsed": false
   },
   "outputs": [],
   "source": [
    "dit.multi.plotResults(testResults1, title='Noise-free template; sky-limited', asHist=True, doPrint=False)"
   ]
  },
  {
   "cell_type": "code",
   "execution_count": null,
   "metadata": {
    "collapsed": true
   },
   "outputs": [],
   "source": []
  }
 ],
 "metadata": {
  "kernelspec": {
   "display_name": "Python 2",
   "language": "python",
   "name": "python2"
  },
  "language_info": {
   "codemirror_mode": {
    "name": "ipython",
    "version": 2
   },
   "file_extension": ".py",
   "mimetype": "text/x-python",
   "name": "python",
   "nbconvert_exporter": "python",
   "pygments_lexer": "ipython2",
   "version": "2.7.12"
  }
 },
 "nbformat": 4,
 "nbformat_minor": 0
}
