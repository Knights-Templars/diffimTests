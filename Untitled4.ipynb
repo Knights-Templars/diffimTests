{
 "cells": [
  {
   "cell_type": "code",
   "execution_count": 1,
   "metadata": {
    "collapsed": true
   },
   "outputs": [],
   "source": [
    "import matplotlib\n",
    "import matplotlib.pyplot as plt\n",
    "%matplotlib inline\n",
    "import numpy as np\n",
    "import diffimTests as dit\n",
    "\n",
    "import warnings\n",
    "warnings.filterwarnings('ignore')"
   ]
  },
  {
   "cell_type": "code",
   "execution_count": 2,
   "metadata": {
    "collapsed": true
   },
   "outputs": [],
   "source": [
    "testResults2 = dit.multi.runTest(flux=620.*np.sqrt(2.), n_varSources=50, n_sources=4000,\n",
    "                                templateNoNoise=False, skyLimited=False,\n",
    "                                sky=[300., 300.], sourceFluxRange=(500,30000),\n",
    "                                remeasurePsfs=[True, True], avoidAllOverlaps=0., \n",
    "                                returnObj=True, printErrs=True)"
   ]
  },
  {
   "cell_type": "code",
   "execution_count": 3,
   "metadata": {
    "collapsed": false
   },
   "outputs": [
    {
     "data": {
      "text/plain": [
       "{'ALstack': {'FN': 11, 'FP': 11, 'TP': 39},\n",
       " 'ALstack_decorr': {'FN': 30, 'FP': 1, 'TP': 20},\n",
       " 'SZOGY': {'FN': 32, 'FP': 4, 'TP': 18},\n",
       " 'ZOGY': {'FN': 27, 'FP': 3, 'TP': 23}}"
      ]
     },
     "execution_count": 3,
     "metadata": {},
     "output_type": "execute_result"
    }
   ],
   "source": [
    "testResults2['resultInputPsf']"
   ]
  },
  {
   "cell_type": "code",
   "execution_count": 4,
   "metadata": {
    "collapsed": false
   },
   "outputs": [
    {
     "data": {
      "text/plain": [
       "{'ALstack': {'FN': 11, 'FP': 11, 'TP': 39},\n",
       " 'ALstack_decorr': {'FN': 30, 'FP': 1, 'TP': 20},\n",
       " 'SZOGY': {'FN': 42, 'FP': 9, 'TP': 8},\n",
       " 'ZOGY': {'FN': 30, 'FP': 30, 'TP': 20},\n",
       " 'sources': {'ALstack': <lsst.afw.table.tableLib.SourceCatalog; proxy of <Swig Object of type 'lsst::afw::table::SortedCatalogT< lsst::afw::table::SourceRecord > *' at 0x1068115d0> >,\n",
       "  'ALstack_decorr': <lsst.afw.table.tableLib.SourceCatalog; proxy of <Swig Object of type 'lsst::afw::table::SortedCatalogT< lsst::afw::table::SourceRecord > *' at 0x1203c4930> >,\n",
       "  'SZOGY': <lsst.afw.table.tableLib.SourceCatalog; proxy of <Swig Object of type 'lsst::afw::table::SortedCatalogT< lsst::afw::table::SourceRecord > *' at 0x1203a2cc0> >,\n",
       "  'ZOGY': <lsst.afw.table.tableLib.SourceCatalog; proxy of <Swig Object of type 'lsst::afw::table::SortedCatalogT< lsst::afw::table::SourceRecord > *' at 0x1203a2360> >}}"
      ]
     },
     "execution_count": 4,
     "metadata": {},
     "output_type": "execute_result"
    }
   ],
   "source": [
    "testResults2['resultMeasuredPsf']"
   ]
  },
  {
   "cell_type": "code",
   "execution_count": 6,
   "metadata": {
    "collapsed": false
   },
   "outputs": [
    {
     "name": "stdout",
     "output_type": "stream",
     "text": [
      "RUNNING: 65\n",
      "CORES: 4\n",
      "\n",
      "  File \"src/PsfexPsf.cc\", line 192, in virtual std::shared_ptr<afw::detection::Psf::Image> lsst::meas::extensions::psfex::PsfexPsf::_doComputeImage(const afw::geom::Point2D &, const afw::image::Color &, const afw::geom::Point2D &) const\n",
      "    Only spatial variation (ndim == 2) is supported; saw 0 {0}\n",
      "lsst::pex::exceptions::InvalidParameterError: 'Only spatial variation (ndim == 2) is supported; saw 0'\n",
      "\n",
      "\n",
      "  File \"src/PsfexPsf.cc\", line 192, in virtual std::shared_ptr<afw::detection::Psf::Image> lsst::meas::extensions::psfex::PsfexPsf::_doComputeImage(const afw::geom::Point2D &, const afw::image::Color &, const afw::geom::Point2D &) const\n",
      "    Only spatial variation (ndim == 2) is supported; saw 0 {0}\n",
      "lsst::pex::exceptions::InvalidParameterError: 'Only spatial variation (ndim == 2) is supported; saw 0'\n",
      "\n",
      "\n",
      "  File \"src/PsfexPsf.cc\", line 192, in virtual std::shared_ptr<afw::detection::Psf::Image> lsst::meas::extensions::psfex::PsfexPsf::_doComputeImage(const afw::geom::Point2D &, const afw::image::Color &, const afw::geom::Point2D &) const\n",
      "    Only spatial variation (ndim == 2) is supported; saw 0 {0}\n",
      "lsst::pex::exceptions::InvalidParameterError: 'Only spatial variation (ndim == 2) is supported; saw 0'\n",
      "\n",
      "\n",
      "  File \"src/PsfexPsf.cc\", line 192, in virtual std::shared_ptr<afw::detection::Psf::Image> lsst::meas::extensions::psfex::PsfexPsf::_doComputeImage(const afw::geom::Point2D &, const afw::image::Color &, const afw::geom::Point2D &) const\n",
      "    Only spatial variation (ndim == 2) is supported; saw 0 {0}\n",
      "lsst::pex::exceptions::InvalidParameterError: 'Only spatial variation (ndim == 2) is supported; saw 0'\n",
      "\n",
      "\n",
      "  File \"src/PsfexPsf.cc\", line 192, in virtual std::shared_ptr<afw::detection::Psf::Image> lsst::meas::extensions::psfex::PsfexPsf::_doComputeImage(const afw::geom::Point2D &, const afw::image::Color &, const afw::geom::Point2D &) const\n",
      "    Only spatial variation (ndim == 2) is supported; saw 0 {0}\n",
      "lsst::pex::exceptions::InvalidParameterError: 'Only spatial variation (ndim == 2) is supported; saw 0'\n",
      "\n",
      "\n",
      "  File \"src/PsfexPsf.cc\", line 192, in virtual std::shared_ptr<afw::detection::Psf::Image> lsst::meas::extensions::psfex::PsfexPsf::_doComputeImage(const afw::geom::Point2D &, const afw::image::Color &, const afw::geom::Point2D &) const\n",
      "    Only spatial variation (ndim == 2) is supported; saw 0 {0}\n",
      "lsst::pex::exceptions::InvalidParameterError: 'Only spatial variation (ndim == 2) is supported; saw 0'\n",
      "\n",
      "\n",
      "  File \"src/PsfexPsf.cc\", line 192, in virtual std::shared_ptr<afw::detection::Psf::Image> lsst::meas::extensions::psfex::PsfexPsf::_doComputeImage(const afw::geom::Point2D &, const afw::image::Color &, const afw::geom::Point2D &) const\n",
      "    Only spatial variation (ndim == 2) is supported; saw 0 {0}\n",
      "lsst::pex::exceptions::InvalidParameterError: 'Only spatial variation (ndim == 2) is supported; saw 0'\n",
      "\n",
      "\n",
      "  File \"src/PsfexPsf.cc\", line 192, in virtual std::shared_ptr<afw::detection::Psf::Image> lsst::meas::extensions::psfex::PsfexPsf::_doComputeImage(const afw::geom::Point2D &, const afw::image::Color &, const afw::geom::Point2D &) const\n",
      "    Only spatial variation (ndim == 2) is supported; saw 0 {0}\n",
      "lsst::pex::exceptions::InvalidParameterError: 'Only spatial variation (ndim == 2) is supported; saw 0'\n",
      "\n",
      "\n",
      "  File \"src/PsfexPsf.cc\", line 192, in virtual std::shared_ptr<afw::detection::Psf::Image> lsst::meas::extensions::psfex::PsfexPsf::_doComputeImage(const afw::geom::Point2D &, const afw::image::Color &, const afw::geom::Point2D &) const\n",
      "    Only spatial variation (ndim == 2) is supported; saw 0 {0}\n",
      "lsst::pex::exceptions::InvalidParameterError: 'Only spatial variation (ndim == 2) is supported; saw 0'\n",
      "\n",
      "\n",
      "  File \"src/PsfexPsf.cc\", line 192, in virtual std::shared_ptr<afw::detection::Psf::Image> lsst::meas::extensions::psfex::PsfexPsf::_doComputeImage(const afw::geom::Point2D &, const afw::image::Color &, const afw::geom::Point2D &) const\n",
      "    Only spatial variation (ndim == 2) is supported; saw 0 {0}\n",
      "lsst::pex::exceptions::InvalidParameterError: 'Only spatial variation (ndim == 2) is supported; saw 0'\n",
      "\n"
     ]
    },
    {
     "name": "stderr",
     "output_type": "stream",
     "text": [
      "[Parallel(n_jobs=4)]: Done  17 tasks      | elapsed:  1.6min\n"
     ]
    },
    {
     "name": "stdout",
     "output_type": "stream",
     "text": [
      "ERROR RUNNING SEED: 66\n",
      "Weights sum to zero, can't be normalized\n",
      "ERROR RUNNING SEED: 66\n"
     ]
    },
    {
     "name": "stderr",
     "output_type": "stream",
     "text": [
      "[Parallel(n_jobs=4)]: Done  65 out of  65 | elapsed:  8.8min finished\n"
     ]
    }
   ],
   "source": [
    "n_runs = 5 # 10\n",
    "ns = np.append(np.insert(np.arange(500, 5001, 250), 0, [50, 100, 250]), [7500, 10000, 15000])\n",
    "ns = ns[::2]\n",
    "testResults2 = dit.multi.runMultiDiffimTests(varSourceFlux=620., \n",
    "                                             n_varSources=50, nStaticSources=ns,\n",
    "                                             templateNoNoise=False, skyLimited=False,\n",
    "                                             sky=[300., 300.], sourceFluxRange=(500,30000),\n",
    "                                             avoidAllOverlaps=0.,\n",
    "                                             n_runs=n_runs, remeasurePsfs=[True, True])"
   ]
  },
  {
   "cell_type": "code",
   "execution_count": 7,
   "metadata": {
    "collapsed": false
   },
   "outputs": [
    {
     "name": "stdout",
     "output_type": "stream",
     "text": [
      "FN: \n",
      "ALstack           34.052632\n",
      "ALstack_decorr    48.315789\n",
      "SZOGY             48.842105\n",
      "ZOGY              45.122807\n",
      "dtype: float64\n",
      "FP: \n",
      "ALstack            9.526316\n",
      "ALstack_decorr     1.614035\n",
      "SZOGY             11.438596\n",
      "ZOGY              30.842105\n",
      "dtype: float64\n",
      "TP: \n",
      "ALstack           15.947368\n",
      "ALstack_decorr     1.684211\n",
      "SZOGY              1.157895\n",
      "ZOGY               4.877193\n",
      "dtype: float64\n"
     ]
    },
    {
     "data": {
      "image/png": "[encoded data removed]",
      "text/plain": [
       "<matplotlib.figure.Figure at 0x11edc9b50>"
      ]
     },
     "metadata": {},
     "output_type": "display_data"
    }
   ],
   "source": [
    "tr = testResults2\n",
    "tr = [t for t in tr if t is not None and t['resultMeasuredPsf']]\n",
    "dit.multi.plotResults(tr, resultKey='resultMeasuredPsf');"
   ]
  },
  {
   "cell_type": "code",
   "execution_count": null,
   "metadata": {
    "collapsed": true
   },
   "outputs": [],
   "source": []
  },
  {
   "cell_type": "code",
   "execution_count": null,
   "metadata": {
    "collapsed": true
   },
   "outputs": [],
   "source": []
  },
  {
   "cell_type": "code",
   "execution_count": null,
   "metadata": {
    "collapsed": true
   },
   "outputs": [],
   "source": []
  },
  {
   "cell_type": "code",
   "execution_count": null,
   "metadata": {
    "collapsed": true
   },
   "outputs": [],
   "source": []
  },
  {
   "cell_type": "markdown",
   "metadata": {},
   "source": [
    "OK, running the \"new\" `dit.multi.runTest()` using the new ZOGY implementation seems to have problems.\n",
    "\n",
    "I'm going to simply replace the call to `DiffimTest()` in `dit.multi.runTest()` with the `ditOLD.DiffimTest()` method, and re-run. Cross-fingers."
   ]
  },
  {
   "cell_type": "code",
   "execution_count": 6,
   "metadata": {
    "collapsed": true
   },
   "outputs": [],
   "source": [
    "import matplotlib\n",
    "import matplotlib.pyplot as plt\n",
    "%matplotlib inline\n",
    "import numpy as np\n",
    "\n",
    "import warnings\n",
    "warnings.filterwarnings('ignore')\n",
    "\n",
    "#import diffimTests_OLD as ditOLD\n",
    "#reload(ditOLD);\n",
    "import diffimTests_OLD_multi as ditMultiOLD\n",
    "reload(ditMultiOLD);"
   ]
  },
  {
   "cell_type": "code",
   "execution_count": 2,
   "metadata": {
    "collapsed": false
   },
   "outputs": [],
   "source": [
    "testResults = ditMultiOLD.runTest(flux=620.*np.sqrt(2.), n_varSources=50, n_sources=1000,\n",
    "                                #templateNoNoise=False, skyLimited=False,\n",
    "                                sky=300., sourceFluxRange=(500,30000),\n",
    "                                remeasurePsfs=[True, True], #avoidAllOverlaps=0., \n",
    "                                returnObj=True, printErrs=True)"
   ]
  },
  {
   "cell_type": "code",
   "execution_count": 3,
   "metadata": {
    "collapsed": false
   },
   "outputs": [
    {
     "data": {
      "text/plain": [
       "{'ALstack': {'FN': 38, 'FP': 3, 'TP': 9},\n",
       " 'ALstack_noDecorr': {'FN': 41, 'FP': 5, 'TP': 7},\n",
       " 'SZOGY': {'FN': 41, 'FP': 12, 'TP': 6},\n",
       " 'ZOGY': {'FN': 38, 'FP': 29, 'TP': 9}}"
      ]
     },
     "execution_count": 3,
     "metadata": {},
     "output_type": "execute_result"
    }
   ],
   "source": [
    "testResults['resultInputPsf']"
   ]
  },
  {
   "cell_type": "code",
   "execution_count": 4,
   "metadata": {
    "collapsed": false
   },
   "outputs": [
    {
     "data": {
      "text/plain": [
       "{'ALstack': {'FN': 38, 'FP': 3, 'TP': 9},\n",
       " 'ALstack_noDecorr': {'FN': 41, 'FP': 5, 'TP': 7},\n",
       " 'SZOGY': {'FN': 43, 'FP': 35, 'TP': 5},\n",
       " 'ZOGY': {'FN': 38, 'FP': 53, 'TP': 7}}"
      ]
     },
     "execution_count": 4,
     "metadata": {},
     "output_type": "execute_result"
    }
   ],
   "source": [
    "testResults['resultMeasuredPsf']"
   ]
  },
  {
   "cell_type": "code",
   "execution_count": null,
   "metadata": {
    "collapsed": true
   },
   "outputs": [],
   "source": []
  },
  {
   "cell_type": "code",
   "execution_count": null,
   "metadata": {
    "collapsed": true
   },
   "outputs": [],
   "source": []
  },
  {
   "cell_type": "markdown",
   "metadata": {},
   "source": [
    "Copy `runTest` from notebook #28 to `runTestORIG`."
   ]
  },
  {
   "cell_type": "code",
   "execution_count": 7,
   "metadata": {
    "collapsed": true
   },
   "outputs": [],
   "source": [
    "testResults2 = ditMultiOLD.runTestORIG(flux=620.*np.sqrt(2.), n_varSources=50, n_sources=1000,\n",
    "                                #templateNoNoise=False, skyLimited=False,\n",
    "                                sky=300.) #, #sourceFluxRange=(500,30000),\n",
    "                                #remeasurePsfs=[True, True], #avoidAllOverlaps=0., \n",
    "                                #returnObj=True, printErrs=True)"
   ]
  },
  {
   "cell_type": "code",
   "execution_count": 10,
   "metadata": {
    "collapsed": false
   },
   "outputs": [
    {
     "name": "stdout",
     "output_type": "stream",
     "text": [
      "{'ZOGY': {'FP': 5, 'FN': 27, 'TP': 23}, 'ALstack': {'FP': 6, 'FN': 37, 'TP': 13}, 'SZOGY': {'FP': 7, 'FN': 35, 'TP': 15}, 'ALstack_noDecorr': {'FP': 6, 'FN': 31, 'TP': 19}}\n",
      "{'ZOGY': {'FP': 6, 'FN': 28, 'TP': 22}, 'ALstack': {'FP': 6, 'FN': 37, 'TP': 13}, 'SZOGY': {'FP': 6, 'FN': 33, 'TP': 17}, 'ALstack_noDecorr': {'FP': 6, 'FN': 31, 'TP': 19}}\n"
     ]
    }
   ],
   "source": [
    "#del testResults2['inputPsf1'], testResults2['inputPsf2'], testResults2['psf1'], testResults2['psf2']\n",
    "print testResults2['diffimResInputPsf']\n",
    "print testResults2['diffimResMeasuredPsf']"
   ]
  },
  {
   "cell_type": "markdown",
   "metadata": {},
   "source": [
    "Seems to work! So something is wrong with the new `runTest`."
   ]
  },
  {
   "cell_type": "code",
   "execution_count": null,
   "metadata": {
    "collapsed": true
   },
   "outputs": [],
   "source": []
  },
  {
   "cell_type": "code",
   "execution_count": null,
   "metadata": {
    "collapsed": true
   },
   "outputs": [],
   "source": []
  },
  {
   "cell_type": "markdown",
   "metadata": {},
   "source": [
    "Now update `runTestOrig` to use new dit.DiffimTest..."
   ]
  },
  {
   "cell_type": "code",
   "execution_count": 2,
   "metadata": {
    "collapsed": false
   },
   "outputs": [
    {
     "name": "stdout",
     "output_type": "stream",
     "text": [
      "HERE: Fspace\n",
      "HERE: Fspace\n"
     ]
    }
   ],
   "source": [
    "testResults3 = ditMultiOLD.runTestORIG(flux=620.*np.sqrt(2.), n_varSources=50, n_sources=1000,\n",
    "                                #templateNoNoise=False, skyLimited=False,\n",
    "                                sky=300., #sourceFluxRange=(500,30000),\n",
    "                                #remeasurePsfs=[True, True], #avoidAllOverlaps=0., \n",
    "                                #returnObj=True, \n",
    "                                       printErrs=True)"
   ]
  },
  {
   "cell_type": "code",
   "execution_count": 3,
   "metadata": {
    "collapsed": false
   },
   "outputs": [
    {
     "name": "stdout",
     "output_type": "stream",
     "text": [
      "{'ZOGY': {'FP': 2, 'FN': 24, 'TP': 26}, 'ALstack': {'FP': 9, 'FN': 21, 'TP': 29}, 'SZOGY': {'FP': 4, 'FN': 31, 'TP': 19}, 'ALstack_decorr': {'FP': 2, 'FN': 32, 'TP': 18}}\n",
      "{'ZOGY': {'FP': 5, 'FN': 29, 'TP': 21}, 'ALstack': {'FP': 10, 'FN': 22, 'TP': 28}, 'SZOGY': {'FP': 5, 'FN': 32, 'TP': 18}, 'ALstack_decorr': {'FP': 2, 'FN': 32, 'TP': 18}}\n"
     ]
    }
   ],
   "source": [
    "print testResults3['diffimResInputPsf']\n",
    "print testResults3['diffimResMeasuredPsf']"
   ]
  },
  {
   "cell_type": "code",
   "execution_count": 10,
   "metadata": {
    "collapsed": false
   },
   "outputs": [
    {
     "name": "stdout",
     "output_type": "stream",
     "text": [
      "HERE: Fspace\n",
      "HERE: Fspace\n"
     ]
    }
   ],
   "source": [
    "testResults3 = ditMultiOLD.runTestORIG(flux=620.*np.sqrt(2.), n_varSources=50, n_sources=4000,\n",
    "                                #templateNoNoise=False, skyLimited=False,\n",
    "                                sky=300., #sourceFluxRange=(500,30000),\n",
    "                                #remeasurePsfs=[True, True], #avoidAllOverlaps=0., \n",
    "                                #returnObj=True, \n",
    "                                       returnObjs=True, printErrs=True)"
   ]
  },
  {
   "cell_type": "code",
   "execution_count": 5,
   "metadata": {
    "collapsed": false
   },
   "outputs": [
    {
     "name": "stdout",
     "output_type": "stream",
     "text": [
      "{'ZOGY': {'FP': 2, 'FN': 24, 'TP': 26}, 'ALstack': {'FP': 9, 'FN': 21, 'TP': 29}, 'SZOGY': {'FP': 4, 'FN': 31, 'TP': 19}, 'ALstack_decorr': {'FP': 2, 'FN': 32, 'TP': 18}}\n",
      "{'ZOGY': {'FP': 4, 'FN': 26, 'TP': 24}, 'ALstack': {'FP': 9, 'FN': 21, 'TP': 29}, 'SZOGY': {'FP': 6, 'FN': 32, 'TP': 18}, 'ALstack_decorr': {'FP': 2, 'FN': 32, 'TP': 18}}\n"
     ]
    }
   ],
   "source": [
    "print testResults3['diffimResInputPsf']\n",
    "print testResults3['diffimResMeasuredPsf']"
   ]
  },
  {
   "cell_type": "code",
   "execution_count": 12,
   "metadata": {
    "collapsed": false
   },
   "outputs": [
    {
     "data": {
      "text/plain": [
       "<mpl_toolkits.axes_grid1.axes_grid.ImageGrid at 0x123ae9f50>"
      ]
     },
     "execution_count": 12,
     "metadata": {},
     "output_type": "execute_result"
    },
    {
     "data": {
      "image/png": "[encoded data removed]",
      "text/plain": [
       "<matplotlib.figure.Figure at 0x123ae0590>"
      ]
     },
     "metadata": {},
     "output_type": "display_data"
    }
   ],
   "source": [
    "ditOLD.plotImageGrid((testResults3['objs'][1].im1.psf, testResults3['objs'][1].im2.psf), clim=(-0.001, 0.001))"
   ]
  },
  {
   "cell_type": "code",
   "execution_count": null,
   "metadata": {
    "collapsed": true
   },
   "outputs": [],
   "source": []
  },
  {
   "cell_type": "code",
   "execution_count": null,
   "metadata": {
    "collapsed": true
   },
   "outputs": [],
   "source": []
  },
  {
   "cell_type": "markdown",
   "metadata": {},
   "source": [
    "OK, it seemed to work (using the original `runTest` but the new `DiffimTest` (and ZOGY) algorithm. Something is definitely wrong with the new `multi.runTest`.\n",
    "\n",
    "So, let's narrow it down -- try now using the new PSF measurement in the old `runTest`."
   ]
  },
  {
   "cell_type": "code",
   "execution_count": 2,
   "metadata": {
    "collapsed": false
   },
   "outputs": [
    {
     "name": "stdout",
     "output_type": "stream",
     "text": [
      "IN NEW MAKEFAKEIMAGES\n",
      "HERE: NEW DETECTION\n",
      "HERE: NEW DETECTION\n",
      "IN NEW MAKEFAKEIMAGES\n",
      "HERE: NEW DETECTION\n",
      "HERE: NEW DETECTION\n",
      "HERE: NEW DETECTION\n",
      "HERE: ZOGY NEW (F space)\n",
      "HERE: NEW DETECTION\n",
      "HERE: NEW DETECTION\n",
      "HERE: NEW DETECTION\n",
      "HERE: NEW PSF MEASURE\n",
      "HERE: NEW DETECTION\n",
      "HERE: NEW PSF MEASURE\n",
      "HERE: NEW DETECTION\n",
      "HERE: NEW DETECTION\n",
      "HERE: ZOGY NEW (F space)\n",
      "HERE: NEW DETECTION\n",
      "HERE: NEW DETECTION\n",
      "HERE: NEW DETECTION\n"
     ]
    }
   ],
   "source": [
    "testResults4 = ditMultiOLD.runTestORIG(flux=620.*np.sqrt(2.), n_varSources=50, n_sources=4000,\n",
    "                                #templateNoNoise=False, skyLimited=False,\n",
    "                                sky=300., #sourceFluxRange=(500,30000),\n",
    "                                #remeasurePsfs=[True, True], #avoidAllOverlaps=0., \n",
    "                                #returnObj=True, \n",
    "                                       returnObjs=True, printErrs=True)"
   ]
  },
  {
   "cell_type": "code",
   "execution_count": 3,
   "metadata": {
    "collapsed": false
   },
   "outputs": [
    {
     "name": "stdout",
     "output_type": "stream",
     "text": [
      "{'ZOGY': {'FP': 2, 'FN': 24, 'TP': 26}, 'ALstack': {'FP': 9, 'FN': 21, 'TP': 29}, 'SZOGY': {'FP': 4, 'FN': 31, 'TP': 19}, 'ALstack_decorr': {'FP': 2, 'FN': 32, 'TP': 18}}\n",
      "{'ZOGY': {'FP': 4, 'FN': 27, 'TP': 23}, 'ALstack': {'FP': 8, 'FN': 20, 'TP': 30}, 'SZOGY': {'FP': 5, 'FN': 31, 'TP': 19}, 'ALstack_decorr': {'FP': 2, 'FN': 32, 'TP': 18}}\n"
     ]
    }
   ],
   "source": [
    "print testResults4['diffimResInputPsf']\n",
    "print testResults4['diffimResMeasuredPsf']"
   ]
  },
  {
   "cell_type": "code",
   "execution_count": 7,
   "metadata": {
    "collapsed": false
   },
   "outputs": [
    {
     "data": {
      "text/plain": [
       "<mpl_toolkits.axes_grid1.axes_grid.ImageGrid at 0x1202b4ed0>"
      ]
     },
     "execution_count": 7,
     "metadata": {},
     "output_type": "execute_result"
    },
    {
     "data": {
      "image/png": "[encoded data removed]",
      "text/plain": [
       "<matplotlib.figure.Figure at 0x10a247ed0>"
      ]
     },
     "metadata": {},
     "output_type": "display_data"
    }
   ],
   "source": [
    "ditOLD.plotImageGrid((testResults4['objs'][1].im1.psf, testResults4['objs'][1].im2.psf), clim=(-0.001, 0.001))"
   ]
  },
  {
   "cell_type": "code",
   "execution_count": null,
   "metadata": {
    "collapsed": true
   },
   "outputs": [],
   "source": []
  },
  {
   "cell_type": "code",
   "execution_count": null,
   "metadata": {
    "collapsed": true
   },
   "outputs": [],
   "source": []
  },
  {
   "cell_type": "markdown",
   "metadata": {},
   "source": [
    "Nice, the new PSF measure does NOT seem to be the problem. Try using other new methods (rather than old methods) to see which might be the culprit."
   ]
  },
  {
   "cell_type": "code",
   "execution_count": 2,
   "metadata": {
    "collapsed": false
   },
   "outputs": [
    {
     "name": "stdout",
     "output_type": "stream",
     "text": [
      "HERE: NEW PSF MEASURE\n",
      "HERE: NEW PSF MEASURE\n"
     ]
    }
   ],
   "source": [
    "testResults5 = ditMultiOLD.runTestORIG(flux=620.*np.sqrt(2.), n_varSources=50, n_sources=4000,\n",
    "                                #templateNoNoise=False, skyLimited=False,\n",
    "                                sky=300., #sourceFluxRange=(500,30000),\n",
    "                                #remeasurePsfs=[True, True], #avoidAllOverlaps=0., \n",
    "                                #returnObj=True, \n",
    "                                       returnObjs=True, printErrs=True)"
   ]
  },
  {
   "cell_type": "code",
   "execution_count": 3,
   "metadata": {
    "collapsed": false
   },
   "outputs": [
    {
     "name": "stdout",
     "output_type": "stream",
     "text": [
      "{'ZOGY': {'FP': 2, 'FN': 24, 'TP': 26}, 'ALstack': {'FP': 9, 'FN': 21, 'TP': 29}, 'SZOGY': {'FP': 4, 'FN': 31, 'TP': 19}, 'ALstack_decorr': {'FP': 2, 'FN': 32, 'TP': 18}}\n",
      "{'ZOGY': {'FP': 4, 'FN': 27, 'TP': 23}, 'ALstack': {'FP': 8, 'FN': 20, 'TP': 30}, 'SZOGY': {'FP': 5, 'FN': 31, 'TP': 19}, 'ALstack_decorr': {'FP': 2, 'FN': 32, 'TP': 18}}\n"
     ]
    }
   ],
   "source": [
    "print testResults5['diffimResInputPsf']\n",
    "print testResults5['diffimResMeasuredPsf']"
   ]
  },
  {
   "cell_type": "code",
   "execution_count": null,
   "metadata": {
    "collapsed": true
   },
   "outputs": [],
   "source": []
  },
  {
   "cell_type": "code",
   "execution_count": null,
   "metadata": {
    "collapsed": true
   },
   "outputs": [],
   "source": []
  },
  {
   "cell_type": "code",
   "execution_count": null,
   "metadata": {
    "collapsed": true
   },
   "outputs": [],
   "source": []
  },
  {
   "cell_type": "markdown",
   "metadata": {},
   "source": [
    "Whew, getting somewhere. Now finally see if the ZOGY image space version is at fault."
   ]
  },
  {
   "cell_type": "code",
   "execution_count": 2,
   "metadata": {
    "collapsed": false
   },
   "outputs": [
    {
     "name": "stdout",
     "output_type": "stream",
     "text": [
      "HERE: ZOGY NEW (I space)\n",
      "HERE: NEW PSF MEASURE\n",
      "HERE: NEW PSF MEASURE\n",
      "HERE: ZOGY NEW (I space)\n"
     ]
    }
   ],
   "source": [
    "testResults6 = ditMultiOLD.runTestORIG(flux=620.*np.sqrt(2.), n_varSources=50, n_sources=4000,\n",
    "                                #templateNoNoise=False, skyLimited=False,\n",
    "                                sky=300., #sourceFluxRange=(500,30000),\n",
    "                                #remeasurePsfs=[True, True], #avoidAllOverlaps=0., \n",
    "                                #returnObj=True, \n",
    "                                       returnObjs=True, printErrs=True)"
   ]
  },
  {
   "cell_type": "code",
   "execution_count": 3,
   "metadata": {
    "collapsed": false
   },
   "outputs": [
    {
     "name": "stdout",
     "output_type": "stream",
     "text": [
      "{'ZOGY': {'FP': 2, 'FN': 27, 'TP': 23}, 'ALstack': {'FP': 9, 'FN': 21, 'TP': 29}, 'SZOGY': {'FP': 4, 'FN': 34, 'TP': 16}, 'ALstack_decorr': {'FP': 2, 'FN': 32, 'TP': 18}}\n",
      "{'ZOGY': {'FP': 3, 'FN': 29, 'TP': 21}, 'ALstack': {'FP': 8, 'FN': 20, 'TP': 30}, 'SZOGY': {'FP': 4, 'FN': 36, 'TP': 14}, 'ALstack_decorr': {'FP': 2, 'FN': 32, 'TP': 18}}\n"
     ]
    }
   ],
   "source": [
    "print testResults6['diffimResInputPsf']\n",
    "print testResults6['diffimResMeasuredPsf']"
   ]
  },
  {
   "cell_type": "markdown",
   "metadata": {},
   "source": [
    "Hmm, image space loses aabout 10% of sources. Something still wrong there."
   ]
  },
  {
   "cell_type": "code",
   "execution_count": null,
   "metadata": {
    "collapsed": true
   },
   "outputs": [],
   "source": []
  },
  {
   "cell_type": "code",
   "execution_count": null,
   "metadata": {
    "collapsed": true
   },
   "outputs": [],
   "source": []
  },
  {
   "cell_type": "code",
   "execution_count": null,
   "metadata": {
    "collapsed": false
   },
   "outputs": [],
   "source": [
    "n_runs = 5 # 10\n",
    "ns = np.append(np.insert(np.arange(500, 5001, 250), 0, [50, 100, 250]), [7500, 10000, 15000])\n",
    "ns = ns[::2]\n",
    "testResults4 = ditMultiOLD.runMultiDiffimTests(varSourceFlux=620.*np.sqrt(2.), \n",
    "                                             n_varSources=50, nStaticSources=ns,\n",
    "                                             #templateNoNoise=False, skyLimited=False,\n",
    "                                             sky=[300., 300.], #sourceFluxRange=(500,30000),\n",
    "                                             #avoidAllOverlaps=0.,\n",
    "                                             n_runs=n_runs) #, remeasurePsfs=[True, True])"
   ]
  },
  {
   "cell_type": "code",
   "execution_count": null,
   "metadata": {
    "collapsed": true
   },
   "outputs": [],
   "source": []
  },
  {
   "cell_type": "code",
   "execution_count": null,
   "metadata": {
    "collapsed": true
   },
   "outputs": [],
   "source": []
  }
 ],
 "metadata": {
  "kernelspec": {
   "display_name": "Python 2",
   "language": "python",
   "name": "python2"
  },
  "language_info": {
   "codemirror_mode": {
    "name": "ipython",
    "version": 2
   },
   "file_extension": ".py",
   "mimetype": "text/x-python",
   "name": "python",
   "nbconvert_exporter": "python",
   "pygments_lexer": "ipython2",
   "version": "2.7.12"
  }
 },
 "nbformat": 4,
 "nbformat_minor": 0
}
