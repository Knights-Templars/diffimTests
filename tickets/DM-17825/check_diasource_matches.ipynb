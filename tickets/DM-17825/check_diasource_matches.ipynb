{
 "cells": [
  {
   "cell_type": "code",
   "execution_count": 9,
   "metadata": {},
   "outputs": [],
   "source": [
    "%matplotlib qt5\n",
    "import os\n",
    "import numpy as np\n",
    "import pandas as pd\n",
    "import sqlite3\n",
    "import lsst.daf.persistence as dafPersist\n",
    "import lsst.afw.display as afwDisplay\n",
    "import lsst.geom\n",
    "import matplotlib.ticker as plticker\n",
    "from astropy.visualization import (ZScaleInterval, SqrtStretch, ImageNormalize)\n",
    "import astropy.units as u\n",
    "\n",
    "import matplotlib.pyplot as plt\n",
    "import matplotlib\n",
    "import astropy"
   ]
  },
  {
   "cell_type": "code",
   "execution_count": 10,
   "metadata": {},
   "outputs": [
    {
     "data": {
      "text/plain": [
       "('1.14.5', '2.2.2', '3.0.3')"
      ]
     },
     "execution_count": 10,
     "metadata": {},
     "output_type": "execute_result"
    }
   ],
   "source": [
    "(np.__version__, matplotlib.__version__, astropy.__version__)"
   ]
  },
  {
   "cell_type": "code",
   "execution_count": 11,
   "metadata": {},
   "outputs": [],
   "source": [
    "cwpRepo = '/home/gkovacs/data/repo_DM-17825/ingested/rerun/proc_2019-02-21'\n",
    "cwpTemplateRepo = '/home/gkovacs/data/repo_DM-17825/templates'\n",
    "my_dbName = '/home/gkovacs/data/repo_DM-17825/ingested/rerun/proc_2019-02-21/association.db'\n",
    "mrawls_dbName = '/home/gkovacs/data/repo_DM-17825/mrawls_cw_processed2/association.db'\n",
    "\n",
    "butlerCwp = dafPersist.Butler(cwpRepo)\n",
    "butlerCwpTemplate = dafPersist.Butler(cwpTemplateRepo)"
   ]
  },
  {
   "cell_type": "code",
   "execution_count": 3,
   "metadata": {
    "code_folding": [
     0,
     27,
     28,
     33,
     54,
     57
    ]
   },
   "outputs": [],
   "source": [
    "def loadAllPpdbObjects(repo, dbName='association.db'):\n",
    "    \"\"\"Load select DIAObject columns from a PPDB into a pandas dataframe.\n",
    "\n",
    "    Parameters\n",
    "    ----------\n",
    "    repo : `str`\n",
    "        Path to an output repository from an ap_pipe run.\n",
    "    dbName : `str`, optional\n",
    "        Name of the PPDB, which must reside in (or relative to) repo.\n",
    "\n",
    "    Returns\n",
    "    -------\n",
    "    objTable : `pandas.DataFrame`\n",
    "        DIA Object Table containing only objects with validityEnd NULL.\n",
    "        Columns selected are presently hard-wired here.\n",
    "    \"\"\"\n",
    "    connection = sqlite3.connect(os.path.join(repo, dbName))\n",
    "\n",
    "    # These are the tables available in the ppdb\n",
    "    tables = {'obj': 'DiaObject', 'src': 'DiaSource', 'ccd': 'CcdVisit'}\n",
    "\n",
    "    # Only get objects with validityEnd NULL because that means they are still valid\n",
    "    objTable = pd.read_sql_query('select diaObjectId, ra, decl, nDiaSources, \\\n",
    "                                  gPSFluxMean, validityEnd, flags from {0} \\\n",
    "                                  where validityEnd is NULL;'.format(tables['obj']), connection)\n",
    "    return objTable\n",
    "# ---\n",
    "def defMiniRegion(objTable):\n",
    "    miniRegion = ((objTable['decl'] < -5.6) & (objTable['decl'] > -5.8) & \n",
    "               (objTable['ra'] > 155.2) & (objTable['ra'] < 155.3) &\n",
    "               (objTable['nDiaSources'] > 2))\n",
    "    return miniRegion\n",
    "# ---\n",
    "def plotMiniRegion(objTable, miniRegion, title=None):\n",
    "    print('Plotting {0} DIAObjects'.format(len(objTable.loc[miniRegion, 'ra'])))\n",
    "    fig = plt.figure(figsize=(7,5))\n",
    "    ax1 = fig.add_subplot(111)\n",
    "    cb1 = ax1.scatter((objTable.loc[miniRegion, 'ra'].values*u.deg).to_value(u.rad),\n",
    "                      (objTable.loc[miniRegion, 'decl'].values*u.deg).to_value(u.rad),\n",
    "                      marker='.', lw=0, s=objTable.loc[miniRegion, 'nDiaSources']*8,\n",
    "                      c=objTable.loc[miniRegion, 'flags'],  #c=objTable.loc[miniRegion, 'nDiaSources'],\n",
    "                      alpha=0.5, )\n",
    "                      #cmap=plt.cm.get_cmap('viridis'))\n",
    "    binMax = np.max(objTable['nDiaSources'].values)\n",
    "    #cbplot = plt.colorbar(cb1, ax=ax1)\n",
    "    #cbplot.set_label('Number of DIASources')\n",
    "    #cbplot.set_clim(0, binMax)\n",
    "    #cbplot.solids.set_edgecolor(\"face\")\n",
    "    plt.xlabel('RA (rad)')\n",
    "    plt.ylabel('Dec (rad)')\n",
    "    #plt.xlim([155.3, 155.2])\n",
    "    #plt.ylim([-5.8, -5.6])\n",
    "    plt.xlim([2.71040, 2.70875])\n",
    "    plt.ylim([-0.1014, -0.0978])\n",
    "    if title:\n",
    "        plt.title(title)\n",
    "# ---\n",
    "def load_sources(repo, obj, sqliteFile='association.db'):\n",
    "    connection = sqlite3.connect(os.path.join(repo, sqliteFile))\n",
    "    tables = {'obj': 'DiaObject', 'src': 'DiaSource', 'ccd': 'CcdVisit'}\n",
    "    srcTable = pd.read_sql_query('select diaSourceId, diaObjectId, ccdVisitId, midPointTai, \\\n",
    "                                 apFlux, psFlux, apFluxErr, psFluxErr, totFlux, totFluxErr, flags \\\n",
    "                                 from {1} where diaObjectId = {0};'.format(obj, tables['src']), connection)\n",
    "    connection.close()\n",
    "    return(srcTable)\n",
    "# ---\n",
    "def plot_lightcurve(repo, templateRepo, obj, patch, objTable, \n",
    "                    useTotFlux=False, plotAllCutouts=False, cutoutIdx=0, labelCutouts=False,\n",
    "                    diffimType='deepDiff_differenceExp'):\n",
    "    sources = load_sources(repo, obj)\n",
    "    ra = objTable.loc[objTable['diaObjectId'] == obj, 'ra']\n",
    "    dec = objTable.loc[objTable['diaObjectId'] == obj, 'decl']\n",
    "    flags = sources['flags']    \n",
    "    dataIds = sources['ccdVisitId'].values  # these are ints\n",
    "    dataIdDicts = []\n",
    "    for dataId in dataIds:\n",
    "        visit = int(str(dataId)[0:6])\n",
    "        ccdnum = int(str(dataId)[6:])\n",
    "        dataIdDict = {'visit': visit, 'ccdnum': ccdnum}\n",
    "        dataIdDicts.append(dataIdDict)\n",
    "    centerSource = lsst.geom.SpherePoint(ra, dec, lsst.geom.degrees)\n",
    "    size = lsst.geom.Extent2I(30, 30)\n",
    "    \n",
    "    print('DIAObject ID:', obj)\n",
    "    #print('Flags:', flags)\n",
    "    print('RA (deg):', ra.values)\n",
    "    print('Dec (deg):', dec.values)\n",
    "    print('DIASource IDs:', sources['diaSourceId'].values)\n",
    "    print('Data IDs:', dataIdDicts)\n",
    "\n",
    "    plt.figure()\n",
    "\n",
    "    # light curve with psFlux by default (uses totFlux if useTotFlux=True)\n",
    "    plt.subplot(212)\n",
    "    plt.xlabel('Time (MJD)', size=16)\n",
    "    if not useTotFlux:\n",
    "        plt.errorbar(sources['midPointTai'], sources['psFlux']*1e9, yerr=sources['psFluxErr']*1e9, \n",
    "                     ls=':', marker='o', color='#2979C1')\n",
    "        plt.ylabel('Difference Flux (nJy)', size=16)\n",
    "    else:\n",
    "        plt.errorbar(sources['midPointTai'], ources['totFlux']*1e9, yerr=sources['totFluxErr']*1e9,\n",
    "                     ls=':', marker='o', color='#2979C1')\n",
    "        plt.ylabel('Flux (nJy)', size=16)\n",
    "    plt.gca().spines['top'].set_visible(False)\n",
    "    plt.gca().spines['right'].set_visible(False)    \n",
    "    \n",
    "    # processed image\n",
    "    plt.subplot(231)\n",
    "    plt.gca().get_xaxis().set_ticks([])\n",
    "    plt.gca().get_yaxis().set_ticks([])\n",
    "    plt.title('Processed', size=16)\n",
    "    butler = dafPersist.Butler(repo)\n",
    "    calexpFirst = butler.get('calexp', dataIdDicts[cutoutIdx])\n",
    "    calexpArray = calexpFirst.getCutout(centerSource, size).getMaskedImage().getImage().getArray()\n",
    "    calexpNorm = ImageNormalize(calexpArray, interval=ZScaleInterval(), stretch=SqrtStretch())\n",
    "    plt.imshow(np.rot90(np.fliplr(calexpArray)), cmap='gray', norm=calexpNorm)\n",
    "    \n",
    "    # template image\n",
    "    plt.subplot(232)\n",
    "    plt.gca().get_xaxis().set_ticks([])\n",
    "    plt.gca().get_yaxis().set_ticks([])\n",
    "    plt.title('Template', size=16)\n",
    "    templateDataId = {'filter': 'g', 'tract': 0, 'patch': patch}\n",
    "    butlerTemplate = dafPersist.Butler(templateRepo)\n",
    "    template = butlerTemplate.get('deepCoadd', dataId=templateDataId)\n",
    "    templateArray = template.getCutout(centerSource, size).getMaskedImage().getImage().getArray()\n",
    "    templateNorm = ImageNormalize(templateArray, interval=ZScaleInterval(), stretch=SqrtStretch())\n",
    "    plt.imshow(np.flipud(templateArray), cmap='gray', norm=templateNorm)\n",
    "    #plt.imshow(np.fliplr(np.rot90(templateArray)), cmap='gray', norm=templateNorm)\n",
    "    \n",
    "    # difference image\n",
    "    plt.subplot(233)\n",
    "    plt.gca().get_xaxis().set_ticks([])\n",
    "    plt.gca().get_yaxis().set_ticks([])\n",
    "    plt.title('Difference', size=16)\n",
    "    diffimFirst = butler.get(diffimType, dataIdDicts[cutoutIdx])\n",
    "    diffimArray = diffimFirst.getCutout(centerSource, size).getMaskedImage().getImage().getArray()\n",
    "    diffimNorm = ImageNormalize(diffimArray, interval=ZScaleInterval(), stretch=SqrtStretch())\n",
    "    plt.imshow(np.rot90(np.fliplr(diffimArray)), cmap='gray', norm=diffimNorm)\n",
    "    \n",
    "    if plotAllCutouts:\n",
    "        fig = plt.figure(figsize=(8,8))  # optional figure with cutouts for all visits\n",
    "        fig.subplots_adjust(hspace=0, wspace=0)\n",
    "        for idx, dataId in enumerate(dataIdDicts):\n",
    "            calexp = butler.get('calexp', dataId)\n",
    "            calexpArray = calexp.getCutout(centerSource, size).getMaskedImage().getImage().getArray()\n",
    "            calexpNorm = ImageNormalize(calexpArray, interval=ZScaleInterval(), stretch=SqrtStretch())\n",
    "            diffim = butler.get(diffimType, dataId)\n",
    "            diffimArray = diffim.getCutout(centerSource, size).getMaskedImage().getImage().getArray()\n",
    "            diffimNorm = ImageNormalize(diffimArray, interval=ZScaleInterval(), stretch=SqrtStretch())\n",
    "            plt.subplot(10, 10, idx+1)\n",
    "            plt.gca().get_xaxis().set_ticks([])\n",
    "            plt.gca().get_yaxis().set_ticks([])\n",
    "            plt.imshow(np.rot90(np.fliplr(calexpArray)), cmap='gray', norm=calexpNorm)\n",
    "            if labelCutouts:\n",
    "                if idx == 0:\n",
    "                    plt.text(1, 26, 'Proc', color='lime', size=8)\n",
    "                plt.text(2, 5, str(sources['midPointTai'][idx])[1:8], color='lime', size=8)            \n",
    "            plt.subplot(10, 10, idx+50+1)\n",
    "            plt.gca().get_xaxis().set_ticks([])\n",
    "            plt.gca().get_yaxis().set_ticks([])\n",
    "            plt.imshow(np.rot90(np.fliplr(diffimArray)), cmap='gray', norm=diffimNorm)\n",
    "            if labelCutouts:\n",
    "                if idx == 0:\n",
    "                    plt.text(1, 26, 'Diff', color='lime', size=8)\n",
    "                plt.text(2, 5, str(sources['midPointTai'][idx])[1:8], color='lime', size=8)"
   ]
  },
  {
   "cell_type": "code",
   "execution_count": null,
   "metadata": {},
   "outputs": [],
   "source": [
    "cwpObjTable = loadAllPpdbObjects(cwpRepo)\n"
   ]
  },
  {
   "cell_type": "code",
   "execution_count": 12,
   "metadata": {},
   "outputs": [],
   "source": [
    "# Get the image, make the cutout and show in a bigger cutout\n",
    "dataId={'visit': 411371, 'ccdnum': 57}\n",
    "calexp=butlerCwp.get('calexp',dataId=dataId)"
   ]
  },
  {
   "cell_type": "code",
   "execution_count": 13,
   "metadata": {},
   "outputs": [],
   "source": [
    "ra=155.27087585\n",
    "decl=-5.68988946"
   ]
  },
  {
   "cell_type": "code",
   "execution_count": 16,
   "metadata": {},
   "outputs": [],
   "source": [
    "image_center = lsst.geom.SpherePoint(ra,decl,lsst.geom.degrees)\n",
    "cutout_extent = lsst.geom.Extent2I(50, 50)"
   ]
  },
  {
   "cell_type": "code",
   "execution_count": 17,
   "metadata": {},
   "outputs": [],
   "source": [
    "exposure = butlerCwp.get('calexp',dataId=dataId)\n",
    "cutout = exposure.getCutout(image_center,cutout_extent)"
   ]
  },
  {
   "cell_type": "code",
   "execution_count": 18,
   "metadata": {},
   "outputs": [
    {
     "name": "stdout",
     "output_type": "stream",
     "text": [
      "(1496, 1446, 1090, 1040)\n"
     ]
    }
   ],
   "source": [
    "bbox= cutout.getBBox()\n",
    "bbox.getCorners()\n",
    "extent = (bbox.getBeginX(), bbox.getEndX(), bbox.getBeginY(), bbox.getEndY())\n",
    "extentT = (bbox.getBeginY(), bbox.getEndY(), bbox.getBeginX(), bbox.getEndX())\n",
    "extentR = (bbox.getEndY(), bbox.getBeginY(), bbox.getEndX(), bbox.getBeginX())\n",
    "print(extentR)"
   ]
  },
  {
   "cell_type": "code",
   "execution_count": 19,
   "metadata": {},
   "outputs": [],
   "source": [
    "A = cutout.getMaskedImage().getImage().getArray()\n",
    "img_norm = ImageNormalize(A,interval=ZScaleInterval(), stretch=SqrtStretch())"
   ]
  },
  {
   "cell_type": "markdown",
   "metadata": {},
   "source": [
    "# Converting SkyWcs to astropy.wcs.WCS\n",
    "\n",
    "SkyWcs has a fits metadata representation, that can be converted to a dictionary."
   ]
  },
  {
   "cell_type": "code",
   "execution_count": 20,
   "metadata": {},
   "outputs": [],
   "source": [
    "from astropy.wcs import WCS\n",
    "from astropy.visualization.wcsaxes import WCSAxes\n",
    "\n",
    "M = cutout.getWcs().getFitsMetadata()\n",
    "W = WCS(M.toDict()).swapaxes(0,1)"
   ]
  },
  {
   "cell_type": "code",
   "execution_count": 21,
   "metadata": {},
   "outputs": [
    {
     "data": {
      "text/plain": [
       "WCS Keywords\n",
       "\n",
       "Number of WCS axes: 2\n",
       "CTYPE : 'DEC--TAN-SIP'  'RA---TAN-SIP'  \n",
       "CRVAL : -5.686392881856413  155.2908557516832  \n",
       "CRPIX : 1743.524956  1016.824682  \n",
       "CD1_1 CD1_2  : -1.2485291485569e-07  -7.2894527279287e-05  \n",
       "CD2_1 CD2_2  : 7.30983903374267e-05  -1.2922970767026e-08  \n",
       "NAXIS : 0  0"
      ]
     },
     "execution_count": 21,
     "metadata": {},
     "output_type": "execute_result"
    }
   ],
   "source": [
    "W"
   ]
  },
  {
   "cell_type": "code",
   "execution_count": 22,
   "metadata": {
    "scrolled": true
   },
   "outputs": [
    {
     "name": "stderr",
     "output_type": "stream",
     "text": [
      "/ssd/gkovacs/lsstsw/miniconda/envs/lsst-scipipe/lib/python3.6/site-packages/astropy/visualization/stretch.py:112: RuntimeWarning: invalid value encountered in sqrt\n",
      "  np.sqrt(values, out=values)\n",
      "/ssd/gkovacs/lsstsw/miniconda/envs/lsst-scipipe/lib/python3.6/site-packages/matplotlib/colors.py:504: RuntimeWarning: invalid value encountered in less\n",
      "  xa[xa < 0] = -1\n",
      "/ssd/gkovacs/lsstsw/miniconda/envs/lsst-scipipe/lib/python3.6/site-packages/astropy/visualization/stretch.py:112: RuntimeWarning: invalid value encountered in sqrt\n",
      "  np.sqrt(values, out=values)\n",
      "/ssd/gkovacs/lsstsw/miniconda/envs/lsst-scipipe/lib/python3.6/site-packages/matplotlib/colors.py:504: RuntimeWarning: invalid value encountered in less\n",
      "  xa[xa < 0] = -1\n"
     ]
    }
   ],
   "source": [
    "fig = plt.figure()\n",
    "WA = WCSAxes(fig,rect=(0.1,0.1,0.8,0.8), wcs=W)\n",
    "ax = fig.add_axes(WA)\n",
    "\n",
    "ax.imshow(A.T[::-1,::-1],cmap='gray',norm=img_norm,origin='lower',extent=extentR)\n",
    "#ax.coords[0].set_color('blue')\n",
    "#ax.coords[0].set_major_formatter('d.ddd')\n",
    "ax.coords['ra'].set_major_formatter('d.ddd')\n",
    "# It is confusing whether coords[0], coords[1] refer to\n",
    "ax.coords[0].set_axislabel('RA')\n",
    "ax.coords[1].set_axislabel('DEC')\n",
    "ax.coords.grid(True,ls='dotted',color='blue')\n",
    "#ax.coords['ra'].grid(color='blue')\n",
    "ax.coords[0].set_ticklabel_position('l') \n",
    "#ax.coords[1].set_color('red')\n",
    "ax.coords[1].set_ticklabel_position('b') \n",
    "#ax.coords['dec'].grid(color='red')"
   ]
  },
  {
   "cell_type": "code",
   "execution_count": null,
   "metadata": {},
   "outputs": [],
   "source": [
    "display = afwDisplay.getDisplay()\n",
    "\n",
    "display.setMaskTransparency(60)\n",
    "display.scale(\"asinh\", \"zscale\")\n",
    "\n",
    "\n",
    "mask = cutout.getMask()\n",
    "for maskName, maskBit in mask.getMaskPlaneDict().items():\n",
    "    print('{}: {}'.format(maskName, display.getMaskPlaneColor(maskName)))"
   ]
  },
  {
   "cell_type": "code",
   "execution_count": null,
   "metadata": {},
   "outputs": [],
   "source": [
    "display.mtv(cutout)"
   ]
  },
  {
   "cell_type": "code",
   "execution_count": null,
   "metadata": {},
   "outputs": [],
   "source": [
    "fig = plt.figure()\n",
    "ax = fig.add_subplot(1,1,1)\n",
    "ax.imshow(np.rot90(np.fliplr(A)),cmap='gray',norm=img_norm)"
   ]
  },
  {
   "cell_type": "code",
   "execution_count": null,
   "metadata": {},
   "outputs": [],
   "source": [
    "cwpObjTable = loadAllPpdbObjects(cwpRepo)\n",
    "cwpMiniRegion = defMiniRegion(cwpObjTable)"
   ]
  },
  {
   "cell_type": "code",
   "execution_count": null,
   "metadata": {},
   "outputs": [],
   "source": [
    "my_conn = sqlite3.connect(my_dbName)\n",
    "mr_conn = sqlite3.connect(mrawls_dbName)"
   ]
  },
  {
   "cell_type": "code",
   "execution_count": null,
   "metadata": {},
   "outputs": [],
   "source": [
    "cwpObjList = list(cwpObjTable.loc[cwpMiniRegion, 'diaObjectId'])\n",
    "cwpMiniUnflagged = cwpMiniRegion & (cwpObjTable['flags'] == 0)\n",
    "cwpObjMiniList = list(cwpObjTable.loc[cwpMiniUnflagged, 'diaObjectId'])"
   ]
  },
  {
   "cell_type": "code",
   "execution_count": null,
   "metadata": {},
   "outputs": [],
   "source": [
    "\n",
    "cwpObjMiniList = list(cwpObjTable.loc[cwpMiniUnflagged, 'diaObjectId'])\n"
   ]
  },
  {
   "cell_type": "code",
   "execution_count": null,
   "metadata": {},
   "outputs": [],
   "source": [
    "patchList = ['10,8', '11,8', '12,8', '13,8',\n",
    "             '10,7', '11,7', '12,7', '13,7',\n",
    "             '10,9', '11,9', '12,9', '13,9',\n",
    "             '10,5', '11,5', '12,5', '13,5',\n",
    "             '10,6', '11,6', '12,6', '13,6',\n",
    "             '10,10', '11,10', '12,10', '13,10']"
   ]
  },
  {
   "cell_type": "code",
   "execution_count": null,
   "metadata": {},
   "outputs": [],
   "source": [
    "\n",
    "\n",
    "def patchFinder(obj, objTable, templateButler, patchList):\n",
    "    for patch in patchList:\n",
    "        ra = objTable.loc[objTable['diaObjectId'] == obj, 'ra']\n",
    "        dec = objTable.loc[objTable['diaObjectId'] == obj, 'decl']\n",
    "        centerSource = lsst.geom.SpherePoint(ra, dec, lsst.geom.degrees)\n",
    "        size = lsst.geom.Extent2I(30, 30)\n",
    "        templateDataId = {'filter': 'g', 'tract': 0, 'patch': patch}\n",
    "        templateImage = templateButler.get('deepCoadd', dataId=templateDataId)\n",
    "        try:\n",
    "            cutout = templateImage.getCutout(centerSource, size)\n",
    "        except:\n",
    "            continue\n",
    "        else:\n",
    "            templatePatch = patch\n",
    "            #print('template patch:', templatePatch)\n",
    "            #print('object id:', obj)\n",
    "            return templatePatch\n",
    "            break\n",
    "\n"
   ]
  },
  {
   "cell_type": "code",
   "execution_count": null,
   "metadata": {},
   "outputs": [],
   "source": [
    "patch = patchFinder(cwpObjList[0], cwpObjTable, butlerCwpTemplate, patchList)\n",
    "cwpTemplate = butlerCwpTemplate.get('deepCoadd', dataId={'filter': 'g', 'tract': 0, 'patch': patch})"
   ]
  },
  {
   "cell_type": "code",
   "execution_count": null,
   "metadata": {},
   "outputs": [],
   "source": [
    "D = np.array([[1,2],[3,4]])"
   ]
  },
  {
   "cell_type": "code",
   "execution_count": null,
   "metadata": {},
   "outputs": [],
   "source": [
    "np.rot90(D,axes=(0,1))"
   ]
  },
  {
   "cell_type": "code",
   "execution_count": null,
   "metadata": {},
   "outputs": [],
   "source": [
    "?np.rot90"
   ]
  },
  {
   "cell_type": "markdown",
   "metadata": {},
   "source": [
    "# ============="
   ]
  },
  {
   "cell_type": "code",
   "execution_count": 26,
   "metadata": {
    "scrolled": true
   },
   "outputs": [
    {
     "name": "stdout",
     "output_type": "stream",
     "text": [
      "<bound method CoordinateHelper.set_axislabel_visibility_rule of <astropy.visualization.wcsaxes.coordinate_helpers.CoordinateHelper object at 0x7fad0f25f2e8>>\n"
     ]
    },
    {
     "name": "stderr",
     "output_type": "stream",
     "text": [
      "/ssd/gkovacs/lsstsw/miniconda/envs/lsst-scipipe/lib/python3.6/site-packages/astropy/visualization/stretch.py:112: RuntimeWarning: invalid value encountered in sqrt\n",
      "  np.sqrt(values, out=values)\n",
      "/ssd/gkovacs/lsstsw/miniconda/envs/lsst-scipipe/lib/python3.6/site-packages/matplotlib/colors.py:504: RuntimeWarning: invalid value encountered in less\n",
      "  xa[xa < 0] = -1\n",
      "/ssd/gkovacs/lsstsw/miniconda/envs/lsst-scipipe/lib/python3.6/site-packages/astropy/visualization/stretch.py:112: RuntimeWarning: invalid value encountered in sqrt\n",
      "  np.sqrt(values, out=values)\n",
      "/ssd/gkovacs/lsstsw/miniconda/envs/lsst-scipipe/lib/python3.6/site-packages/matplotlib/colors.py:504: RuntimeWarning: invalid value encountered in less\n",
      "  xa[xa < 0] = -1\n"
     ]
    }
   ],
   "source": [
    "fig = plt.figure()\n",
    "ax = fig.add_subplot(1,1,1,projection=W)\n",
    "ra = ax.coords['ra']\n",
    "print(ra.set_axislabel_visibility_rule)\n",
    "ra.set_axislabel('RA')\n",
    "\n",
    "ax.imshow(A,cmap='gray',norm=img_norm,origin='lower',extent=extent)\n",
    "#ax.coords[0].set_color('blue')\n",
    "ax.coords['ra'].set_ticklabel_position('bltr') \n",
    "ax.coords['ra'].grid(color='blue') \n",
    "#ax.coords[1].set_color('red')\n",
    "ax.coords['dec'].set_ticklabel_position('bltr') \n",
    "ax.coords['dec'].grid(color='red')"
   ]
  },
  {
   "cell_type": "code",
   "execution_count": 19,
   "metadata": {},
   "outputs": [
    {
     "ename": "AttributeError",
     "evalue": "'AxesSubplot' object has no attribute 'coords'",
     "output_type": "error",
     "traceback": [
      "\u001b[0;31m---------------------------------------------------------------------------\u001b[0m",
      "\u001b[0;31mAttributeError\u001b[0m                            Traceback (most recent call last)",
      "\u001b[0;32m<ipython-input-19-17df8f903943>\u001b[0m in \u001b[0;36m<module>\u001b[0;34m\u001b[0m\n\u001b[1;32m     13\u001b[0m \u001b[0mplt\u001b[0m\u001b[0;34m.\u001b[0m\u001b[0mimshow\u001b[0m\u001b[0;34m(\u001b[0m\u001b[0mhdu\u001b[0m\u001b[0;34m.\u001b[0m\u001b[0mdata\u001b[0m\u001b[0;34m,\u001b[0m \u001b[0morigin\u001b[0m\u001b[0;34m=\u001b[0m\u001b[0;34m'lower'\u001b[0m\u001b[0;34m)\u001b[0m\u001b[0;34m\u001b[0m\u001b[0m\n\u001b[1;32m     14\u001b[0m \u001b[0max\u001b[0m\u001b[0;34m=\u001b[0m\u001b[0mplt\u001b[0m\u001b[0;34m.\u001b[0m\u001b[0mgca\u001b[0m\u001b[0;34m(\u001b[0m\u001b[0;34m)\u001b[0m\u001b[0;34m\u001b[0m\u001b[0m\n\u001b[0;32m---> 15\u001b[0;31m \u001b[0max\u001b[0m\u001b[0;34m.\u001b[0m\u001b[0mcoords\u001b[0m\u001b[0;34m[\u001b[0m\u001b[0;34m'ra'\u001b[0m\u001b[0;34m]\u001b[0m\u001b[0;34m.\u001b[0m\u001b[0mset_ticklabel_position\u001b[0m\u001b[0;34m(\u001b[0m\u001b[0;34m'l'\u001b[0m\u001b[0;34m)\u001b[0m\u001b[0;34m\u001b[0m\u001b[0m\n\u001b[0m\u001b[1;32m     16\u001b[0m \u001b[0max\u001b[0m\u001b[0;34m.\u001b[0m\u001b[0mcoords\u001b[0m\u001b[0;34m[\u001b[0m\u001b[0;34m'ra'\u001b[0m\u001b[0;34m]\u001b[0m\u001b[0;34m.\u001b[0m\u001b[0mset_axislabel\u001b[0m\u001b[0;34m(\u001b[0m\u001b[0;34m'RA'\u001b[0m\u001b[0;34m)\u001b[0m\u001b[0;34m\u001b[0m\u001b[0m\n",
      "\u001b[0;31mAttributeError\u001b[0m: 'AxesSubplot' object has no attribute 'coords'"
     ]
    }
   ],
   "source": [
    "%matplotlib qt5\n",
    "from astropy.io import fits\n",
    "from astropy.wcs import WCS\n",
    "import matplotlib.pyplot as plt\n",
    "\n",
    "hdu = fits.open('test.fits')[1]\n",
    "\n",
    "wcs = WCS(hdu.header)\n",
    "\n",
    "#plt.subplot(projection=wcs)\n",
    "fig=plt.figure()\n",
    "fig.add_subplot(1,1,1)\n",
    "plt.imshow(hdu.data, origin='lower')\n",
    "ax=plt.gca()\n",
    "ax.coords['ra'].set_ticklabel_position('l')\n",
    "ax.coords['ra'].set_axislabel('RA')\n"
   ]
  },
  {
   "cell_type": "code",
   "execution_count": 25,
   "metadata": {},
   "outputs": [
    {
     "ename": "ValueError",
     "evalue": "Unknown frame: pixel",
     "output_type": "error",
     "traceback": [
      "\u001b[0;31m---------------------------------------------------------------------------\u001b[0m",
      "\u001b[0;31mValueError\u001b[0m                                Traceback (most recent call last)",
      "\u001b[0;32m<ipython-input-25-d5529c745664>\u001b[0m in \u001b[0;36m<module>\u001b[0;34m\u001b[0m\n\u001b[0;32m----> 1\u001b[0;31m \u001b[0max\u001b[0m\u001b[0;34m.\u001b[0m\u001b[0mget_coords_overlay\u001b[0m\u001b[0;34m(\u001b[0m\u001b[0;34m'pixel'\u001b[0m\u001b[0;34m)\u001b[0m\u001b[0;34m\u001b[0m\u001b[0m\n\u001b[0m",
      "\u001b[0;32m/ssd/gkovacs/lsstsw/miniconda/envs/lsst-scipipe/lib/python3.6/site-packages/astropy/visualization/wcsaxes/core.py\u001b[0m in \u001b[0;36mget_coords_overlay\u001b[0;34m(self, frame, coord_meta)\u001b[0m\n\u001b[1;32m    414\u001b[0m         \u001b[0;32melse\u001b[0m\u001b[0;34m:\u001b[0m\u001b[0;34m\u001b[0m\u001b[0m\n\u001b[1;32m    415\u001b[0m             \u001b[0;32mif\u001b[0m \u001b[0mcoord_meta\u001b[0m \u001b[0;32mis\u001b[0m \u001b[0;32mNone\u001b[0m\u001b[0;34m:\u001b[0m\u001b[0;34m\u001b[0m\u001b[0m\n\u001b[0;32m--> 416\u001b[0;31m                 \u001b[0mcoord_meta\u001b[0m \u001b[0;34m=\u001b[0m \u001b[0mget_coord_meta\u001b[0m\u001b[0;34m(\u001b[0m\u001b[0mframe\u001b[0m\u001b[0;34m)\u001b[0m\u001b[0;34m\u001b[0m\u001b[0m\n\u001b[0m\u001b[1;32m    417\u001b[0m             \u001b[0mtransform\u001b[0m \u001b[0;34m=\u001b[0m \u001b[0mself\u001b[0m\u001b[0;34m.\u001b[0m\u001b[0m_get_transform_no_transdata\u001b[0m\u001b[0;34m(\u001b[0m\u001b[0mframe\u001b[0m\u001b[0;34m)\u001b[0m\u001b[0;34m\u001b[0m\u001b[0m\n\u001b[1;32m    418\u001b[0m             coords = CoordinatesMap(self, transform=transform,\n",
      "\u001b[0;32m/ssd/gkovacs/lsstsw/miniconda/envs/lsst-scipipe/lib/python3.6/site-packages/astropy/visualization/wcsaxes/utils.py\u001b[0m in \u001b[0;36mget_coord_meta\u001b[0;34m(frame)\u001b[0m\n\u001b[1;32m    109\u001b[0m         \u001b[0mframe\u001b[0m \u001b[0;34m=\u001b[0m \u001b[0mframe_transform_graph\u001b[0m\u001b[0;34m.\u001b[0m\u001b[0mlookup_name\u001b[0m\u001b[0;34m(\u001b[0m\u001b[0mframe\u001b[0m\u001b[0;34m)\u001b[0m\u001b[0;34m\u001b[0m\u001b[0m\n\u001b[1;32m    110\u001b[0m         \u001b[0;32mif\u001b[0m \u001b[0mframe\u001b[0m \u001b[0;32mis\u001b[0m \u001b[0;32mNone\u001b[0m\u001b[0;34m:\u001b[0m\u001b[0;34m\u001b[0m\u001b[0m\n\u001b[0;32m--> 111\u001b[0;31m             \u001b[0;32mraise\u001b[0m \u001b[0mValueError\u001b[0m\u001b[0;34m(\u001b[0m\u001b[0;34m\"Unknown frame: {0}\"\u001b[0m\u001b[0;34m.\u001b[0m\u001b[0mformat\u001b[0m\u001b[0;34m(\u001b[0m\u001b[0minitial_frame\u001b[0m\u001b[0;34m)\u001b[0m\u001b[0;34m)\u001b[0m\u001b[0;34m\u001b[0m\u001b[0m\n\u001b[0m\u001b[1;32m    112\u001b[0m \u001b[0;34m\u001b[0m\u001b[0m\n\u001b[1;32m    113\u001b[0m     \u001b[0;32mif\u001b[0m \u001b[0;32mnot\u001b[0m \u001b[0misinstance\u001b[0m\u001b[0;34m(\u001b[0m\u001b[0mframe\u001b[0m\u001b[0;34m,\u001b[0m \u001b[0mBaseCoordinateFrame\u001b[0m\u001b[0;34m)\u001b[0m\u001b[0;34m:\u001b[0m\u001b[0;34m\u001b[0m\u001b[0m\n",
      "\u001b[0;31mValueError\u001b[0m: Unknown frame: pixel"
     ]
    }
   ],
   "source": [
    "ax.get_coords_overlay('pixel')"
   ]
  },
  {
   "cell_type": "code",
   "execution_count": 21,
   "metadata": {},
   "outputs": [
    {
     "data": {
      "text/plain": [
       "WCS Keywords\n",
       "\n",
       "Number of WCS axes: 2\n",
       "CTYPE : 'RA---TAN-SIP'  'DEC--TAN-SIP'  \n",
       "CRVAL : 155.290855751683  -5.68639288185641  \n",
       "CRPIX : -33.175318  287.524956  \n",
       "CD1_1 CD1_2  : -1.29229707670269e-08  7.30983903374267e-05  \n",
       "CD2_1 CD2_2  : -7.28945272792879e-05  -1.24852914855695e-07  \n",
       "NAXIS : 30  30"
      ]
     },
     "execution_count": 21,
     "metadata": {},
     "output_type": "execute_result"
    }
   ],
   "source": [
    "wcs"
   ]
  },
  {
   "cell_type": "code",
   "execution_count": 33,
   "metadata": {},
   "outputs": [],
   "source": [
    "hdu = fits.open('test.fits')"
   ]
  }
 ],
 "metadata": {
  "kernelspec": {
   "display_name": "Python 3",
   "language": "python",
   "name": "python3"
  },
  "language_info": {
   "codemirror_mode": {
    "name": "ipython",
    "version": 3
   },
   "file_extension": ".py",
   "mimetype": "text/x-python",
   "name": "python",
   "nbconvert_exporter": "python",
   "pygments_lexer": "ipython3",
   "version": "3.6.6"
  }
 },
 "nbformat": 4,
 "nbformat_minor": 2
}
