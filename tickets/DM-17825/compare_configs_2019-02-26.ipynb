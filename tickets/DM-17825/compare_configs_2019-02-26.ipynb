{
 "cells": [
  {
   "cell_type": "markdown",
   "metadata": {},
   "source": [
    "# 2019-02-26 Check the configuration plugins between \n",
    "\n",
    "repo_DM-17825/ingested/rerun/proc_2019-02-21/config/apPipe.py\n",
    "\n",
    "/mrawls_cw_processed2/config/apPipe.py\n",
    "\n",
    "gkovacs:~/data/repo_DM-17825/ingested/rerun/proc_2019-02-21/config$ kdiff3 apPipe.py ../../../../mrawls_cw_processed2/config/apPipe.py \n"
   ]
  },
  {
   "cell_type": "code",
   "execution_count": 25,
   "metadata": {},
   "outputs": [
    {
     "data": {
      "text/plain": [
       "True"
      ]
     },
     "execution_count": 25,
     "metadata": {},
     "output_type": "execute_result"
    }
   ],
   "source": [
    "names1=['base_SdssCentroid', 'base_GaussianFlux', 'base_PsfFlux', 'base_CircularApertureFlux', \n",
    "        'base_PixelFlags', 'base_SdssShape']\n",
    "names2=['base_SdssShape', 'base_GaussianFlux', 'base_CircularApertureFlux', 'base_PsfFlux', \n",
    "        'base_SdssCentroid', 'base_PixelFlags']\n",
    "set(names1)==set(names2)"
   ]
  },
  {
   "cell_type": "code",
   "execution_count": 26,
   "metadata": {},
   "outputs": [
    {
     "data": {
      "text/plain": [
       "True"
      ]
     },
     "execution_count": 26,
     "metadata": {},
     "output_type": "execute_result"
    }
   ],
   "source": [
    "names1=['base_LocalBackground', 'base_SdssCentroid', 'base_SkyCoord', 'base_GaussianFlux', 'base_PsfFlux', 'base_Variance', 'base_CircularApertureFlux', 'base_PixelFlags', 'base_Blendedness', 'base_NaiveCentroid', 'base_SdssShape']\n",
    "# whether to run this plugin in single-object mode\n",
    "names2=['base_Variance', 'base_PixelFlags', 'base_LocalBackground', 'base_NaiveCentroid', 'base_SdssShape', 'base_GaussianFlux', 'base_CircularApertureFlux', 'base_PsfFlux', 'base_SdssCentroid', 'base_SkyCoord', 'base_Blendedness']\n",
    "set(names1)==set(names2)"
   ]
  },
  {
   "cell_type": "code",
   "execution_count": 27,
   "metadata": {},
   "outputs": [
    {
     "data": {
      "text/plain": [
       "True"
      ]
     },
     "execution_count": 27,
     "metadata": {},
     "output_type": "execute_result"
    }
   ],
   "source": [
    "names1=['base_SdssCentroid', 'base_SkyCoord', 'base_GaussianFlux', 'base_PsfFlux', 'base_PixelFlags', 'base_SdssShape']\n",
    "# whether to run this plugin in single-object mode\n",
    "names2=['base_SdssShape', 'base_GaussianFlux', 'base_PsfFlux', 'base_SdssCentroid', 'base_SkyCoord', 'base_PixelFlags']\n",
    "set(names1)==set(names2)"
   ]
  },
  {
   "cell_type": "code",
   "execution_count": 28,
   "metadata": {},
   "outputs": [
    {
     "data": {
      "text/plain": [
       "True"
      ]
     },
     "execution_count": 28,
     "metadata": {},
     "output_type": "execute_result"
    }
   ],
   "source": [
    "names1=['base_LocalBackground', 'base_SdssCentroid', 'base_SkyCoord', 'base_Blendedness', 'base_GaussianFlux', 'base_PsfFlux', 'base_Variance', 'base_CircularApertureFlux', 'base_PixelFlags', 'base_NaiveCentroid', 'base_SdssShape']\n",
    "# whether to run this plugin in single-object mode\n",
    "names2=['base_Variance', 'base_LocalBackground', 'base_NaiveCentroid', 'base_SdssShape', 'base_GaussianFlux', 'base_Blendedness', 'base_CircularApertureFlux', 'base_PsfFlux', 'base_SdssCentroid', 'base_SkyCoord', 'base_PixelFlags']\n",
    "set(names1)==set(names2)"
   ]
  },
  {
   "cell_type": "code",
   "execution_count": 29,
   "metadata": {},
   "outputs": [
    {
     "data": {
      "text/plain": [
       "True"
      ]
     },
     "execution_count": 29,
     "metadata": {},
     "output_type": "execute_result"
    }
   ],
   "source": [
    "names1=['base_PeakLikelihoodFlux', 'ip_diffim_ClassificationDipole', 'base_SdssCentroid', 'base_SkyCoord', 'base_PeakCentroid', 'base_GaussianFlux', 'base_PsfFlux', 'ip_diffim_PsfDipoleFlux', 'base_CircularApertureFlux', 'ip_diffim_NaiveDipoleCentroid', 'ip_diffim_NaiveDipoleFlux', 'base_PixelFlags', 'base_NaiveCentroid', 'base_SdssShape']\n",
    "names2=['base_PeakLikelihoodFlux', 'ip_diffim_NaiveDipoleFlux', 'base_NaiveCentroid', 'base_SdssShape', 'base_GaussianFlux', 'base_CircularApertureFlux', 'base_PsfFlux', 'ip_diffim_NaiveDipoleCentroid', 'base_SdssCentroid', 'base_PeakCentroid', 'ip_diffim_PsfDipoleFlux', 'ip_diffim_ClassificationDipole', 'base_SkyCoord', 'base_PixelFlags']\n",
    "set(names1)==set(names2)"
   ]
  },
  {
   "cell_type": "code",
   "execution_count": null,
   "metadata": {},
   "outputs": [],
   "source": []
  }
 ],
 "metadata": {
  "kernelspec": {
   "display_name": "Python 3",
   "language": "python",
   "name": "python3"
  },
  "language_info": {
   "codemirror_mode": {
    "name": "ipython",
    "version": 3
   },
   "file_extension": ".py",
   "mimetype": "text/x-python",
   "name": "python",
   "nbconvert_exporter": "python",
   "pygments_lexer": "ipython3",
   "version": "3.6.6"
  }
 },
 "nbformat": 4,
 "nbformat_minor": 2
}
