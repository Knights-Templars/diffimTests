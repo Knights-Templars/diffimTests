{
 "cells": [
  {
   "cell_type": "code",
   "execution_count": 1,
   "metadata": {},
   "outputs": [],
   "source": [
    "# Choose one of the matplotlib initialization for interactive or non-interactive\n",
    "%matplotlib qt5\n",
    "#import matplotlib\n",
    "#matplotlib.use('Qt5Agg')"
   ]
  },
  {
   "cell_type": "code",
   "execution_count": 2,
   "metadata": {},
   "outputs": [],
   "source": [
    "import sqlite3\n",
    "import astropy.units as u\n",
    "from astropy.coordinates import SkyCoord\n",
    "\n",
    "import os\n",
    "import numpy as np\n",
    "import pandas as pd\n",
    "import sqlite3\n",
    "import lsst.daf.persistence as dafPersist\n",
    "import lsst.geom\n",
    "from astropy.visualization import (ZScaleInterval, AsinhStretch, ImageNormalize)\n",
    "import astropy.units as u\n",
    "from astropy.table import Table\n",
    "import matplotlib.pyplot as plt"
   ]
  },
  {
   "cell_type": "code",
   "execution_count": 5,
   "metadata": {},
   "outputs": [],
   "source": [
    "cwpRepo = '/home/gkovacs/data/repo_DM-17825/ingested/rerun/proc_2019-02-21'\n",
    "cwpTemplateRepo = '/home/gkovacs/data/repo_DM-17825/templates'\n",
    "my_dbName = '/home/gkovacs/data/repo_DM-17825/ingested/rerun/proc_2019-02-21/association.db'\n",
    "mrawls_dbName = '/home/gkovacs/data/repo_DM-17825/mrawls_cw_processed2/association.db'\n",
    "mrawls_repo = '/home/gkovacs/data/repo_DM-17825/mrawls_cw_processed2'\n",
    "\n",
    "butlerCwp = dafPersist.Butler(cwpRepo)\n",
    "butlerCwpTemplate = dafPersist.Butler(cwpTemplateRepo)\n",
    "conn = sqlite3.connect(my_dbName)"
   ]
  },
  {
   "cell_type": "markdown",
   "metadata": {},
   "source": [
    "# =========="
   ]
  },
  {
   "cell_type": "code",
   "execution_count": 6,
   "metadata": {
    "scrolled": true
   },
   "outputs": [],
   "source": [
    "srcTable = Table.from_pandas(pd.read_sql_query('select * from  DiaSource '\n",
    "                                               'where decl < -5.6 and decl > -5.8'\n",
    "            ' and ra > 155.2 and ra < 155.3 and flags = 0', conn))\n",
    "\n",
    "S = SkyCoord(srcTable['ra']*u.deg, srcTable['decl']*u.deg)"
   ]
  },
  {
   "cell_type": "code",
   "execution_count": 7,
   "metadata": {},
   "outputs": [],
   "source": [
    "# Meredith's ppdb\n",
    "\n",
    "m_conn = sqlite3.connect(mrawls_dbName)\n",
    "m_srcTable = Table.from_pandas(pd.read_sql_query(\n",
    "    'select * from DiaSource where decl < -5.6 and decl > -5.8'\n",
    "            ' and ra > 155.2 and ra < 155.3 and flags = 0', m_conn))\n",
    "m_S = SkyCoord(m_srcTable['ra']*u.deg, m_srcTable['decl']*u.deg)"
   ]
  },
  {
   "cell_type": "code",
   "execution_count": 8,
   "metadata": {},
   "outputs": [
    {
     "name": "stdout",
     "output_type": "stream",
     "text": [
      "   count(*)\n",
      "0      3486\n",
      "   count(*)\n",
      "0       678\n"
     ]
    }
   ],
   "source": [
    "print(pd.read_sql('select count(*) from DiaSource where decl < -5.6 and decl > -5.8'\n",
    "            ' and ra > 155.2 and ra < 155.3',m_conn))\n",
    "\n",
    "print(pd.read_sql('select count(*) from DiaSource where decl < -5.6 and decl > -5.8'\n",
    "            ' and ra > 155.2 and ra < 155.3 and flags = 0',m_conn))"
   ]
  },
  {
   "cell_type": "code",
   "execution_count": 9,
   "metadata": {},
   "outputs": [
    {
     "name": "stdout",
     "output_type": "stream",
     "text": [
      "   count(*)\n",
      "0      2697\n",
      "   count(*)\n",
      "0      1202\n"
     ]
    }
   ],
   "source": [
    "print(pd.read_sql('select count(*) from DiaSource where decl < -5.6 and decl > -5.8'\n",
    "            ' and ra > 155.2 and ra < 155.3',conn))\n",
    "\n",
    "print(pd.read_sql('select count(*) from DiaSource where decl < -5.6 and decl > -5.8'\n",
    "            ' and ra > 155.2 and ra < 155.3 and flags = 0',conn))"
   ]
  },
  {
   "cell_type": "code",
   "execution_count": 10,
   "metadata": {},
   "outputs": [],
   "source": [
    "%run -n -i \"plot_diasources_comparison.py\""
   ]
  },
  {
   "cell_type": "code",
   "execution_count": 11,
   "metadata": {},
   "outputs": [],
   "source": [
    "plot_diasources_diffim(cwpRepo,mrawls_repo,srcTable,m_srcTable,Nmaxpanels=12)"
   ]
  },
  {
   "cell_type": "markdown",
   "metadata": {},
   "source": [
    "# ============"
   ]
  },
  {
   "cell_type": "code",
   "execution_count": null,
   "metadata": {},
   "outputs": [],
   "source": [
    "%run -n -i \"plot_calexp_template_diffim.py\""
   ]
  },
  {
   "cell_type": "code",
   "execution_count": null,
   "metadata": {},
   "outputs": [],
   "source": [
    "patchList = ['10,8', '11,8', '12,8', '13,8',\n",
    "             '10,7', '11,7', '12,7', '13,7',\n",
    "             '10,9', '11,9', '12,9', '13,9',\n",
    "             '10,5', '11,5', '12,5', '13,5',\n",
    "             '10,6', '11,6', '12,6', '13,6',\n",
    "             '10,10', '11,10', '12,10', '13,10']"
   ]
  },
  {
   "cell_type": "code",
   "execution_count": null,
   "metadata": {},
   "outputs": [],
   "source": [
    "cwpObjTable = loadAllPpdbObjects(cwpRepo)\n",
    "cwpMiniRegion = defMiniRegion(cwpObjTable)\n",
    "cwpMiniUnflagged = cwpMiniRegion & (cwpObjTable['flags'] == 0)"
   ]
  },
  {
   "cell_type": "code",
   "execution_count": 12,
   "metadata": {},
   "outputs": [
    {
     "data": {
      "text/plain": [
       "5"
      ]
     },
     "execution_count": 12,
     "metadata": {},
     "output_type": "execute_result"
    }
   ],
   "source": [
    "min(5,6)"
   ]
  },
  {
   "cell_type": "code",
   "execution_count": null,
   "metadata": {},
   "outputs": [],
   "source": []
  }
 ],
 "metadata": {
  "kernelspec": {
   "display_name": "Python 3",
   "language": "python",
   "name": "python3"
  },
  "language_info": {
   "codemirror_mode": {
    "name": "ipython",
    "version": 3
   },
   "file_extension": ".py",
   "mimetype": "text/x-python",
   "name": "python",
   "nbconvert_exporter": "python",
   "pygments_lexer": "ipython3",
   "version": "3.6.6"
  }
 },
 "nbformat": 4,
 "nbformat_minor": 2
}
