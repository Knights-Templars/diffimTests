{
 "cells": [
  {
   "cell_type": "code",
   "execution_count": 1,
   "metadata": {},
   "outputs": [],
   "source": [
    "# Choose one of the matplotlib initialization for interactive or non-interactive\n",
    "%matplotlib qt5\n",
    "#import matplotlib\n",
    "#matplotlib.use('Qt5Agg')"
   ]
  },
  {
   "cell_type": "code",
   "execution_count": 2,
   "metadata": {},
   "outputs": [],
   "source": [
    "import sqlite3\n",
    "import astropy.units as u\n",
    "from astropy.coordinates import SkyCoord\n",
    "\n",
    "import os\n",
    "import numpy as np\n",
    "import pandas as pd\n",
    "import sqlite3\n",
    "import lsst.daf.persistence as dafPersist\n",
    "import lsst.geom\n",
    "from astropy.visualization import (ZScaleInterval, AsinhStretch, ImageNormalize)\n",
    "import astropy.units as u\n",
    "from astropy.table import Table\n",
    "import matplotlib.pyplot as plt"
   ]
  },
  {
   "cell_type": "code",
   "execution_count": 7,
   "metadata": {},
   "outputs": [],
   "source": [
    "cwpRepo = '/home/gkovacs/data/repo_DM-17825/ingested/rerun/proc_2019-02-21'\n",
    "cwpTemplateRepo = '/home/gkovacs/data/repo_DM-17825/templates'\n",
    "my_dbName = '/home/gkovacs/data/repo_DM-17825/ingested/rerun/proc_2019-02-21/association.db'\n",
    "mrawls_dbName = '/home/gkovacs/data/repo_DM-17825/mrawls_cw_processed2/association.db'\n",
    "mrawls_repo = '/home/gkovacs/data/repo_DM-17825/mrawls_cw_processed2'\n",
    "\n",
    "butlerCwp = dafPersist.Butler(cwpRepo)\n",
    "butlerCwpTemplate = dafPersist.Butler(cwpTemplateRepo)\n",
    "conn = sqlite3.connect(my_dbName)"
   ]
  },
  {
   "cell_type": "code",
   "execution_count": 9,
   "metadata": {},
   "outputs": [],
   "source": [
    "%run -n -i \"plot_calexp_template_diffim.py\""
   ]
  },
  {
   "cell_type": "code",
   "execution_count": 4,
   "metadata": {},
   "outputs": [],
   "source": [
    "patchList = ['10,8', '11,8', '12,8', '13,8',\n",
    "             '10,7', '11,7', '12,7', '13,7',\n",
    "             '10,9', '11,9', '12,9', '13,9',\n",
    "             '10,5', '11,5', '12,5', '13,5',\n",
    "             '10,6', '11,6', '12,6', '13,6',\n",
    "             '10,10', '11,10', '12,10', '13,10']"
   ]
  },
  {
   "cell_type": "code",
   "execution_count": 5,
   "metadata": {},
   "outputs": [
    {
     "ename": "NameError",
     "evalue": "name 'loadAllPpdbObjects' is not defined",
     "output_type": "error",
     "traceback": [
      "\u001b[0;31m---------------------------------------------------------------------------\u001b[0m",
      "\u001b[0;31mNameError\u001b[0m                                 Traceback (most recent call last)",
      "\u001b[0;32m<ipython-input-5-aeec2de0ae2b>\u001b[0m in \u001b[0;36m<module>\u001b[0;34m\u001b[0m\n\u001b[0;32m----> 1\u001b[0;31m \u001b[0mcwpObjTable\u001b[0m \u001b[0;34m=\u001b[0m \u001b[0mloadAllPpdbObjects\u001b[0m\u001b[0;34m(\u001b[0m\u001b[0mcwpRepo\u001b[0m\u001b[0;34m)\u001b[0m\u001b[0;34m\u001b[0m\u001b[0m\n\u001b[0m\u001b[1;32m      2\u001b[0m \u001b[0mcwpMiniRegion\u001b[0m \u001b[0;34m=\u001b[0m \u001b[0mdefMiniRegion\u001b[0m\u001b[0;34m(\u001b[0m\u001b[0mcwpObjTable\u001b[0m\u001b[0;34m)\u001b[0m\u001b[0;34m\u001b[0m\u001b[0m\n\u001b[1;32m      3\u001b[0m \u001b[0mcwpMiniUnflagged\u001b[0m \u001b[0;34m=\u001b[0m \u001b[0mcwpMiniRegion\u001b[0m \u001b[0;34m&\u001b[0m \u001b[0;34m(\u001b[0m\u001b[0mcwpObjTable\u001b[0m\u001b[0;34m[\u001b[0m\u001b[0;34m'flags'\u001b[0m\u001b[0;34m]\u001b[0m \u001b[0;34m==\u001b[0m \u001b[0;36m0\u001b[0m\u001b[0;34m)\u001b[0m\u001b[0;34m\u001b[0m\u001b[0m\n",
      "\u001b[0;31mNameError\u001b[0m: name 'loadAllPpdbObjects' is not defined"
     ]
    }
   ],
   "source": [
    "cwpObjTable = loadAllPpdbObjects(cwpRepo)\n",
    "cwpMiniRegion = defMiniRegion(cwpObjTable)\n",
    "cwpMiniUnflagged = cwpMiniRegion & (cwpObjTable['flags'] == 0)"
   ]
  },
  {
   "cell_type": "code",
   "execution_count": 10,
   "metadata": {},
   "outputs": [
    {
     "ename": "NameError",
     "evalue": "name 'cwpObjTable' is not defined",
     "output_type": "error",
     "traceback": [
      "\u001b[0;31m---------------------------------------------------------------------------\u001b[0m",
      "\u001b[0;31mNameError\u001b[0m                                 Traceback (most recent call last)",
      "\u001b[0;32m/ssd/gkovacs/devel/active/diffimTests/tickets/DM-17825/plot_calexp_template_diffim.py\u001b[0m in \u001b[0;36m<module>\u001b[0;34m\u001b[0m\n\u001b[1;32m      1\u001b[0m \u001b[0;31m# Find the patch that belongs to the mini region\u001b[0m\u001b[0;34m\u001b[0m\u001b[0;34m\u001b[0m\u001b[0m\n\u001b[0;32m----> 2\u001b[0;31m \u001b[0mpatch\u001b[0m \u001b[0;34m=\u001b[0m \u001b[0mpatchFinder\u001b[0m\u001b[0;34m(\u001b[0m\u001b[0mcwpObjTable\u001b[0m\u001b[0;34m.\u001b[0m\u001b[0mloc\u001b[0m\u001b[0;34m[\u001b[0m\u001b[0mcwpMiniUnflagged\u001b[0m\u001b[0;34m,\u001b[0m\u001b[0;34m'diaObjectId'\u001b[0m\u001b[0;34m]\u001b[0m\u001b[0;34m.\u001b[0m\u001b[0mvalues\u001b[0m\u001b[0;34m[\u001b[0m\u001b[0;36m0\u001b[0m\u001b[0;34m]\u001b[0m\u001b[0;34m,\u001b[0m\u001b[0mcwpObjTable\u001b[0m\u001b[0;34m,\u001b[0m\u001b[0mbutlerCwpTemplate\u001b[0m\u001b[0;34m,\u001b[0m\u001b[0mpatchList\u001b[0m\u001b[0;34m)\u001b[0m\u001b[0;34m\u001b[0m\u001b[0m\n\u001b[0m\u001b[1;32m      3\u001b[0m \u001b[0mprint\u001b[0m\u001b[0;34m(\u001b[0m\u001b[0mpatch\u001b[0m\u001b[0;34m)\u001b[0m\u001b[0;34m\u001b[0m\u001b[0m\n",
      "\u001b[0;31mNameError\u001b[0m: name 'cwpObjTable' is not defined"
     ]
    }
   ],
   "source": [
    "# Find the patch that belongs to the mini region\n",
    "patch = patchFinder(cwpObjTable.loc[cwpMiniUnflagged,'diaObjectId'].values[0],cwpObjTable,butlerCwpTemplate,patchList)\n",
    "print(patch)"
   ]
  },
  {
   "cell_type": "markdown",
   "metadata": {},
   "source": [
    "# =========="
   ]
  },
  {
   "cell_type": "code",
   "execution_count": 11,
   "metadata": {
    "scrolled": true
   },
   "outputs": [],
   "source": [
    "srcTable = Table.from_pandas(pd.read_sql_query('select * from  DiaSource '\n",
    "                                               'where decl < -5.6 and decl > -5.8'\n",
    "            ' and ra > 155.2 and ra < 155.3 and flags = 0', conn))\n",
    "\n",
    "S = SkyCoord(srcTable['ra']*u.deg, srcTable['decl']*u.deg)"
   ]
  },
  {
   "cell_type": "code",
   "execution_count": 12,
   "metadata": {},
   "outputs": [],
   "source": [
    "# Meredith's ppdb\n",
    "\n",
    "m_conn = sqlite3.connect(mrawls_dbName)\n",
    "m_srcTable = Table.from_pandas(pd.read_sql_query(\n",
    "    'select * from DiaSource where decl < -5.6 and decl > -5.8'\n",
    "            ' and ra > 155.2 and ra < 155.3 and flags = 0', m_conn))\n",
    "m_S = SkyCoord(m_srcTable['ra']*u.deg, m_srcTable['decl']*u.deg)"
   ]
  },
  {
   "cell_type": "code",
   "execution_count": 13,
   "metadata": {},
   "outputs": [
    {
     "name": "stdout",
     "output_type": "stream",
     "text": [
      "   count(*)\n",
      "0      3486\n",
      "   count(*)\n",
      "0       678\n"
     ]
    }
   ],
   "source": [
    "print(pd.read_sql('select count(*) from DiaSource where decl < -5.6 and decl > -5.8'\n",
    "            ' and ra > 155.2 and ra < 155.3',m_conn))\n",
    "\n",
    "print(pd.read_sql('select count(*) from DiaSource where decl < -5.6 and decl > -5.8'\n",
    "            ' and ra > 155.2 and ra < 155.3 and flags = 0',m_conn))"
   ]
  },
  {
   "cell_type": "code",
   "execution_count": 14,
   "metadata": {},
   "outputs": [
    {
     "name": "stdout",
     "output_type": "stream",
     "text": [
      "   count(*)\n",
      "0      2697\n",
      "   count(*)\n",
      "0      1202\n"
     ]
    }
   ],
   "source": [
    "print(pd.read_sql('select count(*) from DiaSource where decl < -5.6 and decl > -5.8'\n",
    "            ' and ra > 155.2 and ra < 155.3',conn))\n",
    "\n",
    "print(pd.read_sql('select count(*) from DiaSource where decl < -5.6 and decl > -5.8'\n",
    "            ' and ra > 155.2 and ra < 155.3 and flags = 0',conn))"
   ]
  },
  {
   "cell_type": "code",
   "execution_count": 99,
   "metadata": {},
   "outputs": [],
   "source": [
    "plot_diasources_compare(srcTable[:100],m_srcTable[:100])"
   ]
  },
  {
   "cell_type": "code",
   "execution_count": 13,
   "metadata": {},
   "outputs": [],
   "source": [
    "%run -n -i \"plot_diasources_comparison.py\""
   ]
  },
  {
   "cell_type": "code",
   "execution_count": 14,
   "metadata": {},
   "outputs": [],
   "source": [
    "plot_diasources_diffim(cwpRepo,mrawls_repo,srcTable,m_srcTable)"
   ]
  },
  {
   "cell_type": "code",
   "execution_count": 11,
   "metadata": {},
   "outputs": [
    {
     "data": {
      "text/plain": [
       "'/home/gkovacs/data/repo_DM-17825/mrawls_cw_processed2'"
      ]
     },
     "execution_count": 11,
     "metadata": {},
     "output_type": "execute_result"
    }
   ],
   "source": [
    "mrawls_repo"
   ]
  },
  {
   "cell_type": "code",
   "execution_count": 22,
   "metadata": {},
   "outputs": [
    {
     "data": {
      "text/plain": [
       "6.0"
      ]
     },
     "execution_count": 22,
     "metadata": {},
     "output_type": "execute_result"
    }
   ],
   "source": [
    "import matplotlib\n",
    "matplotlib.rcParams['lines.markersize']"
   ]
  },
  {
   "cell_type": "code",
   "execution_count": 12,
   "metadata": {},
   "outputs": [],
   "source": [
    "butler2 = dafPersist.butler.Butler(mrawls_repo)"
   ]
  },
  {
   "cell_type": "code",
   "execution_count": null,
   "metadata": {},
   "outputs": [],
   "source": [
    "idx, sep, d3d = S.match_to_catalog_sky(m_S)"
   ]
  },
  {
   "cell_type": "code",
   "execution_count": null,
   "metadata": {},
   "outputs": [],
   "source": [
    "ccdVisitIds, visit_ctns = np.unique(srcTable['ccdVisitId'],return_counts=True)"
   ]
  },
  {
   "cell_type": "code",
   "execution_count": null,
   "metadata": {},
   "outputs": [],
   "source": [
    "ccdVisitIds[np.argmax(visit_ctns)]"
   ]
  },
  {
   "cell_type": "code",
   "execution_count": null,
   "metadata": {},
   "outputs": [],
   "source": [
    "T2 = srcTable[srcTable['ccdVisitId']==41980206]"
   ]
  },
  {
   "cell_type": "code",
   "execution_count": null,
   "metadata": {},
   "outputs": [],
   "source": [
    "m_T2 = m_srcTable[m_srcTable['ccdVisitId']==41980206]"
   ]
  },
  {
   "cell_type": "code",
   "execution_count": null,
   "metadata": {},
   "outputs": [],
   "source": [
    "fig=plt.figure()"
   ]
  },
  {
   "cell_type": "code",
   "execution_count": null,
   "metadata": {},
   "outputs": [],
   "source": [
    "ax=fig.add_subplot(1,1,1)"
   ]
  },
  {
   "cell_type": "code",
   "execution_count": null,
   "metadata": {},
   "outputs": [],
   "source": [
    "ax.scatter(T2['ra'],T2['decl'],s=4, alpha=0.5)"
   ]
  },
  {
   "cell_type": "code",
   "execution_count": null,
   "metadata": {},
   "outputs": [],
   "source": [
    "ax.scatter(m_T2['ra'],m_T2['decl'],s=4, alpha=0.5)"
   ]
  },
  {
   "cell_type": "code",
   "execution_count": 17,
   "metadata": {},
   "outputs": [],
   "source": [
    "diffexp = butlerCwp.get(\"deepDiff_differenceExp\", {'visit': 419802, 'ccdnum': 6})"
   ]
  },
  {
   "cell_type": "code",
   "execution_count": 18,
   "metadata": {},
   "outputs": [],
   "source": [
    "wcs = diffexp.getWcs()"
   ]
  },
  {
   "cell_type": "code",
   "execution_count": 20,
   "metadata": {},
   "outputs": [],
   "source": [
    "?wcs.skyToPixel"
   ]
  },
  {
   "cell_type": "code",
   "execution_count": 81,
   "metadata": {},
   "outputs": [],
   "source": [
    "p1 = lsst.geom.SpherePoint(155.3, -5.8, lsst.geom.degrees)\n",
    "p2 = lsst.geom.SpherePoint(155.2, -5.6, lsst.geom.degrees)"
   ]
  },
  {
   "cell_type": "code",
   "execution_count": 82,
   "metadata": {},
   "outputs": [
    {
     "data": {
      "text/plain": [
       "SpherePoint(155.3*geom.degrees, -5.8*geom.degrees)"
      ]
     },
     "execution_count": 82,
     "metadata": {},
     "output_type": "execute_result"
    }
   ],
   "source": [
    "p1"
   ]
  },
  {
   "cell_type": "code",
   "execution_count": 30,
   "metadata": {},
   "outputs": [],
   "source": [
    "img_point1 = wcs.skyToPixel(p1)\n",
    "img_point2 = wcs.skyToPixel(p2)"
   ]
  },
  {
   "cell_type": "code",
   "execution_count": 83,
   "metadata": {},
   "outputs": [
    {
     "data": {
      "text/plain": [
       "(Point2D(1320.48885, 2368.546548), Point2D(-1420.283617, 1005.740488))"
      ]
     },
     "execution_count": 83,
     "metadata": {},
     "output_type": "execute_result"
    }
   ],
   "source": [
    "img_point1, img_point2"
   ]
  },
  {
   "cell_type": "code",
   "execution_count": 46,
   "metadata": {},
   "outputs": [],
   "source": [
    "b_plot = lsst.geom.Box2I(lsst.geom.Point2I(img_point1),lsst.geom.Point2I(img_point2))"
   ]
  },
  {
   "cell_type": "code",
   "execution_count": 49,
   "metadata": {},
   "outputs": [],
   "source": [
    "b_plot.clip(diffexp.getBBox())"
   ]
  },
  {
   "cell_type": "code",
   "execution_count": 65,
   "metadata": {},
   "outputs": [
    {
     "data": {
      "text/plain": [
       "Box2I(minimum=Point2I(0, 1006), dimensions=Extent2I(1321, 1364))"
      ]
     },
     "execution_count": 65,
     "metadata": {},
     "output_type": "execute_result"
    }
   ],
   "source": [
    "b_plot"
   ]
  },
  {
   "cell_type": "code",
   "execution_count": 52,
   "metadata": {},
   "outputs": [],
   "source": [
    "C1, _, C2, _ = b_plot.getCorners()"
   ]
  },
  {
   "cell_type": "code",
   "execution_count": 66,
   "metadata": {},
   "outputs": [
    {
     "data": {
      "text/plain": [
       "(Point2I(0, 1006), Point2I(1320, 2369))"
      ]
     },
     "execution_count": 66,
     "metadata": {},
     "output_type": "execute_result"
    }
   ],
   "source": [
    "C1, C2"
   ]
  },
  {
   "cell_type": "code",
   "execution_count": 53,
   "metadata": {},
   "outputs": [],
   "source": [
    "center = 0.5*(np.array(C1) + np.array(C2))"
   ]
  },
  {
   "cell_type": "code",
   "execution_count": 62,
   "metadata": {},
   "outputs": [],
   "source": [
    "n_c = wcs.pixelToSky(lsst.geom.Point2D(center))"
   ]
  },
  {
   "cell_type": "code",
   "execution_count": 67,
   "metadata": {},
   "outputs": [],
   "source": [
    "size = lsst.geom.Extent2I(np.fabs(np.array(C1) - np.array(C2)))"
   ]
  },
  {
   "cell_type": "code",
   "execution_count": 68,
   "metadata": {},
   "outputs": [
    {
     "data": {
      "text/plain": [
       "Extent2I(1320, 1363)"
      ]
     },
     "execution_count": 68,
     "metadata": {},
     "output_type": "execute_result"
    }
   ],
   "source": [
    "size"
   ]
  },
  {
   "cell_type": "code",
   "execution_count": 69,
   "metadata": {},
   "outputs": [],
   "source": [
    "cimg = diffexp.getCutout(n_c,size)"
   ]
  },
  {
   "cell_type": "code",
   "execution_count": 70,
   "metadata": {},
   "outputs": [
    {
     "data": {
      "text/plain": [
       "Box2I(minimum=Point2I(0, 1006), dimensions=Extent2I(1320, 1363))"
      ]
     },
     "execution_count": 70,
     "metadata": {},
     "output_type": "execute_result"
    }
   ],
   "source": [
    "cimg.getBBox()"
   ]
  },
  {
   "cell_type": "code",
   "execution_count": 74,
   "metadata": {},
   "outputs": [],
   "source": [
    "fig = plt.figure()"
   ]
  },
  {
   "cell_type": "code",
   "execution_count": 75,
   "metadata": {},
   "outputs": [],
   "source": [
    "ax = fig.add_subplot(1,1,1)"
   ]
  },
  {
   "cell_type": "code",
   "execution_count": 78,
   "metadata": {},
   "outputs": [
    {
     "data": {
      "text/plain": [
       "<matplotlib.image.AxesImage at 0x7f9d58db5a90>"
      ]
     },
     "execution_count": 78,
     "metadata": {},
     "output_type": "execute_result"
    }
   ],
   "source": [
    "ax.imshow(cimg.getMaskedImage().getImage().getArray(),extent=(0,1320,1006,1363))"
   ]
  },
  {
   "cell_type": "code",
   "execution_count": 79,
   "metadata": {},
   "outputs": [
    {
     "data": {
      "text/plain": [
       "(-1420, 1320)"
      ]
     },
     "execution_count": 79,
     "metadata": {},
     "output_type": "execute_result"
    }
   ],
   "source": [
    "ax.set_xlim(-1420,1320)"
   ]
  },
  {
   "cell_type": "code",
   "execution_count": 80,
   "metadata": {},
   "outputs": [
    {
     "data": {
      "text/plain": [
       "(1005, 2369)"
      ]
     },
     "execution_count": 80,
     "metadata": {},
     "output_type": "execute_result"
    }
   ],
   "source": [
    "ax.set_ylim(1005,2369)"
   ]
  },
  {
   "cell_type": "code",
   "execution_count": 88,
   "metadata": {},
   "outputs": [
    {
     "data": {
      "text/plain": [
       "Box2I(minimum=Point2I(0, 1006), dimensions=Extent2I(1321, 1364))"
      ]
     },
     "execution_count": 88,
     "metadata": {},
     "output_type": "execute_result"
    }
   ],
   "source": [
    "lsst.geom.Box2I(lsst.geom.Box2D(b_plot))"
   ]
  },
  {
   "cell_type": "code",
   "execution_count": null,
   "metadata": {},
   "outputs": [],
   "source": []
  }
 ],
 "metadata": {
  "kernelspec": {
   "display_name": "Python 3",
   "language": "python",
   "name": "python3"
  },
  "language_info": {
   "codemirror_mode": {
    "name": "ipython",
    "version": 3
   },
   "file_extension": ".py",
   "mimetype": "text/x-python",
   "name": "python",
   "nbconvert_exporter": "python",
   "pygments_lexer": "ipython3",
   "version": "3.6.6"
  }
 },
 "nbformat": 4,
 "nbformat_minor": 2
}
