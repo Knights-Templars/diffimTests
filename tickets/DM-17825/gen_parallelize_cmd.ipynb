{
 "cells": [
  {
   "cell_type": "code",
   "execution_count": 12,
   "metadata": {},
   "outputs": [],
   "source": [
    "cmdfmt=\"\"\"ap_pipe.py repo_DM-17825/ingested/ --calib repo_DM-17825/calibingested/ --template repo_DM-17825/templates/ --rerun proc_ps1_2019-02-26 -c ppdb.db_url=\"sqlite:///repo_DM-17825/ingested/rerun/proc_ps1_2019-02-26/association.db\" -c ppdb.isolation_level=\"READ_UNCOMMITTED\" -c ppdb.connection_timeout=240 -c differencer.doWriteMatchedExp=True --id ccdnum={} filter='g' visit={} --configfile repo_DM-17825/config/apPipe_ps1_mod.py --longlog\"\"\""
   ]
  },
  {
   "cell_type": "code",
   "execution_count": 13,
   "metadata": {},
   "outputs": [],
   "source": [
    "miniregion_ccdnums=[3,6,57,60]\n",
    "visits=['410929',  '410931',\n",
    " '410985', '410987', '411035', '411037', '411069', '411071', '411269', '411271', '411319', '411321', '411369', '411371',\n",
    " '411420', '411422', '411470', '411472', '411671', '411673', '411721', '411724', '411772', '411774', '411822', '411824',\n",
    " '411872', '411874', '412074', '412076', '412264', '412266', '412321', '412324', '412518', '412520',\n",
    " '412568', '412570', '412618', '412620', '412668', '412670', '412718', '412720', '413649', '413651',\n",
    " '413694', '413696', '415328', '415330', '415378', '415380', '419802', '419804', '421604', '421606']"
   ]
  },
  {
   "cell_type": "code",
   "execution_count": 14,
   "metadata": {
    "scrolled": false
   },
   "outputs": [],
   "source": [
    "def print_cmds(f=None):\n",
    "    for ccd in miniregion_ccdnums:\n",
    "        V=list(visits)\n",
    "        while len(V)>0:\n",
    "            print (cmdfmt.format(ccd,\"^\".join(V[:10])),file=f)\n",
    "            del V[:10]"
   ]
  },
  {
   "cell_type": "code",
   "execution_count": 15,
   "metadata": {},
   "outputs": [],
   "source": [
    "with open('/home/gkovacs/data/prun_cmd_2019-02-26','w') as f:\n",
    "    print_cmds(f)"
   ]
  },
  {
   "cell_type": "code",
   "execution_count": null,
   "metadata": {},
   "outputs": [],
   "source": []
  }
 ],
 "metadata": {
  "kernelspec": {
   "display_name": "Python 3",
   "language": "python",
   "name": "python3"
  },
  "language_info": {
   "codemirror_mode": {
    "name": "ipython",
    "version": 3
   },
   "file_extension": ".py",
   "mimetype": "text/x-python",
   "name": "python",
   "nbconvert_exporter": "python",
   "pygments_lexer": "ipython3",
   "version": "3.6.6"
  }
 },
 "nbformat": 4,
 "nbformat_minor": 2
}
