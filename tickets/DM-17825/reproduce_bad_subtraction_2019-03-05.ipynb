{
 "cells": [
  {
   "cell_type": "code",
   "execution_count": 36,
   "metadata": {},
   "outputs": [],
   "source": [
    "# Choose one of the matplotlib initialization for interactive or non-interactive\n",
    "%matplotlib qt5\n",
    "#import matplotlib\n",
    "#matplotlib.use('Qt5Agg')"
   ]
  },
  {
   "cell_type": "code",
   "execution_count": 44,
   "metadata": {},
   "outputs": [],
   "source": [
    "%run -n -i \"plot_calexp_template_diffim.py\""
   ]
  },
  {
   "cell_type": "code",
   "execution_count": 18,
   "metadata": {},
   "outputs": [],
   "source": [
    "patchList = ['10,8', '11,8', '12,8', '13,8',\n",
    "             '10,7', '11,7', '12,7', '13,7',\n",
    "             '10,9', '11,9', '12,9', '13,9',\n",
    "             '10,5', '11,5', '12,5', '13,5',\n",
    "             '10,6', '11,6', '12,6', '13,6',\n",
    "             '10,10', '11,10', '12,10', '13,10']"
   ]
  },
  {
   "cell_type": "code",
   "execution_count": 19,
   "metadata": {},
   "outputs": [],
   "source": [
    "cwpRepo = '/home/gkovacs/data/repo_DM-17825/ingested/rerun/proc_2019-02-21'\n",
    "cwpTemplateRepo = '/home/gkovacs/data/repo_DM-17825/templates'\n",
    "my_dbName = '/home/gkovacs/data/repo_DM-17825/ingested/rerun/proc_2019-02-21/association.db'\n",
    "mrawls_dbName = '/home/gkovacs/data/repo_DM-17825/mrawls_cw_processed2/association.db'\n",
    "\n",
    "butlerCwp = dafPersist.Butler(cwpRepo)\n",
    "butlerCwpTemplate = dafPersist.Butler(cwpTemplateRepo)"
   ]
  },
  {
   "cell_type": "code",
   "execution_count": 20,
   "metadata": {},
   "outputs": [],
   "source": [
    "cwpObjTable = loadAllPpdbObjects(cwpRepo)\n",
    "cwpMiniRegion = defMiniRegion(cwpObjTable)\n",
    "cwpMiniUnflagged = cwpMiniRegion & (cwpObjTable['flags'] == 0)\n",
    "cwpObjList = list(cwpObjTable.loc[cwpMiniRegion, 'diaObjectId'])\n",
    "cwpObjList.sort()"
   ]
  },
  {
   "cell_type": "markdown",
   "metadata": {},
   "source": [
    "Plot the regions"
   ]
  },
  {
   "cell_type": "code",
   "execution_count": 6,
   "metadata": {},
   "outputs": [
    {
     "name": "stdout",
     "output_type": "stream",
     "text": [
      "Plotting 144 DIAObjects\n"
     ]
    }
   ],
   "source": [
    "plotMiniRegion(cwpObjTable, cwpMiniRegion, title='CompareWarp')"
   ]
  },
  {
   "cell_type": "code",
   "execution_count": 42,
   "metadata": {},
   "outputs": [
    {
     "name": "stdout",
     "output_type": "stream",
     "text": [
      "11,8\n"
     ]
    }
   ],
   "source": [
    "# Find the patch that belongs to the mini region\n",
    "patch = patchFinder(cwpObjTable.loc[cwpMiniUnflagged,'diaObjectId'].values[0],cwpObjTable,butlerCwpTemplate,patchList)\n",
    "print(patch)"
   ]
  },
  {
   "cell_type": "markdown",
   "metadata": {},
   "source": [
    "Looping through the objects and plotting them in a pdf file"
   ]
  },
  {
   "cell_type": "code",
   "execution_count": 45,
   "metadata": {
    "scrolled": false
   },
   "outputs": [
    {
     "name": "stdout",
     "output_type": "stream",
     "text": [
      "DIAObject ID: 176492687367602387\n",
      "Flags: flags\n",
      "-----\n",
      " 2176\n",
      " 2176\n",
      " 2248\n",
      " 2176\n",
      " 3496\n",
      " 2176\n",
      " 2176\n",
      " 3496\n",
      " 2176\n",
      " 2176\n",
      " 2176\n",
      " 2176\n",
      " 2176\n",
      " 2176\n",
      " 2176\n",
      " 2176\n",
      " 3496\n",
      " 2176\n",
      " 2176\n",
      "RA (deg): [155.2030742]\n",
      "Dec (deg): [-5.78047067]\n",
      "DIASource IDs:    diaSourceId    \n",
      "------------------\n",
      "176492687367602387\n",
      "176493778289295570\n",
      "176539304942633198\n",
      "176639807177359582\n",
      "176660191092146403\n",
      "176661282013839608\n",
      "176682756850319646\n",
      "176703570261835969\n",
      "176811373940965589\n",
      "176812464862658709\n",
      "176832848777445600\n",
      "176834369195868370\n",
      "176854753110655154\n",
      "176876227947135172\n",
      "176877318868828397\n",
      "176897702783615161\n",
      "177176248592629936\n",
      "177218107343896719\n",
      "181078655877775608\n",
      "Data IDs: ccdVisitId\n",
      "----------\n",
      "  41092906\n",
      "  41093160\n",
      "  41103760\n",
      "  41127160\n",
      "  41131906\n",
      "  41132160\n",
      "  41137160\n",
      "  41142006\n",
      "  41167106\n",
      "  41167360\n",
      "  41172106\n",
      "  41172460\n",
      "  41177206\n",
      "  41182206\n",
      "  41182460\n",
      "  41187206\n",
      "  41252060\n",
      "  41261806\n",
      "  42160660\n"
     ]
    }
   ],
   "source": [
    "plot_images(cwpRepo,cwpTemplateRepo,cwpObjList[1],patch,cwpObjTable,plotAllCutouts=True)"
   ]
  },
  {
   "cell_type": "code",
   "execution_count": 11,
   "metadata": {},
   "outputs": [
    {
     "data": {
      "text/plain": [
       "Index(['diaObjectId', 'ra', 'decl', 'nDiaSources', 'gPSFluxMean',\n",
       "       'validityEnd', 'flags'],\n",
       "      dtype='object')"
      ]
     },
     "execution_count": 11,
     "metadata": {},
     "output_type": "execute_result"
    }
   ],
   "source": [
    "cwpObjTable.columns"
   ]
  },
  {
   "cell_type": "code",
   "execution_count": 13,
   "metadata": {},
   "outputs": [],
   "source": [
    "ax=plt.gcf().gca()\n",
    "ax.tick_params(bottom=False)"
   ]
  },
  {
   "cell_type": "code",
   "execution_count": null,
   "metadata": {
    "scrolled": true
   },
   "outputs": [],
   "source": [
    "# Plotting of all cutouts\n",
    "with PdfPages('proc_2019-02-21_diffims.pdf') as W:\n",
    "    for obj in cwpObjList:\n",
    "        print(obj)\n",
    "        plot_images(cwpRepo,cwpTemplateRepo,obj,patch,cwpObjTable,plotAllCutouts=True,pdfWriter=W)"
   ]
  }
 ],
 "metadata": {
  "kernelspec": {
   "display_name": "Python 3",
   "language": "python",
   "name": "python3"
  },
  "language_info": {
   "codemirror_mode": {
    "name": "ipython",
    "version": 3
   },
   "file_extension": ".py",
   "mimetype": "text/x-python",
   "name": "python",
   "nbconvert_exporter": "python",
   "pygments_lexer": "ipython3",
   "version": "3.6.6"
  }
 },
 "nbformat": 4,
 "nbformat_minor": 2
}
