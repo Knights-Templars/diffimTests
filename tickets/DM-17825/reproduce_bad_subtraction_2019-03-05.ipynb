{
 "cells": [
  {
   "cell_type": "code",
   "execution_count": 16,
   "metadata": {},
   "outputs": [],
   "source": [
    "# Choose one of the matplotlib initialization for interactive or non-interactive\n",
    "%matplotlib qt5\n",
    "#import matplotlib\n",
    "#matplotlib.use('Qt5Agg')"
   ]
  },
  {
   "cell_type": "code",
   "execution_count": 17,
   "metadata": {},
   "outputs": [],
   "source": [
    "%run -n -i \"plot_calexp_template_diffim.py\""
   ]
  },
  {
   "cell_type": "code",
   "execution_count": 18,
   "metadata": {},
   "outputs": [],
   "source": [
    "patchList = ['10,8', '11,8', '12,8', '13,8',\n",
    "             '10,7', '11,7', '12,7', '13,7',\n",
    "             '10,9', '11,9', '12,9', '13,9',\n",
    "             '10,5', '11,5', '12,5', '13,5',\n",
    "             '10,6', '11,6', '12,6', '13,6',\n",
    "             '10,10', '11,10', '12,10', '13,10']"
   ]
  },
  {
   "cell_type": "code",
   "execution_count": 19,
   "metadata": {},
   "outputs": [],
   "source": [
    "cwpRepo = '/home/gkovacs/data/repo_DM-17825/ingested/rerun/proc_2019-02-21'\n",
    "cwpTemplateRepo = '/home/gkovacs/data/repo_DM-17825/templates'\n",
    "my_dbName = '/home/gkovacs/data/repo_DM-17825/ingested/rerun/proc_2019-02-21/association.db'\n",
    "mrawls_dbName = '/home/gkovacs/data/repo_DM-17825/mrawls_cw_processed2/association.db'\n",
    "\n",
    "butlerCwp = dafPersist.Butler(cwpRepo)\n",
    "butlerCwpTemplate = dafPersist.Butler(cwpTemplateRepo)"
   ]
  },
  {
   "cell_type": "code",
   "execution_count": 20,
   "metadata": {},
   "outputs": [],
   "source": [
    "cwpObjTable = loadAllPpdbObjects(cwpRepo)\n",
    "cwpMiniRegion = defMiniRegion(cwpObjTable)\n",
    "cwpMiniUnflagged = cwpMiniRegion & (cwpObjTable['flags'] == 0)\n",
    "cwpObjList = list(cwpObjTable.loc[cwpMiniRegion, 'diaObjectId'])\n",
    "cwpObjList.sort()"
   ]
  },
  {
   "cell_type": "markdown",
   "metadata": {},
   "source": [
    "Plot the regions"
   ]
  },
  {
   "cell_type": "code",
   "execution_count": null,
   "metadata": {},
   "outputs": [],
   "source": [
    "plotMiniRegion(cwpObjTable, cwpMiniRegion, title='CompareWarp')"
   ]
  },
  {
   "cell_type": "code",
   "execution_count": 9,
   "metadata": {},
   "outputs": [
    {
     "name": "stdout",
     "output_type": "stream",
     "text": [
      "11,8\n"
     ]
    }
   ],
   "source": [
    "# Find the patch that belongs to the mini region\n",
    "patch = patchFinder(cwpObjTable.loc[cwpMiniUnflagged,'diaObjectId'].values[0],cwpObjTable,butlerCwpTemplate,patchList)\n",
    "print(patch)"
   ]
  },
  {
   "cell_type": "markdown",
   "metadata": {},
   "source": [
    "Looping through the objects and plotting them in a pdf file"
   ]
  },
  {
   "cell_type": "code",
   "execution_count": 21,
   "metadata": {},
   "outputs": [
    {
     "name": "stdout",
     "output_type": "stream",
     "text": [
      "DIAObject ID: 176492687367602387\n",
      "RA (deg): [155.2030742]\n",
      "Dec (deg): [-5.78047067]\n",
      "DIASource IDs: [176492687367602387 176660191092146403 176703570261835969\n",
      " 176811373940965589 176832848777445600 176854753110655154\n",
      " 176876227947135172 176897702783615161 177218107343896719\n",
      " 176493778289295570 176539304942633198 176639807177359582\n",
      " 176661282013839608 176682756850319646 176812464862658709\n",
      " 176834369195868370 176877318868828397 177176248592629936\n",
      " 181078655877775608]\n",
      "Data IDs: [{'visit': 410929, 'ccdnum': 6}, {'visit': 411319, 'ccdnum': 6}, {'visit': 411420, 'ccdnum': 6}, {'visit': 411671, 'ccdnum': 6}, {'visit': 411721, 'ccdnum': 6}, {'visit': 411772, 'ccdnum': 6}, {'visit': 411822, 'ccdnum': 6}, {'visit': 411872, 'ccdnum': 6}, {'visit': 412618, 'ccdnum': 6}, {'visit': 410931, 'ccdnum': 60}, {'visit': 411037, 'ccdnum': 60}, {'visit': 411271, 'ccdnum': 60}, {'visit': 411321, 'ccdnum': 60}, {'visit': 411371, 'ccdnum': 60}, {'visit': 411673, 'ccdnum': 60}, {'visit': 411724, 'ccdnum': 60}, {'visit': 411824, 'ccdnum': 60}, {'visit': 412520, 'ccdnum': 60}, {'visit': 421606, 'ccdnum': 60}]\n"
     ]
    }
   ],
   "source": [
    "plot_images(cwpRepo,cwpTemplateRepo,cwpObjList[1],patch,cwpObjTable,plotAllCutouts=True)"
   ]
  },
  {
   "cell_type": "code",
   "execution_count": 13,
   "metadata": {},
   "outputs": [],
   "source": [
    "ax=plt.gcf().gca()\n",
    "ax.tick_params(bottom=False)"
   ]
  },
  {
   "cell_type": "code",
   "execution_count": null,
   "metadata": {
    "scrolled": true
   },
   "outputs": [],
   "source": [
    "# Plotting of all cutouts\n",
    "with PdfPages('proc_2019-02-21_diffims.pdf') as W:\n",
    "    for obj in cwpObjList:\n",
    "        print(obj)\n",
    "        plot_images(cwpRepo,cwpTemplateRepo,obj,patch,cwpObjTable,plotAllCutouts=True,pdfWriter=W)"
   ]
  }
 ],
 "metadata": {
  "kernelspec": {
   "display_name": "Python 3",
   "language": "python",
   "name": "python3"
  },
  "language_info": {
   "codemirror_mode": {
    "name": "ipython",
    "version": 3
   },
   "file_extension": ".py",
   "mimetype": "text/x-python",
   "name": "python",
   "nbconvert_exporter": "python",
   "pygments_lexer": "ipython3",
   "version": "3.6.6"
  }
 },
 "nbformat": 4,
 "nbformat_minor": 2
}
