{
 "cells": [
  {
   "cell_type": "code",
   "execution_count": 50,
   "metadata": {},
   "outputs": [],
   "source": [
    "# Choose one of the matplotlib initialization for interactive or non-interactive\n",
    "%matplotlib qt5\n",
    "#import matplotlib\n",
    "#matplotlib.use('Qt5Agg')"
   ]
  },
  {
   "cell_type": "code",
   "execution_count": 55,
   "metadata": {},
   "outputs": [],
   "source": [
    "%run -n -i \"plot_calexp_template_diffim.py\""
   ]
  },
  {
   "cell_type": "code",
   "execution_count": 18,
   "metadata": {},
   "outputs": [],
   "source": [
    "patchList = ['10,8', '11,8', '12,8', '13,8',\n",
    "             '10,7', '11,7', '12,7', '13,7',\n",
    "             '10,9', '11,9', '12,9', '13,9',\n",
    "             '10,5', '11,5', '12,5', '13,5',\n",
    "             '10,6', '11,6', '12,6', '13,6',\n",
    "             '10,10', '11,10', '12,10', '13,10']"
   ]
  },
  {
   "cell_type": "code",
   "execution_count": 19,
   "metadata": {},
   "outputs": [],
   "source": [
    "cwpRepo = '/home/gkovacs/data/repo_DM-17825/ingested/rerun/proc_2019-02-21'\n",
    "cwpTemplateRepo = '/home/gkovacs/data/repo_DM-17825/templates'\n",
    "my_dbName = '/home/gkovacs/data/repo_DM-17825/ingested/rerun/proc_2019-02-21/association.db'\n",
    "mrawls_dbName = '/home/gkovacs/data/repo_DM-17825/mrawls_cw_processed2/association.db'\n",
    "\n",
    "butlerCwp = dafPersist.Butler(cwpRepo)\n",
    "butlerCwpTemplate = dafPersist.Butler(cwpTemplateRepo)"
   ]
  },
  {
   "cell_type": "code",
   "execution_count": 20,
   "metadata": {},
   "outputs": [],
   "source": [
    "cwpObjTable = loadAllPpdbObjects(cwpRepo)\n",
    "cwpMiniRegion = defMiniRegion(cwpObjTable)\n",
    "cwpMiniUnflagged = cwpMiniRegion & (cwpObjTable['flags'] == 0)\n",
    "cwpObjList = list(cwpObjTable.loc[cwpMiniRegion, 'diaObjectId'])\n",
    "cwpObjList.sort()"
   ]
  },
  {
   "cell_type": "markdown",
   "metadata": {},
   "source": [
    "Plot the regions"
   ]
  },
  {
   "cell_type": "code",
   "execution_count": 6,
   "metadata": {},
   "outputs": [
    {
     "name": "stdout",
     "output_type": "stream",
     "text": [
      "Plotting 144 DIAObjects\n"
     ]
    }
   ],
   "source": [
    "plotMiniRegion(cwpObjTable, cwpMiniRegion, title='CompareWarp')"
   ]
  },
  {
   "cell_type": "code",
   "execution_count": 42,
   "metadata": {},
   "outputs": [
    {
     "name": "stdout",
     "output_type": "stream",
     "text": [
      "11,8\n"
     ]
    }
   ],
   "source": [
    "# Find the patch that belongs to the mini region\n",
    "patch = patchFinder(cwpObjTable.loc[cwpMiniUnflagged,'diaObjectId'].values[0],cwpObjTable,butlerCwpTemplate,patchList)\n",
    "print(patch)"
   ]
  },
  {
   "cell_type": "markdown",
   "metadata": {},
   "source": [
    "Looping through the objects and plotting them in a pdf file"
   ]
  },
  {
   "cell_type": "code",
   "execution_count": 56,
   "metadata": {
    "scrolled": false
   },
   "outputs": [
    {
     "name": "stdout",
     "output_type": "stream",
     "text": [
      "DIAObject ID: 176493765404393904\n",
      "Flags: flags \n",
      "------\n",
      "133516\n",
      "133516\n",
      "133516\n",
      "RA (deg): [155.21774617]\n",
      "Dec (deg): [-5.6158161]\n",
      "DIASource IDs:    diaSourceId    \n",
      "------------------\n",
      "176493765404393904\n",
      "176704648298627889\n",
      "177176235707728265\n",
      "Data IDs: ccdVisitId\n",
      "----------\n",
      "  41093157\n",
      "  41142257\n",
      "  41252057\n"
     ]
    }
   ],
   "source": [
    "plot_images(cwpRepo,cwpTemplateRepo,176493765404393904,patch,cwpObjTable,plotAllCutouts=True)"
   ]
  },
  {
   "cell_type": "code",
   "execution_count": 11,
   "metadata": {},
   "outputs": [
    {
     "data": {
      "text/plain": [
       "Index(['diaObjectId', 'ra', 'decl', 'nDiaSources', 'gPSFluxMean',\n",
       "       'validityEnd', 'flags'],\n",
       "      dtype='object')"
      ]
     },
     "execution_count": 11,
     "metadata": {},
     "output_type": "execute_result"
    }
   ],
   "source": [
    "cwpObjTable.columns"
   ]
  },
  {
   "cell_type": "code",
   "execution_count": 13,
   "metadata": {},
   "outputs": [],
   "source": [
    "ax=plt.gcf().gca()\n",
    "ax.tick_params(bottom=False)"
   ]
  },
  {
   "cell_type": "code",
   "execution_count": null,
   "metadata": {
    "scrolled": true
   },
   "outputs": [],
   "source": [
    "# Plotting of all cutouts\n",
    "with PdfPages('proc_2019-02-21_diffims.pdf') as W:\n",
    "    for obj in cwpObjList:\n",
    "        print(obj)\n",
    "        plot_images(cwpRepo,cwpTemplateRepo,obj,patch,cwpObjTable,plotAllCutouts=True,pdfWriter=W)"
   ]
  }
 ],
 "metadata": {
  "kernelspec": {
   "display_name": "Python 3",
   "language": "python",
   "name": "python3"
  },
  "language_info": {
   "codemirror_mode": {
    "name": "ipython",
    "version": 3
   },
   "file_extension": ".py",
   "mimetype": "text/x-python",
   "name": "python",
   "nbconvert_exporter": "python",
   "pygments_lexer": "ipython3",
   "version": "3.6.6"
  }
 },
 "nbformat": 4,
 "nbformat_minor": 2
}
