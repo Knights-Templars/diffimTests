{
 "cells": [
  {
   "cell_type": "markdown",
   "id": "quiet-honduras",
   "metadata": {},
   "source": [
    "## DM-22396 Understand why ScaleVarianceTask sometimes scales variance down after warping"
   ]
  },
  {
   "cell_type": "markdown",
   "id": "retired-fever",
   "metadata": {},
   "source": [
    "Notebooks ending with name \"_lsst-devl\" were developed and run on the lsst-devl infrastructure and refer to data generally readable by all users. (There is no guarantee that the data repository is still available though.) "
   ]
  },
  {
   "cell_type": "markdown",
   "id": "amino-stationery",
   "metadata": {},
   "source": [
    "### Conclusions\n",
    "\n",
    "* The ap_verify_hits2015 dataset currently have overestimated variance at least from the \"calexp\" product. The overestimated variance remains in all downstream products: the warped calexp before coaddition (deepCoadd_directWarp), the coadds (deepCoadd), the image difference template stiched together from the coadd and warped into the science exposure.\n",
    "* The coaddition seems to somewhat underestimate the variance, hence the decam correction factors get closer to 1. than the correction factors of the individual calexps (~0.65 -> 0.7). This is just an empirical statement based on the histograms.\n",
    "* The HSC data noise behaves as expected, the correction factor peaks about ~ 1.1\n",
    "* The _image based_ correction pfactor is larger on the coadds than the _pixel based_ correction factor but this cannot be seen on the calexps. The effect is more pronounced on Decam than on HSC.\n",
    "* There are some potential mask bits that are not included in ScaleVarianceTask by default but this does not account for the decam overestimation phenomenon: SENSOR_EDGE, REJECTED\n",
    "\n",
    "* We did not identify the cause of the calexp noise difference between decam and HSC. But it seems to be a good idea to run ScaleVarianceTask on the calexps _before_ the coadds are created. As Yusra pointed out, the main benefit would be making the source detection on the calexps more accurate. (And then we don't need to do variance scaling on the coadds as all downstream steps seem to handle the variance plane accurately.)\n"
   ]
  },
  {
   "cell_type": "code",
   "execution_count": null,
   "id": "southwest-sponsorship",
   "metadata": {},
   "outputs": [],
   "source": []
  }
 ],
 "metadata": {
  "kernelspec": {
   "display_name": "Python 3",
   "language": "python",
   "name": "python3"
  },
  "language_info": {
   "codemirror_mode": {
    "name": "ipython",
    "version": 3
   },
   "file_extension": ".py",
   "mimetype": "text/x-python",
   "name": "python",
   "nbconvert_exporter": "python",
   "pygments_lexer": "ipython3",
   "version": "3.8.6"
  }
 },
 "nbformat": 4,
 "nbformat_minor": 5
}
