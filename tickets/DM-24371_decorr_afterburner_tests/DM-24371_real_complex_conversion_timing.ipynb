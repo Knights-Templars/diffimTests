{
 "cells": [
  {
   "cell_type": "markdown",
   "metadata": {},
   "source": [
    "# Check whether copying to real then multiply complex is faster or slower"
   ]
  },
  {
   "cell_type": "code",
   "execution_count": 1,
   "metadata": {},
   "outputs": [],
   "source": [
    "import numpy as np"
   ]
  },
  {
   "cell_type": "code",
   "execution_count": 2,
   "metadata": {},
   "outputs": [],
   "source": [
    "D = np.random.random((4096, 4096))\n",
    "DF = np.fft.fft2(D)\n",
    "svar = 0.5\n",
    "tvar = 0.5"
   ]
  },
  {
   "cell_type": "markdown",
   "metadata": {},
   "source": [
    "Timing when working with complexes"
   ]
  },
  {
   "cell_type": "code",
   "execution_count": 3,
   "metadata": {},
   "outputs": [
    {
     "name": "stdout",
     "output_type": "stream",
     "text": [
      "304 ms ± 17.9 ms per loop (mean ± std. dev. of 7 runs, 1 loop each)\n"
     ]
    }
   ],
   "source": [
    "%%timeit\n",
    "kft2 = np.conj(DF) * DF\n",
    "denom = svar + tvar*kft2\n",
    "kft = np.sqrt((svar + tvar) / denom)"
   ]
  },
  {
   "cell_type": "markdown",
   "metadata": {},
   "source": [
    "Work with reals - np.real gives a view, fast operation"
   ]
  },
  {
   "cell_type": "code",
   "execution_count": 4,
   "metadata": {},
   "outputs": [
    {
     "name": "stdout",
     "output_type": "stream",
     "text": [
      "177 ms ± 8.58 ms per loop (mean ± std. dev. of 7 runs, 10 loops each)\n"
     ]
    }
   ],
   "source": [
    "%%timeit\n",
    "kft2 = np.real(np.conj(DF) * DF)\n",
    "denom = svar + tvar*kft2\n",
    "kft = np.sqrt((svar + tvar) / denom)\n",
    "kft = kft.astype(dtype=np.complex) # Get back to complex type (this will happen before applying the correction)"
   ]
  },
  {
   "cell_type": "code",
   "execution_count": 5,
   "metadata": {
    "scrolled": true
   },
   "outputs": [
    {
     "name": "stdout",
     "output_type": "stream",
     "text": [
      "148 ms ± 2.96 ms per loop (mean ± std. dev. of 7 runs, 10 loops each)\n"
     ]
    }
   ],
   "source": [
    "%%timeit\n",
    "kft2 = np.real(np.conj(DF) * DF)\n",
    "denom = svar + tvar*kft2\n",
    "kft = np.sqrt((svar + tvar) / denom)\n",
    "#kft = kft.astype(dtype=np.complex)"
   ]
  },
  {
   "cell_type": "markdown",
   "metadata": {},
   "source": [
    "----------"
   ]
  },
  {
   "cell_type": "markdown",
   "metadata": {},
   "source": [
    "Checking whether np.real is also a view - yes. But A.astype is always a copy for float -> complex conversion even if copy=False and input array is a real view of a complex."
   ]
  },
  {
   "cell_type": "code",
   "execution_count": 6,
   "metadata": {},
   "outputs": [
    {
     "data": {
      "text/plain": [
       "array([[ 8.39014451e+06   +0.j        , -1.14087416e+03-1116.33460818j,\n",
       "        -8.07115103e+01 -138.71361682j, ...,\n",
       "         7.04485899e+02 +525.73825084j, -8.07115103e+01 +138.71361682j,\n",
       "        -1.14087416e+03+1116.33460818j],\n",
       "       [-8.55490597e+02 -162.93953278j, -3.82968625e+01 +689.96902753j,\n",
       "         9.82430570e+02-1132.18127105j, ...,\n",
       "         4.13208277e+02 +467.51163545j,  7.83747196e+02 -719.41449113j,\n",
       "        -2.75803774e+02 +269.03177955j],\n",
       "       [-1.26940596e+02 +754.6257781j , -1.70988031e+03+1119.98140135j,\n",
       "        -5.08607245e+02+1347.95032456j, ...,\n",
       "        -2.87254272e+02+1732.39091519j, -4.47648316e+02 +174.3866863j ,\n",
       "         7.37178206e+02 +221.00824873j],\n",
       "       ...,\n",
       "       [-8.96333315e+02 +562.93575007j, -4.50157987e+01 +760.13722566j,\n",
       "        -1.69997365e+02 -103.56023372j, ...,\n",
       "         1.08246578e+03 -138.10135018j,  3.90121554e+02 -791.35340786j,\n",
       "         5.26514446e+02 -542.61653312j],\n",
       "       [-1.26940596e+02 -754.6257781j ,  7.37178206e+02 -221.00824873j,\n",
       "        -4.47648316e+02 -174.3866863j , ...,\n",
       "         4.31375740e+02 +713.02641174j, -5.08607245e+02-1347.95032456j,\n",
       "        -1.70988031e+03-1119.98140135j],\n",
       "       [-8.55490597e+02 +162.93953278j, -2.75803774e+02 -269.03177955j,\n",
       "         7.83747196e+02 +719.41449113j, ...,\n",
       "         8.15120008e+01 +774.42089961j,  9.82430570e+02+1132.18127105j,\n",
       "        -3.82968625e+01 -689.96902753j]])"
      ]
     },
     "execution_count": 6,
     "metadata": {},
     "output_type": "execute_result"
    }
   ],
   "source": [
    "DF"
   ]
  },
  {
   "cell_type": "code",
   "execution_count": 7,
   "metadata": {},
   "outputs": [
    {
     "data": {
      "text/plain": [
       "array([[0.   +0.j        , 0.-1116.33460818j, 0. -138.71361682j, ...,\n",
       "        0. +525.73825084j, 0. +138.71361682j, 0.+1116.33460818j],\n",
       "       [0. -162.93953278j, 0. +689.96902753j, 0.-1132.18127105j, ...,\n",
       "        0. +467.51163545j, 0. -719.41449113j, 0. +269.03177955j],\n",
       "       [0. +754.6257781j , 0.+1119.98140135j, 0.+1347.95032456j, ...,\n",
       "        0.+1732.39091519j, 0. +174.3866863j , 0. +221.00824873j],\n",
       "       ...,\n",
       "       [0. +562.93575007j, 0. +760.13722566j, 0. -103.56023372j, ...,\n",
       "        0. -138.10135018j, 0. -791.35340786j, 0. -542.61653312j],\n",
       "       [0. -754.6257781j , 0. -221.00824873j, 0. -174.3866863j , ...,\n",
       "        0. +713.02641174j, 0.-1347.95032456j, 0.-1119.98140135j],\n",
       "       [0. +162.93953278j, 0. -269.03177955j, 0. +719.41449113j, ...,\n",
       "        0. +774.42089961j, 0.+1132.18127105j, 0. -689.96902753j]])"
      ]
     },
     "execution_count": 7,
     "metadata": {},
     "output_type": "execute_result"
    }
   ],
   "source": [
    "R = np.real(DF)\n",
    "R[...] = 0.\n",
    "DF"
   ]
  },
  {
   "cell_type": "code",
   "execution_count": 8,
   "metadata": {},
   "outputs": [],
   "source": [
    "kft2 = np.real(np.conj(DF) * DF)"
   ]
  },
  {
   "cell_type": "code",
   "execution_count": 9,
   "metadata": {},
   "outputs": [
    {
     "data": {
      "text/plain": [
       "False"
      ]
     },
     "execution_count": 9,
     "metadata": {},
     "output_type": "execute_result"
    }
   ],
   "source": [
    "kft2.base is None"
   ]
  },
  {
   "cell_type": "code",
   "execution_count": 10,
   "metadata": {},
   "outputs": [],
   "source": [
    "A = kft2.astype(dtype=np.complex, copy=False)"
   ]
  },
  {
   "cell_type": "code",
   "execution_count": 11,
   "metadata": {},
   "outputs": [
    {
     "data": {
      "text/plain": [
       "True"
      ]
     },
     "execution_count": 11,
     "metadata": {},
     "output_type": "execute_result"
    }
   ],
   "source": [
    "A.base is None"
   ]
  },
  {
   "cell_type": "code",
   "execution_count": null,
   "metadata": {},
   "outputs": [],
   "source": []
  }
 ],
 "metadata": {
  "kernelspec": {
   "display_name": "Python 3",
   "language": "python",
   "name": "python3"
  },
  "language_info": {
   "codemirror_mode": {
    "name": "ipython",
    "version": 3
   },
   "file_extension": ".py",
   "mimetype": "text/x-python",
   "name": "python",
   "nbconvert_exporter": "python",
   "pygments_lexer": "ipython3",
   "version": "3.7.6"
  }
 },
 "nbformat": 4,
 "nbformat_minor": 2
}
