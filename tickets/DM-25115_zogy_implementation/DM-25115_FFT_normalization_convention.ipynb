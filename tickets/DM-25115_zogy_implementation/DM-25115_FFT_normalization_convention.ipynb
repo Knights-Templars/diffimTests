{
 "cells": [
  {
   "cell_type": "markdown",
   "metadata": {},
   "source": [
    "## Normalization convention of DFT/IDFT\n",
    "\n",
    "$$ x = \\{x_0, x_1, ... , x_n \\} $$\n",
    "$$ X = \\{X_0, X_1, ... , X_k \\} $$\n",
    "The definition of DFT has a normalization convention, usually:\n",
    "\n",
    "$$X_k = \\mathcal{F}(x)_k \\equiv \\sum_n x_n e^{-i\\frac{2\\pi}{N}k\\cdot n} $$\n",
    "$$x_n = \\mathcal{F^{-1}}(X)_n \\equiv \\frac{1}{N}\\sum_k X_k e^{i\\frac{2\\pi}{N}n\\cdot k}$$\n",
    "\n",
    "In this convention, the convolution theorem looks like:\n",
    "\n",
    "$$\\mathcal{F}(x \\otimes y) =  X \\cdot Y$$\n",
    "$$\\mathcal{F}(x\\cdot y) = \\frac{1}{N} X \\otimes Y$$\n",
    "Also:\n",
    "$$\\mathcal{F}(x)_0 = \\sum_n x_n$$\n",
    "These relations however change with factors of $\\sqrt{N}$ if the normalization changes. We must be sure that the correct convention is used by numpy. This is the default as of v1.18."
   ]
  },
  {
   "cell_type": "code",
   "execution_count": 2,
   "metadata": {},
   "outputs": [],
   "source": [
    "%matplotlib inline\n",
    "import matplotlib.pyplot as plt\n",
    "import numpy as np"
   ]
  },
  {
   "cell_type": "code",
   "execution_count": 32,
   "metadata": {},
   "outputs": [],
   "source": [
    "D = np.zeros(16)\n",
    "D[0] = 10 # Dirac delta\n",
    "K = np.zeros(16)\n",
    "K[0] = 0.5\n",
    "K[-1] = 0.5 # Kernel\n",
    "eR = np.zeros(16) # expected convolution result\n",
    "eR[0] = 5\n",
    "eR[-1] = 5"
   ]
  },
  {
   "cell_type": "code",
   "execution_count": 20,
   "metadata": {},
   "outputs": [],
   "source": [
    "fD = np.fft.fft(D,norm='ortho')\n",
    "fK = np.fft.fft(K,norm='ortho')\n",
    "# We need to use sqrt(16) factor here to get the correct convolved result\n",
    "C = np.fft.ifft(4.*fD*fK,norm='ortho')"
   ]
  },
  {
   "cell_type": "code",
   "execution_count": 35,
   "metadata": {},
   "outputs": [
    {
     "name": "stdout",
     "output_type": "stream",
     "text": [
      "[2.5       +0.j         2.40484942+0.47835429j 2.13388348+0.88388348j\n",
      " 1.72835429+1.15484942j 1.25      +1.25j       0.77164571+1.15484942j\n",
      " 0.36611652+0.88388348j 0.09515058+0.47835429j 0.        +0.j\n",
      " 0.09515058-0.47835429j 0.36611652-0.88388348j 0.77164571-1.15484942j\n",
      " 1.25      -1.25j       1.72835429-1.15484942j 2.13388348-0.88388348j\n",
      " 2.40484942-0.47835429j]\n"
     ]
    }
   ],
   "source": [
    "fD = np.fft.fft(D,norm='ortho')\n",
    "fK = np.fft.fft(K,norm='ortho')\n",
    "fR = np.fft.fft(eR,norm='ortho')\n",
    "print(fR)"
   ]
  },
  {
   "cell_type": "code",
   "execution_count": 38,
   "metadata": {},
   "outputs": [
    {
     "name": "stdout",
     "output_type": "stream",
     "text": [
      "[2.5       +0.j         2.40484942+0.47835429j 2.13388348+0.88388348j\n",
      " 1.72835429+1.15484942j 1.25      +1.25j       0.77164571+1.15484942j\n",
      " 0.36611652+0.88388348j 0.09515058+0.47835429j 0.        +0.j\n",
      " 0.09515058-0.47835429j 0.36611652-0.88388348j 0.77164571-1.15484942j\n",
      " 1.25      -1.25j       1.72835429-1.15484942j 2.13388348-0.88388348j\n",
      " 2.40484942-0.47835429j]\n"
     ]
    }
   ],
   "source": [
    "print(4.*fK * fD) # "
   ]
  }
 ],
 "metadata": {
  "kernelspec": {
   "display_name": "Python 3",
   "language": "python",
   "name": "python3"
  },
  "language_info": {
   "codemirror_mode": {
    "name": "ipython",
    "version": 3
   },
   "file_extension": ".py",
   "mimetype": "text/x-python",
   "name": "python",
   "nbconvert_exporter": "python",
   "pygments_lexer": "ipython3",
   "version": "3.7.6"
  }
 },
 "nbformat": 4,
 "nbformat_minor": 4
}
